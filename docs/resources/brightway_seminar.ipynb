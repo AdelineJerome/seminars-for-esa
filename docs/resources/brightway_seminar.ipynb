{
 "cells": [
  {
   "cell_type": "markdown",
   "id": "72f2d9c6-5601-4ab8-b237-53bc93981898",
   "metadata": {},
   "source": [
    "This notebook has been developed for a code-along introductory seminar on using [brightway](https://docs.brightway.dev/en/latest/). You can a more complete guide on brightway [here](https://learn.brightway.dev/en/latest/content/notebooks/BW25_for_beginners.html).\n",
    "\n",
    "More information on the seminars can be found [here](https://adelinejerome.github.io/seminars-for-esa/)."
   ]
  },
  {
   "cell_type": "markdown",
   "id": "feff6aac-acc8-42ca-b0b0-bf732d2c401c",
   "metadata": {},
   "source": [
    "# Importing packages\n",
    "\n",
    "Importing brightway:"
   ]
  },
  {
   "cell_type": "code",
   "execution_count": 1,
   "id": "82d55b91-0c3f-41e7-b7bc-7ce7125ff7b8",
   "metadata": {},
   "outputs": [],
   "source": [
    "import bw2data as bd"
   ]
  },
  {
   "cell_type": "markdown",
   "id": "84fe7d76-d326-495d-8d5f-2731f29069d1",
   "metadata": {},
   "source": [
    "Additionally, we import two other packages:\n",
    "\n",
    "- `pandas` for manipulating tables,\n",
    "- `matplotlib` for generating figures."
   ]
  },
  {
   "cell_type": "code",
   "execution_count": null,
   "id": "a4e6a00d-1c5e-4f3e-87d2-d1dbde48c034",
   "metadata": {},
   "outputs": [],
   "source": []
  },
  {
   "cell_type": "markdown",
   "id": "f082e2c2-9c37-4079-9ad8-06dde3f5cda2",
   "metadata": {},
   "source": [
    "# Set up your project\n",
    "\n",
    "The structure of information is similar to the Activity Browser. The information is structured in different projects, which contains several databases. To get the list of existing projects, use:"
   ]
  },
  {
   "cell_type": "code",
   "execution_count": null,
   "id": "c1c7347b-992a-426c-9fee-d35d5a878d99",
   "metadata": {},
   "outputs": [],
   "source": []
  },
  {
   "cell_type": "markdown",
   "id": "0b4088d0-fb92-47f9-a15c-95123d0b1627",
   "metadata": {},
   "source": [
    "To see which project is currenly loaded:"
   ]
  },
  {
   "cell_type": "code",
   "execution_count": null,
   "id": "24b8c877-d8e3-4040-95ae-30f9cb8313db",
   "metadata": {},
   "outputs": [],
   "source": []
  },
  {
   "cell_type": "markdown",
   "id": "fbdc71a8-804d-4103-8712-a0704d346018",
   "metadata": {},
   "source": [
    "To load another project or to create a new project if the project name is not already in the list of exiting projects:"
   ]
  },
  {
   "cell_type": "code",
   "execution_count": 2,
   "id": "a73504bd-7495-49ec-9145-46fc524849bc",
   "metadata": {},
   "outputs": [],
   "source": [
    "bd.projects.set_current(\"brightway_demo\")"
   ]
  },
  {
   "cell_type": "markdown",
   "id": "66287464-449b-4e1c-bcf6-806898e10bf2",
   "metadata": {},
   "source": [
    "To delete a project, use `bd.projects.delete_project`but it returns an error if the project does not exist. With the function below, it tries to delete a project but does nothing if an error is returned."
   ]
  },
  {
   "cell_type": "code",
   "execution_count": 6,
   "id": "8a1d6caa-f689-4789-8187-64b72111e0cf",
   "metadata": {},
   "outputs": [],
   "source": [
    "def reset_brightway_project(project_name):\n",
    "    try:\n",
    "        bd.projects.delete_project(project_name, True)\n",
    "    except ValueError:\n",
    "        pass"
   ]
  },
  {
   "cell_type": "markdown",
   "id": "85a62abd-d964-4633-8c42-210cfc0e0e51",
   "metadata": {},
   "source": [
    "# Manage and import databases\n",
    "\n",
    "To see the list of databases in the current project, use:"
   ]
  },
  {
   "cell_type": "code",
   "execution_count": null,
   "id": "a915e4fc-057b-46de-974a-cf4156b24feb",
   "metadata": {},
   "outputs": [],
   "source": []
  },
  {
   "cell_type": "markdown",
   "id": "36c966e2-5dbb-4920-a876-4b8f26091ac8",
   "metadata": {},
   "source": [
    "## Import the \"biosphere\" database"
   ]
  },
  {
   "cell_type": "code",
   "execution_count": null,
   "id": "e303b52c-2b36-43bb-b196-7afbe8330d8b",
   "metadata": {},
   "outputs": [],
   "source": [
    "bi.bw2setup()"
   ]
  },
  {
   "cell_type": "code",
   "execution_count": null,
   "id": "937045f5-f000-4766-be73-2dd1b145c080",
   "metadata": {},
   "outputs": [],
   "source": []
  },
  {
   "cell_type": "markdown",
   "id": "efbd1466-8936-4edc-b593-237aebf78c5a",
   "metadata": {},
   "source": [
    "Save the biosphere database as `biosphere_db`."
   ]
  },
  {
   "cell_type": "code",
   "execution_count": null,
   "id": "4ba940cc-6768-4f99-a544-6006de29b499",
   "metadata": {},
   "outputs": [],
   "source": []
  },
  {
   "cell_type": "markdown",
   "id": "9fead82f-a0e4-414a-9cda-33320471ae31",
   "metadata": {},
   "source": [
    "## Import ecoinvent\n",
    "\n",
    "When the biosphere database is imported, the ecoinvent database can be imported as well. The importer uses the folder \"datasets\" from the extracted files of the .7z file which can be fount on the [ecoinvent website](https://ecoquery.ecoinvent.org). Report the path of this folder below.\n",
    "\n",
    "**!!!** Be careful that the path is with \"/\" instead of \"\\\\\""
   ]
  },
  {
   "cell_type": "code",
   "execution_count": 3,
   "id": "b8e73465-ee42-4740-a8c6-b1cf46b5df34",
   "metadata": {},
   "outputs": [],
   "source": [
    "path_datasets = \"C:/Users/jeromea/Downloads/ecoinvent_3.9.1_cutoff_ecoSpold02/datasets\""
   ]
  },
  {
   "cell_type": "markdown",
   "id": "7913f7b1-89ed-49d6-9b95-6f631fa35868",
   "metadata": {},
   "source": [
    "The name of the imported database will be:"
   ]
  },
  {
   "cell_type": "code",
   "execution_count": 4,
   "id": "f4ff9334-89be-4d8a-9a89-cb91fb3a43e8",
   "metadata": {},
   "outputs": [],
   "source": [
    "ei_db_name = \"ecoinvent_391_cutoff\""
   ]
  },
  {
   "cell_type": "markdown",
   "id": "4d5043c5-e737-4fda-aa17-7473943f3c6a",
   "metadata": {},
   "source": [
    "After checking that the same database is not imported twice, the import is done is several steps:\n",
    "\n",
    "1. First, all the datasets are loaded with `bi.SingleOutputEcospold2Importer`,\n",
    "2. Then, the data are changed based on several \"strategies\" which are functions to modify the data,\n",
    "3. You can check that things went well with `statistics()`, especially that there is \"0 unlinked exchanges\"\n",
    "4. Finally, the database, for now only in the memory for your python session, is saved to your computer with `write_database()`"
   ]
  },
  {
   "cell_type": "code",
   "execution_count": 5,
   "id": "269a004f-87f0-4ca5-9f63-8a30c33576f0",
   "metadata": {},
   "outputs": [
    {
     "name": "stdout",
     "output_type": "stream",
     "text": [
      "Database has already been imported.\n"
     ]
    }
   ],
   "source": [
    "if ei_db_name in bd.databases:\n",
    "    print(\"Database has already been imported.\")\n",
    "else:\n",
    "    ei_importer = bi.SingleOutputEcospold2Importer(path_datasets, ei_db_name)\n",
    "    ei_importer.apply_strategies()\n",
    "    ei_importer.statistics() \n",
    "    ei_importer.write_database()"
   ]
  },
  {
   "cell_type": "markdown",
   "id": "5ae9c581-bef7-47b4-ab71-b63913f0317e",
   "metadata": {},
   "source": [
    "You can see all the metadata (i.e., the properties for describing the database) of the imported database with:"
   ]
  },
  {
   "cell_type": "code",
   "execution_count": null,
   "id": "33fb1b77-eee5-4851-b96a-e47d6f74fe9e",
   "metadata": {},
   "outputs": [],
   "source": []
  },
  {
   "cell_type": "markdown",
   "id": "49b5148f-cbe1-4136-9a0d-92f40b467ae4",
   "metadata": {},
   "source": [
    "Save the ecoinvent database as `ei_db`:"
   ]
  },
  {
   "cell_type": "code",
   "execution_count": null,
   "id": "65eb4aeb-91b7-4639-b9a7-10c2a9571652",
   "metadata": {},
   "outputs": [],
   "source": []
  },
  {
   "cell_type": "markdown",
   "id": "02723c56-1a46-4306-aacc-aae342a486aa",
   "metadata": {},
   "source": [
    "## Accessing activities and flows\n",
    "\n",
    "To search for activities in a database:"
   ]
  },
  {
   "cell_type": "code",
   "execution_count": null,
   "id": "35b663c8-6d1b-46af-ae10-5676044794ef",
   "metadata": {},
   "outputs": [],
   "source": []
  },
  {
   "cell_type": "markdown",
   "id": "78173735-c1ab-45e8-9816-03cbcac81d21",
   "metadata": {},
   "source": [
    "To return (or \"get\") a specific activity object:"
   ]
  },
  {
   "cell_type": "code",
   "execution_count": null,
   "id": "8bec5075-2ec6-4757-8f89-66f79ce0f610",
   "metadata": {},
   "outputs": [],
   "source": []
  },
  {
   "cell_type": "markdown",
   "id": "04b94a91-d5ff-45cc-ae8e-46f4ba66f15b",
   "metadata": {},
   "source": [
    "To look at all information stored in the activity:"
   ]
  },
  {
   "cell_type": "code",
   "execution_count": null,
   "id": "fc337b62-1581-4601-ac0f-4c7d4663c3a9",
   "metadata": {
    "scrolled": true
   },
   "outputs": [],
   "source": []
  },
  {
   "cell_type": "markdown",
   "id": "88d8509d-3e41-44ac-8824-082886b5c0bc",
   "metadata": {},
   "source": [
    "To look at the exchanges:"
   ]
  },
  {
   "cell_type": "code",
   "execution_count": null,
   "id": "6387460b-555b-488c-b2ac-c85173eef0a0",
   "metadata": {
    "scrolled": true
   },
   "outputs": [],
   "source": []
  },
  {
   "cell_type": "markdown",
   "id": "f482f394-9984-45fe-8753-ebda58719ec7",
   "metadata": {},
   "source": [
    "# Manual creation of a database\n",
    "\n",
    "## Create the database\n",
    "\n",
    "Function to delete a database if it exists in the current project:"
   ]
  },
  {
   "cell_type": "code",
   "execution_count": 6,
   "id": "1ad19bfc-c9e2-465a-9745-61efee2bdb5f",
   "metadata": {},
   "outputs": [],
   "source": [
    "def reset_brightway_database(db_name):\n",
    "    if db_name in bd.databases:\n",
    "        del bd.databases[db_name]"
   ]
  },
  {
   "cell_type": "markdown",
   "id": "09e1a2c6-d71a-4f81-85e2-a4eadab3fd33",
   "metadata": {},
   "source": [
    "Create a new database:"
   ]
  },
  {
   "cell_type": "code",
   "execution_count": null,
   "id": "fba25597-8e99-46a5-9a4a-3c44bb8ed54f",
   "metadata": {},
   "outputs": [],
   "source": []
  },
  {
   "cell_type": "markdown",
   "id": "8dc4140e-6329-4bc7-96f7-f78f57628e9d",
   "metadata": {},
   "source": [
    "Let's check that it was created:"
   ]
  },
  {
   "cell_type": "code",
   "execution_count": null,
   "id": "28cc9923-4bb0-4342-a369-b2f524264b79",
   "metadata": {},
   "outputs": [],
   "source": []
  },
  {
   "cell_type": "markdown",
   "id": "d98f1472-7a43-4983-9505-be346e45fe49",
   "metadata": {},
   "source": [
    "## Add activities\n",
    "\n",
    "Function to delete an activity:"
   ]
  },
  {
   "cell_type": "code",
   "execution_count": 7,
   "id": "b882bdaf-36b7-4467-bf52-6a7b17e043a9",
   "metadata": {},
   "outputs": [
    {
     "ename": "NameError",
     "evalue": "name 'motor_db' is not defined",
     "output_type": "error",
     "traceback": [
      "\u001b[1;31m---------------------------------------------------------------------------\u001b[0m",
      "\u001b[1;31mNameError\u001b[0m                                 Traceback (most recent call last)",
      "Cell \u001b[1;32mIn[7], line 1\u001b[0m\n\u001b[1;32m----> 1\u001b[0m \u001b[38;5;28;01mdef\u001b[39;00m \u001b[38;5;21mreset_activity\u001b[39m(act_name, database\u001b[38;5;241m=\u001b[39m\u001b[43mmotor_db\u001b[49m):\n\u001b[0;32m      2\u001b[0m     \u001b[38;5;28;01mfor\u001b[39;00m activity \u001b[38;5;129;01min\u001b[39;00m [act \u001b[38;5;28;01mfor\u001b[39;00m act \u001b[38;5;129;01min\u001b[39;00m motor_db \u001b[38;5;28;01mif\u001b[39;00m act[\u001b[38;5;124m'\u001b[39m\u001b[38;5;124mname\u001b[39m\u001b[38;5;124m'\u001b[39m]\u001b[38;5;241m==\u001b[39mact_name]:\n\u001b[0;32m      3\u001b[0m         activity\u001b[38;5;241m.\u001b[39mdelete()\n",
      "\u001b[1;31mNameError\u001b[0m: name 'motor_db' is not defined"
     ]
    }
   ],
   "source": [
    "def reset_activity(act_name, database=motor_db):\n",
    "    for activity in [act for act in motor_db if act['name']==act_name]:\n",
    "        activity.delete()"
   ]
  },
  {
   "cell_type": "markdown",
   "id": "b6a9062f-4a3b-4b84-b1a9-24b1640e01d2",
   "metadata": {},
   "source": [
    "Create an activity:"
   ]
  },
  {
   "cell_type": "code",
   "execution_count": null,
   "id": "ac926c56-2318-422a-ac39-0dcb68b01e30",
   "metadata": {},
   "outputs": [],
   "source": []
  },
  {
   "cell_type": "markdown",
   "id": "88771db9-9014-4f12-868b-b30beb8abf4c",
   "metadata": {},
   "source": [
    "Create an exchange:"
   ]
  },
  {
   "cell_type": "code",
   "execution_count": null,
   "id": "94f71184-caf9-4699-ae70-4307c0a2bf5f",
   "metadata": {},
   "outputs": [],
   "source": []
  },
  {
   "cell_type": "markdown",
   "id": "2fa892e0-7fbc-40b7-bb11-16917109ba91",
   "metadata": {},
   "source": [
    "**Inputs from ecoinvent**\n",
    "\n",
    "First, let get the necessary activities from ecoinvent:"
   ]
  },
  {
   "cell_type": "code",
   "execution_count": null,
   "id": "90c92521-25d1-443d-a1a6-a6505ace885a",
   "metadata": {},
   "outputs": [],
   "source": []
  },
  {
   "cell_type": "code",
   "execution_count": 29,
   "id": "b61b6738-ffb1-498c-91de-a1efb22c1f34",
   "metadata": {},
   "outputs": [],
   "source": [
    "act_steel_low_alloyed = ei_db.get(name=\"market for steel, low-alloyed\", location=\"GLO\")"
   ]
  },
  {
   "cell_type": "code",
   "execution_count": 30,
   "id": "7bf2ad2f-d602-4cf8-8d7d-526f64cf7e5e",
   "metadata": {},
   "outputs": [],
   "source": [
    "act_copper = ei_db.get(name=\"market for copper, cathode\", location=\"GLO\")"
   ]
  },
  {
   "cell_type": "code",
   "execution_count": 31,
   "id": "f55cd2d3-16c3-4516-a60a-89b393d65674",
   "metadata": {},
   "outputs": [],
   "source": [
    "act_insulation = ei_db.get(name=\"market for epoxy resin, liquid\", location=\"RER\")"
   ]
  },
  {
   "cell_type": "code",
   "execution_count": 32,
   "id": "c505789d-0fe7-45ad-a248-55f82c4f4255",
   "metadata": {},
   "outputs": [],
   "source": [
    "act_elec = ei_db.get(name=\"market for electricity, high voltage\", location=\"SE\")"
   ]
  },
  {
   "cell_type": "code",
   "execution_count": 33,
   "id": "9b879f68-fd20-439b-bc89-22642338cf77",
   "metadata": {},
   "outputs": [],
   "source": [
    "act_incineration_insulation = ei_db.get(name=\"treatment of waste plastic, mixture, municipal incineration with fly ash extraction\", location=\"CH\", unit=\"kilogram\")"
   ]
  },
  {
   "cell_type": "code",
   "execution_count": 34,
   "id": "fa6c3355-d6ec-4b79-aec2-a522da64c7f1",
   "metadata": {},
   "outputs": [],
   "source": [
    "act_incineration_copper = ei_db.get(name=\"treatment of copper in car shredder residue, municipal incineration with fly ash extraction\", location=\"CH\")"
   ]
  },
  {
   "cell_type": "markdown",
   "id": "750383da-3803-4c55-89af-5ee354b4bfcc",
   "metadata": {},
   "source": [
    "**Parameters**\n",
    "\n",
    "Then the value of different parameters useful to create the activities."
   ]
  },
  {
   "cell_type": "code",
   "execution_count": 35,
   "id": "4819f3d4-2b91-4a70-87af-503e8f4a6a82",
   "metadata": {},
   "outputs": [],
   "source": [
    "qt_steel_unalloyed = 26600 #kg\n",
    "qt_steel_low_alloyed = 4100 #kg\n",
    "qt_copper = 3600 #kg\n",
    "qt_insulation = 400 #kg\n",
    "weight_motor = qt_steel_unalloyed + qt_steel_low_alloyed + qt_copper + qt_insulation\n",
    "output_power = 16000 #kW\n",
    "op_hours = 8400 #hours per year\n",
    "lifetime = 20 #years\n",
    "efficiency = 0.973"
   ]
  },
  {
   "cell_type": "markdown",
   "id": "f10ac515-97a0-4cf9-8833-666bf60bc816",
   "metadata": {},
   "source": [
    "**Activities creation**"
   ]
  },
  {
   "cell_type": "code",
   "execution_count": null,
   "id": "b5528fdc-0b47-4ec9-acbc-0690b14d035d",
   "metadata": {},
   "outputs": [],
   "source": []
  },
  {
   "cell_type": "markdown",
   "id": "466aa935-3714-4874-9cf2-2726f6289eea",
   "metadata": {},
   "source": [
    "# First LCA calculation\n",
    "\n",
    "## Selection of impact assessment methods\n",
    "\n",
    "List of all available methods:"
   ]
  },
  {
   "cell_type": "code",
   "execution_count": null,
   "id": "b863b36b-8ed3-43a4-a303-8a33e089a934",
   "metadata": {},
   "outputs": [],
   "source": []
  },
  {
   "cell_type": "markdown",
   "id": "aa1e8333-096f-49e0-a162-75b21e29269d",
   "metadata": {},
   "source": [
    "For searching in the list of methods, use conditions in the list:"
   ]
  },
  {
   "cell_type": "code",
   "execution_count": null,
   "id": "ab86c180-3518-4e60-9dc9-a99895038998",
   "metadata": {},
   "outputs": [],
   "source": []
  },
  {
   "cell_type": "markdown",
   "id": "f085399c-bb0d-4944-bf0a-1428d860f59a",
   "metadata": {},
   "source": [
    "Methods can be selected when knowing the tuple for their name:"
   ]
  },
  {
   "cell_type": "code",
   "execution_count": null,
   "id": "c4bbfbd8-45cd-4376-8efe-20ecfa0a5816",
   "metadata": {},
   "outputs": [],
   "source": []
  },
  {
   "cell_type": "markdown",
   "id": "47df0cec-ac5f-44c3-bc89-11f358ff5d08",
   "metadata": {},
   "source": [
    "Or by selecting the items in a list:"
   ]
  },
  {
   "cell_type": "code",
   "execution_count": null,
   "id": "b6862d40-5830-4587-8ae7-6b82c57e85b7",
   "metadata": {},
   "outputs": [],
   "source": []
  },
  {
   "cell_type": "markdown",
   "id": "508c099b-685c-4abc-8f75-ad547dde3d07",
   "metadata": {},
   "source": [
    "## Impact assessment"
   ]
  },
  {
   "cell_type": "code",
   "execution_count": null,
   "id": "62c0ccbb-9a35-4c39-83f7-1b4bca6a8a74",
   "metadata": {},
   "outputs": [],
   "source": []
  },
  {
   "cell_type": "markdown",
   "id": "8bcc5b77-3c89-4e8f-81ae-1f1143278cda",
   "metadata": {},
   "source": [
    "Calculate another impact category:"
   ]
  },
  {
   "cell_type": "code",
   "execution_count": null,
   "id": "aeb3bbab-110b-4639-85b5-c2e0b63ede0a",
   "metadata": {},
   "outputs": [],
   "source": []
  },
  {
   "cell_type": "markdown",
   "id": "ad2132de-52b6-4bb9-a2fe-66c2a1709c36",
   "metadata": {},
   "source": [
    "Here is a function to calculate the impact for several impact categories and return the results in a table:"
   ]
  },
  {
   "cell_type": "code",
   "execution_count": 8,
   "id": "0570f91d-57ac-400f-849a-9544e0569752",
   "metadata": {},
   "outputs": [],
   "source": [
    "def lca_results(fu, list_methods):\n",
    "    list_units = [bd.methods.get(method)[\"unit\"] for method in list_methods]\n",
    "    lca = bc.LCA(demand=fu, method=list_methods[0])\n",
    "    lca.lci()\n",
    "    lca.lcia()\n",
    "    list_scores = [lca.score]\n",
    "    for method in list_methods[1:]:\n",
    "        lca.switch_method(method)\n",
    "        lca.lcia()\n",
    "        list_scores.append(lca.score)\n",
    "    return pd.DataFrame({\"score\": list_scores, \"unit\": list_units, \"method\": list_methods})"
   ]
  },
  {
   "cell_type": "code",
   "execution_count": null,
   "id": "c7f0bfab-d906-41b0-a8c6-43b516547510",
   "metadata": {},
   "outputs": [],
   "source": []
  },
  {
   "cell_type": "markdown",
   "id": "3f405e96-c606-4e0b-a851-efc55d2104bd",
   "metadata": {},
   "source": [
    "## Basic contribution analysis\n",
    "\n",
    "Brightway provides functions for contribution analysis with the top processes:"
   ]
  },
  {
   "cell_type": "code",
   "execution_count": null,
   "id": "6c772bdc-1303-4f87-82ae-3b672df163b2",
   "metadata": {},
   "outputs": [],
   "source": []
  },
  {
   "cell_type": "markdown",
   "id": "782066e6-d169-40cb-a0f5-8b15ebf147b1",
   "metadata": {},
   "source": [
    "And with the top contributing elementary flows:"
   ]
  },
  {
   "cell_type": "code",
   "execution_count": null,
   "id": "690a57f7-956a-452b-85d1-6c992163cdb9",
   "metadata": {},
   "outputs": [],
   "source": []
  },
  {
   "cell_type": "markdown",
   "id": "87e9ab4f-66e0-4de5-80a9-5ab61f7da551",
   "metadata": {},
   "source": [
    "## Customised contribution analysis\n",
    "\n",
    "Here I provide functions for contribution analysis for the processes in the created database:"
   ]
  },
  {
   "cell_type": "code",
   "execution_count": 9,
   "id": "58812760-736f-471e-b422-7f5ed592c928",
   "metadata": {},
   "outputs": [],
   "source": [
    "def table_recursive_multi_calculation_dbparent_cut(activity, lcia_methods, amount=1, level=0, max_level=3, db_parent=None, db_cut=['ecoinvent'], act_parent={\"name\": None}):\n",
    "    \"\"\"\n",
    "    Returns a table (DataFrame) with the contribution tree for a given activity and various LCIA methods.\n",
    "    The contribution tree does not contain sub-activities if the activity is from a database in db_cut (to avoid \n",
    "    having details on ecoinvent datasets and to stay in my own model) and has the maximum level max_level.\n",
    "    Columns for the returned table: level, activity, activity parent, database parent, and str(method) for all LCIA method explored.\n",
    "    \"\"\"\n",
    "    \n",
    "    lca_score = lca_results({activity: amount}, lcia_methods)\n",
    "    table = pd.DataFrame([[level, activity[\"name\"], act_parent[\"name\"], db_parent]+ list(lca_score[\"score\"])], columns=[\"level\", \"activity\", \"activity parent\", \"database parent\"]+[str(m) for m in lcia_methods])\n",
    "    if level < max_level:\n",
    "        db_parent = activity['database']\n",
    "        go_forward = True\n",
    "        for stop_word in db_cut:\n",
    "            if stop_word in db_parent:\n",
    "                go_forward = False\n",
    "        if go_forward:\n",
    "            for exc in activity.technosphere():\n",
    "                table = pd.concat([table, table_recursive_multi_calculation_dbparent_cut(\n",
    "                    activity=exc.input, \n",
    "                    lcia_methods=lcia_methods, \n",
    "                    amount=amount * exc['amount'], \n",
    "                    level=level + 1, \n",
    "                    max_level=max_level,\n",
    "                    db_parent = db_parent,\n",
    "                    act_parent = activity\n",
    "                )], ignore_index=True)\n",
    "    return table"
   ]
  },
  {
   "cell_type": "code",
   "execution_count": 10,
   "id": "4ad5f701-92ea-4634-974d-ef9ddd1bbba7",
   "metadata": {},
   "outputs": [],
   "source": [
    "def table_recursive_multi_calculation_dbcut(activity, lcia_methods, amount=1, level=0, max_level=3, db_activity='motor_case', db_cut=['ecoinvent', 'biosphere']):\n",
    "    \"\"\"\n",
    "    Returns a table (DataFrame) with the contribution tree for a given activity and various LCIA methods.\n",
    "    The contribution tree does not contain activities if they are from a database in db_cut (to avoid \n",
    "    having details on ecoinvent datasets and to stay in my own model) and has the maximum level max_level.\n",
    "    Columns for the returned table: level, activity, database, and str(method) for all LCIA method explored.\n",
    "    \"\"\"\n",
    "    \n",
    "    lca_score = lca_results({activity: amount}, lcia_methods)\n",
    "    table = pd.DataFrame([[level, activity[\"name\"], db_activity]+ list(lca_score[\"score\"])], columns=[\"level\", \"activity\", \"database\"]+[str(m) for m in lcia_methods])\n",
    "    if level < max_level:\n",
    "        for exc in activity.technosphere():\n",
    "            db_exc = exc.input['database']\n",
    "            go_forward = True\n",
    "            for stop_word in db_cut:\n",
    "                if stop_word in db_exc:\n",
    "                    go_forward = False\n",
    "            if go_forward:\n",
    "                table = pd.concat([table, table_recursive_multi_calculation_dbcut(\n",
    "                    activity=exc.input, \n",
    "                    lcia_methods=lcia_methods, \n",
    "                    amount=amount * exc['amount'], \n",
    "                    level=level + 1, \n",
    "                    max_level=max_level,\n",
    "                    db_activity = db_exc\n",
    "                )], ignore_index=True)\n",
    "    return table"
   ]
  },
  {
   "cell_type": "code",
   "execution_count": null,
   "id": "d2d6919f-4292-4534-8efc-53426d66c571",
   "metadata": {},
   "outputs": [],
   "source": []
  },
  {
   "cell_type": "markdown",
   "id": "46783ec4-5dc2-44f6-8c2f-c95503e62964",
   "metadata": {},
   "source": [
    "## Figures\n",
    "\n",
    "Here is a way to generate a box plot figure."
   ]
  },
  {
   "cell_type": "code",
   "execution_count": 11,
   "id": "99e1abf9-859e-4e53-b4cd-195108688711",
   "metadata": {},
   "outputs": [],
   "source": [
    "own_colors = {\n",
    "    \"motor production\":\"#1f78b4\", #blue\n",
    "    \"motor use\":\"#969696\", #gray\n",
    "    \"motor EoL treatment\": \"#41ae76\", #green\n",
    "    \"motor testing\":\"#fff7bc\" #yellow\n",
    "}"
   ]
  },
  {
   "cell_type": "code",
   "execution_count": 65,
   "id": "2fbd4dd5-f71d-4b2e-bb0f-5a4148423b48",
   "metadata": {},
   "outputs": [],
   "source": [
    "table_results = "
   ]
  },
  {
   "cell_type": "code",
   "execution_count": 12,
   "id": "7d177097-7c50-4d1f-a80d-c64b4e3eab6c",
   "metadata": {},
   "outputs": [],
   "source": [
    "def basic_bar_chart(table_results, legend_x_axis, own_colors=own_colors):\n",
    "    table_figure = table_results.set_index(table_results[\"activity\"])\n",
    "    number_methods = table_figure.shape[1] - 3\n",
    "\n",
    "    fig, ax = plt.subplots(1, number_methods)\n",
    "    x_axis = [0]\n",
    "\n",
    "    for n_fig, method in enumerate(table_figure.columns[3:]):\n",
    "        for activity in table_figure.index:\n",
    "            if n_fig == 0:\n",
    "                ax[n_fig].bar(\n",
    "                    x_axis, \n",
    "                    table_figure.loc[activity, method], \n",
    "                    label=activity, \n",
    "                    color=own_colors[activity]\n",
    "                )\n",
    "            else:\n",
    "                ax[n_fig].bar(\n",
    "                    x_axis, \n",
    "                    table_figure.loc[activity, method], \n",
    "                    color=own_colors[activity]\n",
    "                )\n",
    "    \n",
    "    fig.tight_layout()\n",
    "    for n_fig in range(number_methods):\n",
    "        ax[n_fig].grid(True, axis='y', linewidth=0.4)\n",
    "        ax[n_fig].set_xticks(x_axis)\n",
    "        ax[n_fig].set_xticklabels([legend_x_axis[n_fig]], fontsize=14)\n",
    "    \n",
    "    fig.legend(loc='lower center', ncol=5)\n",
    "    plt.subplots_adjust(bottom=0.15)\n",
    "    \n",
    "    return plt.show()"
   ]
  },
  {
   "cell_type": "code",
   "execution_count": null,
   "id": "1b0aba14-b389-4f02-afdc-38409fb35261",
   "metadata": {},
   "outputs": [],
   "source": []
  },
  {
   "cell_type": "markdown",
   "id": "1b6fd4c7-40e3-4de6-bccb-aad0e8a3454e",
   "metadata": {},
   "source": [
    "# Different scenarios"
   ]
  },
  {
   "cell_type": "markdown",
   "id": "4d111458-ea0f-4f3d-b713-76838a94c414",
   "metadata": {},
   "source": [
    "## Data"
   ]
  },
  {
   "cell_type": "code",
   "execution_count": 81,
   "id": "a723347b-0474-419f-95a2-44396ee3a423",
   "metadata": {},
   "outputs": [],
   "source": [
    "data_low_efficiency = {\n",
    "    \"qt_steel_unalloyed\": 26600, #kg\n",
    "    \"qt_steel_low_alloyed\": 4100, #kg\n",
    "    \"qt_copper\": 3600, #kg\n",
    "    \"qt_insulation\": 400, #kg\n",
    "    \"weight_motor\": 26600+4100+3600+400, #kg\n",
    "    \"lifetime\": 20, #years\n",
    "    \"efficiency\": 0.973\n",
    "}"
   ]
  },
  {
   "cell_type": "code",
   "execution_count": 82,
   "id": "3b32ed66-e702-4385-b565-607a914ed549",
   "metadata": {},
   "outputs": [],
   "source": [
    "data_high_efficiency = {\n",
    "    \"qt_steel_unalloyed\": 18000, #kg\n",
    "    \"qt_steel_low_alloyed\": 9200, #kg\n",
    "    \"qt_copper\": 3800, #kg\n",
    "    \"qt_insulation\": 300, #kg\n",
    "    \"weight_motor\": 18000+9200+3800+300, #kg\n",
    "    \"lifetime\": 20, #years\n",
    "    \"efficiency\": 0.9835\n",
    "}"
   ]
  },
  {
   "cell_type": "code",
   "execution_count": 83,
   "id": "ea895ea3-0133-46b1-a503-4bd07113fc0e",
   "metadata": {},
   "outputs": [],
   "source": [
    "data_repair_low_efficiency = {\n",
    "    \"qt_steel_unalloyed\": 26600, #kg\n",
    "    \"qt_steel_low_alloyed\": 4100, #kg\n",
    "    \"qt_copper\": 3600*1.5, #kg\n",
    "    \"qt_insulation\": 400*1.5, #kg\n",
    "    \"weight_motor\": 26600+4100+3600*1.5+400*1.5, #kg\n",
    "    \"lifetime\": 40, #years\n",
    "    \"efficiency\": 0.973\n",
    "}"
   ]
  },
  {
   "cell_type": "code",
   "execution_count": 84,
   "id": "9007e1dd-f0a5-4a63-9073-f5ffd32e4a2b",
   "metadata": {},
   "outputs": [],
   "source": [
    "data_repair_high_efficiency = {\n",
    "    \"qt_steel_unalloyed\": 18000, #kg\n",
    "    \"qt_steel_low_alloyed\": 9200, #kg\n",
    "    \"qt_copper\": 3800*1.5, #kg\n",
    "    \"qt_insulation\": 300*1.5, #kg\n",
    "    \"weight_motor\": 18000+9200+3800*1.5+300*1.5, #kg\n",
    "    \"lifetime\": 40, #years\n",
    "    \"efficiency\": 0.9835\n",
    "}"
   ]
  },
  {
   "cell_type": "markdown",
   "id": "42c2e57c-86d0-4c78-bbcc-318c0d3eab76",
   "metadata": {},
   "source": [
    "## Generation of results"
   ]
  },
  {
   "cell_type": "code",
   "execution_count": null,
   "id": "3b2f119a-f83a-40b9-a5c2-4b8186d8404d",
   "metadata": {},
   "outputs": [],
   "source": []
  },
  {
   "cell_type": "markdown",
   "id": "bb46641e-edfd-41c9-bd1e-e6dffa02142d",
   "metadata": {},
   "source": [
    "## Figures"
   ]
  },
  {
   "cell_type": "code",
   "execution_count": 156,
   "id": "03899ea7-e1a6-4806-b63a-8b01143e1700",
   "metadata": {},
   "outputs": [],
   "source": [
    "def figure_comparison_scenarios(table_results_scenarios, legend_x_axis):\n",
    "    number_methods = 2\n",
    "\n",
    "    fig, ax = plt.subplots(1, number_methods)\n",
    "    x_axis = [i for i in range(len(dict_scenarios))]\n",
    "\n",
    "    for index in table_results_scenarios.index:\n",
    "        ax[index%2].bar(x_axis[index//2], table_results_scenarios.loc[index, \"score\"])\n",
    "    \n",
    "    fig.tight_layout()\n",
    "    for n_fig in range(number_methods):\n",
    "        ax[n_fig].grid(True, axis='y', linewidth=0.4)\n",
    "        ax[n_fig].set_xticks(x_axis)\n",
    "        ax[n_fig].set_xticklabels(legend_x_axis, rotation=90)\n",
    "        ax[n_fig].set_ylabel(table_results_scenarios.loc[n_fig, \"unit\"])\n",
    "\n",
    "    plt.subplots_adjust(wspace=0.3)\n",
    "    \n",
    "    return plt.show()"
   ]
  },
  {
   "cell_type": "code",
   "execution_count": null,
   "id": "d3c07c71-cc0c-4ff2-bcd3-738504939b89",
   "metadata": {},
   "outputs": [],
   "source": []
  }
 ],
 "metadata": {
  "kernelspec": {
   "display_name": "Python 3 (ipykernel)",
   "language": "python",
   "name": "python3"
  },
  "language_info": {
   "codemirror_mode": {
    "name": "ipython",
    "version": 3
   },
   "file_extension": ".py",
   "mimetype": "text/x-python",
   "name": "python",
   "nbconvert_exporter": "python",
   "pygments_lexer": "ipython3",
   "version": "3.11.6"
  }
 },
 "nbformat": 4,
 "nbformat_minor": 5
}
