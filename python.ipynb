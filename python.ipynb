{
  "cells": [
    {
      "cell_type": "raw",
      "metadata": {},
      "source": [
        "---\n",
        "title: \"Python\"\n",
        "---"
      ],
      "id": "36040cd7"
    },
    {
      "cell_type": "markdown",
      "metadata": {},
      "source": [
        "# Introduction\n",
        "\n",
        "[Python](https://en.wikipedia.org/wiki/Python_(programming_language)) is a programming language that can be used for many purposes (e.g., data manipulations, calculations, machine learning, graphical user interfaces, web applications).\n",
        "\n",
        "It is, among others, an object-oriented language, meaning that *objects* with *attributes* are manipulated. For instance, for doing an LCA, possible objects and their attributes are:\n",
        "\n",
        "-   a process: name, unit, location, etc.\n",
        "-   a flow: sending process, receiving process, quantity, uncertainty, etc.\n",
        "-   an impact category method: name, unit, list of characterization factors, etc.\n",
        "\n",
        "Then, functions or *methods* are available to manipulate the objects.\n",
        "\n",
        "For a given project, not all objects available for Python are necessary. For instance, objects for doing an LCA are not necessary when doing machine learning, and vice versa. Python is organised in *packages*, i.e., groups of objects and functions usually developed for a specific application.\n",
        "\n",
        "# Installation\n",
        "\n",
        "One of the easiest way to get started with Python is to install Anaconda. [Follow this link](https://www.anaconda.com/download/) to download Anaconda. Then, follow the installation instructions of the installer.\n",
        "\n",
        "## (Optional - Mamba)\n",
        "\n",
        "If you think that you will use Python in the future, I recommend installing and using [Mamba](https://mamba.readthedocs.io/en/latest/index.html). It is much faster for \"solving environments\", i.e., for installing or updating packages, and for creating new environments. For installing it, open an \"Anaconda prompt\" and use the command recommended [here](https://anaconda.org/conda-forge/mamba):\n",
        "\n",
        "```         \n",
        "conda install -c conda-forge mamba\n",
        "```\n",
        "\n",
        "# Managing Python virtual environments\n",
        "\n",
        "A Python virtual environment contains a specific version of Python and a list of packages with specific versions. It is useful when working with core packages that are dependent on different versions of other packages. As an example, the [Activity Browser](ab_page.qmd) uses [brightway](brightway_page.qmd) with specific versions which might not be the latest. If one wants to work both with the Activity Browser *and* the latest version of brightway, the easiest solution is to have two virtual environments: one for the Activity Browser and one for brightway.\n",
        "\n",
        "Here is the [full documentation](https://docs.conda.io/projects/conda/en/latest/user-guide/tasks/manage-environments.html) for managing Python environments with conda (available with [Anaconda](python.qmd#installation)). I summarise below the few commands that are useful on a regular basis. All of them are to be written on an Anaconda prompt.\n",
        "\n",
        "## Navigating between environments\n",
        "\n",
        "To print the list of installed environment, use:\n",
        "```\n",
        "conda info --envs\n",
        "```\n",
        "\n",
        "To *activate* an environment, i.e., to use a specific environment, use:\n",
        "```\n",
        "conda activate my_env\n",
        "```\n",
        "Replace `my_env` with the name of the environment that you want to use. You can see that the environment is activated by having its name in parenthesis. You can have several environments running in parallel (e.g., one for brightway and one for the Activity browser). For that, open several Anaconda prompts and activate different environments in each.\n",
        "\n",
        "To *deactivate* or exit an environment, use:"
      ],
      "id": "ee94f93e"
    },
    {
      "cell_type": "code",
      "metadata": {},
      "source": [
        "conda deactivate"
      ],
      "id": "2ddf3677",
      "execution_count": null,
      "outputs": []
    },
    {
      "cell_type": "markdown",
      "metadata": {},
      "source": [
        "## Managing packages\n",
        "\n",
        "When you have activate \n",
        "\n",
        "\n",
        "# Resources\n",
        "\n",
        "Online books:\n",
        "\n",
        "-   [Python for Data Analysis](https://wesmckinney.com/book/)\n",
        "\n",
        "::: callout-caution\n",
        "## Work in progress\n",
        "\n",
        "This section is still in development!\n",
        ":::"
      ],
      "id": "8f7a4da1"
    }
  ],
  "metadata": {
    "kernelspec": {
      "display_name": "Python 3",
      "language": "python",
      "name": "python3"
    }
  },
  "nbformat": 4,
  "nbformat_minor": 5
}