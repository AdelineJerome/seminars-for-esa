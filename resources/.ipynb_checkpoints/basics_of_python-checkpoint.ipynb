{
 "cells": [
  {
   "cell_type": "markdown",
   "metadata": {},
   "source": [
    "Here are some Python basics to understand coding with brightway.\n",
    "\n",
    "# Data structures\n",
    "\n",
    "Data can be structured in different ways in Python. Here are the essential ones for using brightway.\n",
    "\n",
    "## Lists\n",
    "\n",
    "Group of objects with an order, indexed by consecutive integers (starting at 0)"
   ]
  },
  {
   "cell_type": "code",
   "execution_count": 1,
   "metadata": {},
   "outputs": [
    {
     "data": {
      "text/plain": [
       "['a', 'b', 'c', 'd']"
      ]
     },
     "execution_count": 1,
     "metadata": {},
     "output_type": "execute_result"
    }
   ],
   "source": [
    "list_1 = [\"a\", \"b\", \"c\", \"d\"]\n",
    "list_1"
   ]
  },
  {
   "cell_type": "code",
   "execution_count": 2,
   "metadata": {},
   "outputs": [
    {
     "data": {
      "text/plain": [
       "'c'"
      ]
     },
     "execution_count": 2,
     "metadata": {},
     "output_type": "execute_result"
    }
   ],
   "source": [
    "# acces the object in position 2\n",
    "list_1[2]"
   ]
  },
  {
   "cell_type": "code",
   "execution_count": 3,
   "metadata": {},
   "outputs": [
    {
     "data": {
      "text/plain": [
       "4"
      ]
     },
     "execution_count": 3,
     "metadata": {},
     "output_type": "execute_result"
    }
   ],
   "source": [
    "# List length\n",
    "len(list_1)"
   ]
  },
  {
   "cell_type": "code",
   "execution_count": 4,
   "metadata": {},
   "outputs": [
    {
     "name": "stdout",
     "output_type": "stream",
     "text": [
      "['foo', 'b', 'c', 'd']\n",
      "['foo', 'b', 'c', 'd', 'bar']\n",
      "['foo', 'c', 'd', 'bar']\n"
     ]
    }
   ],
   "source": [
    "# We can modify a specific element in the list\n",
    "list_1[0]=\"foo\"\n",
    "print(list_1)\n",
    "\n",
    "# Add an element at the end of the list\n",
    "list_1.append(\"bar\")\n",
    "print(list_1)\n",
    "\n",
    "# Remove one element\n",
    "del list_1[1]\n",
    "print(list_1)"
   ]
  },
  {
   "cell_type": "code",
   "execution_count": 6,
   "metadata": {},
   "outputs": [
    {
     "data": {
      "text/plain": [
       "['a', 'b', 1, 2]"
      ]
     },
     "execution_count": 6,
     "metadata": {},
     "output_type": "execute_result"
    }
   ],
   "source": [
    "# We can concatenate lists\n",
    "[\"a\", \"b\"] + [1, 2]"
   ]
  },
  {
   "cell_type": "markdown",
   "metadata": {},
   "source": [
    "## Tuples \n",
    "\n",
    "Tuples are groups of objects, ordered, but they cannot be changed (used, e.g., for coordinates)."
   ]
  },
  {
   "cell_type": "code",
   "execution_count": 8,
   "metadata": {},
   "outputs": [
    {
     "data": {
      "text/plain": [
       "2"
      ]
     },
     "execution_count": 8,
     "metadata": {},
     "output_type": "execute_result"
    }
   ],
   "source": [
    "a=(1, 2, 3)\n",
    "a[1]"
   ]
  },
  {
   "cell_type": "code",
   "execution_count": 10,
   "metadata": {},
   "outputs": [
    {
     "ename": "TypeError",
     "evalue": "'tuple' object does not support item assignment",
     "output_type": "error",
     "traceback": [
      "\u001b[1;31m---------------------------------------------------------------------------\u001b[0m",
      "\u001b[1;31mTypeError\u001b[0m                                 Traceback (most recent call last)",
      "Cell \u001b[1;32mIn[10], line 2\u001b[0m\n\u001b[0;32m      1\u001b[0m \u001b[38;5;66;03m# test of changing a value\u001b[39;00m\n\u001b[1;32m----> 2\u001b[0m \u001b[43ma\u001b[49m\u001b[43m[\u001b[49m\u001b[38;5;241;43m1\u001b[39;49m\u001b[43m]\u001b[49m \u001b[38;5;241m=\u001b[39m \u001b[38;5;241m4\u001b[39m\n",
      "\u001b[1;31mTypeError\u001b[0m: 'tuple' object does not support item assignment"
     ]
    }
   ],
   "source": [
    "# test of changing a value\n",
    "a[1] = 4"
   ]
  },
  {
   "cell_type": "markdown",
   "metadata": {},
   "source": [
    "## Dictionaries\n",
    "\n",
    "A group of objects without order, with a key and a definition, indexed by the keys."
   ]
  },
  {
   "cell_type": "code",
   "execution_count": 13,
   "metadata": {},
   "outputs": [],
   "source": [
    "dic1 = {\"key 1\": 1, \"key 2\": [\"a\", 0]}"
   ]
  },
  {
   "cell_type": "code",
   "execution_count": 14,
   "metadata": {},
   "outputs": [
    {
     "name": "stdout",
     "output_type": "stream",
     "text": [
      "{'key 1': 1, 'key 2': ['a', 0], 'other key': 4}\n",
      "{'key 1': 5, 'key 2': ['a', 0], 'other key': 4}\n",
      "{'key 1': 5, 'other key': 4}\n"
     ]
    }
   ],
   "source": [
    "# Add a value \n",
    "dic1[\"other key\"] = 4\n",
    "print(dic1)\n",
    "\n",
    "# Modify a value \n",
    "dic1[\"key 1\"] = 5\n",
    "print(dic1)\n",
    "\n",
    "# Remove a value\n",
    "del dic1[\"key 2\"]\n",
    "print(dic1)"
   ]
  },
  {
   "cell_type": "code",
   "execution_count": 15,
   "metadata": {},
   "outputs": [
    {
     "name": "stdout",
     "output_type": "stream",
     "text": [
      "dict_keys(['key 1', 'other key'])\n",
      "dict_values([5, 4])\n",
      "dict_items([('key 1', 5), ('other key', 4)])\n"
     ]
    }
   ],
   "source": [
    "# List of keys\n",
    "print(dic1.keys())\n",
    "\n",
    "# List of values\n",
    "print(dic1.values())\n",
    "\n",
    "# Lists of key-value pairs\n",
    "print(dic1.items())"
   ]
  },
  {
   "cell_type": "markdown",
   "metadata": {},
   "source": [
    "## Conditional structure (if)\n",
    "\n",
    "Typical commands : if.. then:.. else allows one or other block to be executed depending on a condition. "
   ]
  },
  {
   "cell_type": "code",
   "execution_count": 17,
   "metadata": {},
   "outputs": [
    {
     "name": "stdout",
     "output_type": "stream",
     "text": [
      "A is even (We are in the block 'then')\n",
      "Common code\n"
     ]
    }
   ],
   "source": [
    "a=2\n",
    "\n",
    "if a%2 == 0 :\n",
    "    print(\"A is even (We are in the block 'then')\")    \n",
    "else :\n",
    "    print(\"A is odd (We are in the block 'else')\")\n",
    "\n",
    "# No indentation : we are in the common code block\n",
    "print(\"Common code\")"
   ]
  },
  {
   "cell_type": "markdown",
   "metadata": {},
   "source": [
    "##  \"for\" loop\n",
    "\n",
    "\"for\" loop allows the repetition of a code block for all elements over a given sequence."
   ]
  },
  {
   "cell_type": "code",
   "execution_count": 18,
   "metadata": {},
   "outputs": [
    {
     "name": "stdout",
     "output_type": "stream",
     "text": [
      "Element: a, count:0\n",
      "Element: b, count:1\n",
      "Element: c, count:2\n"
     ]
    }
   ],
   "source": [
    "a = [\"a\", \"b\", \"c\"]\n",
    "\n",
    "for count, element in enumerate(a):\n",
    "    print(\"Element: %s, count:%d\" % (element, count))"
   ]
  },
  {
   "cell_type": "code",
   "execution_count": 19,
   "metadata": {},
   "outputs": [
    {
     "name": "stdout",
     "output_type": "stream",
     "text": [
      "0\n",
      "1\n",
      "2\n"
     ]
    }
   ],
   "source": [
    "for i in range(3):\n",
    "    print(i)"
   ]
  },
  {
   "cell_type": "code",
   "execution_count": 21,
   "metadata": {},
   "outputs": [
    {
     "name": "stdout",
     "output_type": "stream",
     "text": [
      "Key: key 1, val: 2\n",
      "Key: key 2, val: 5\n"
     ]
    }
   ],
   "source": [
    "# Loop on a dictionary\n",
    "dic = {\"key 1\": 2, \"key 2\": 5}\n",
    "\n",
    "for key, val in dic.items() :\n",
    "    print(\"Key: %s, val: %d\" % (key, val))"
   ]
  },
  {
   "cell_type": "markdown",
   "metadata": {},
   "source": [
    "# List comprehension\n",
    "\n",
    "It is possible to create lists with for loops and conditions with if."
   ]
  },
  {
   "cell_type": "code",
   "execution_count": 23,
   "metadata": {},
   "outputs": [
    {
     "data": {
      "text/plain": [
       "[0, 2, 4, 6, 8]"
      ]
     },
     "execution_count": 23,
     "metadata": {},
     "output_type": "execute_result"
    }
   ],
   "source": [
    "[2*item for item in range(5)]"
   ]
  },
  {
   "cell_type": "code",
   "execution_count": 26,
   "metadata": {},
   "outputs": [
    {
     "data": {
      "text/plain": [
       "[1, 3, 5]"
      ]
     },
     "execution_count": 26,
     "metadata": {},
     "output_type": "execute_result"
    }
   ],
   "source": [
    "[item for item in range(6) if item%2 == 1]"
   ]
  },
  {
   "cell_type": "markdown",
   "metadata": {},
   "source": [
    "# Functions\n",
    "\n",
    "Functions allow isolating reusable and parametrizable code blocks."
   ]
  },
  {
   "cell_type": "code",
   "execution_count": 29,
   "metadata": {},
   "outputs": [
    {
     "data": {
      "text/plain": [
       "10"
      ]
     },
     "execution_count": 29,
     "metadata": {},
     "output_type": "execute_result"
    }
   ],
   "source": [
    "def double(parameter_number) :\n",
    "    return 2*parameter_number\n",
    "\n",
    "double(5)"
   ]
  },
  {
   "cell_type": "code",
   "execution_count": 30,
   "metadata": {},
   "outputs": [
    {
     "ename": "NameError",
     "evalue": "name 'parameter_number' is not defined",
     "output_type": "error",
     "traceback": [
      "\u001b[1;31m---------------------------------------------------------------------------\u001b[0m",
      "\u001b[1;31mNameError\u001b[0m                                 Traceback (most recent call last)",
      "Cell \u001b[1;32mIn[30], line 1\u001b[0m\n\u001b[1;32m----> 1\u001b[0m \u001b[43mparameter_number\u001b[49m\n",
      "\u001b[1;31mNameError\u001b[0m: name 'parameter_number' is not defined"
     ]
    }
   ],
   "source": [
    "parameter_number"
   ]
  },
  {
   "cell_type": "code",
   "execution_count": 31,
   "metadata": {},
   "outputs": [
    {
     "name": "stdout",
     "output_type": "stream",
     "text": [
      "a1\n",
      "b defaut\n"
     ]
    }
   ],
   "source": [
    "# Parameters of functions can have a default value\n",
    "def function_test(a, b=\"b defaut\") :\n",
    "    print(a)\n",
    "    print(b)\n",
    "\n",
    "function_test(\"a1\")"
   ]
  }
 ],
 "metadata": {
  "jupytext": {
   "formats": "ipynb,md"
  },
  "kernelspec": {
   "display_name": "Python 3 (ipykernel)",
   "language": "python",
   "name": "python3"
  },
  "language_info": {
   "codemirror_mode": {
    "name": "ipython",
    "version": 3
   },
   "file_extension": ".py",
   "mimetype": "text/x-python",
   "name": "python",
   "nbconvert_exporter": "python",
   "pygments_lexer": "ipython3",
   "version": "3.12.0"
  },
  "toc": {
   "base_numbering": 1,
   "nav_menu": {},
   "number_sections": true,
   "sideBar": true,
   "skip_h1_title": false,
   "title_cell": "Table of Contents",
   "title_sidebar": "Contents",
   "toc_cell": false,
   "toc_position": {},
   "toc_section_display": true,
   "toc_window_display": false
  }
 },
 "nbformat": 4,
 "nbformat_minor": 4
}
