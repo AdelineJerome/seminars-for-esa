{
 "cells": [
  {
   "cell_type": "markdown",
   "id": "72f2d9c6-5601-4ab8-b237-53bc93981898",
   "metadata": {},
   "source": [
    "This notebook has been developed for a code-along introductory seminar on using [brightway](https://docs.brightway.dev/en/latest/). You can a more complete guide on brightway [here](https://learn.brightway.dev/en/latest/content/notebooks/BW25_for_beginners.html).\n",
    "\n",
    "More information on the seminars can be found [here](https://adelinejerome.github.io/seminars-for-esa/)."
   ]
  },
  {
   "cell_type": "markdown",
   "id": "feff6aac-acc8-42ca-b0b0-bf732d2c401c",
   "metadata": {},
   "source": [
    "# Importing packages\n",
    "\n",
    "As [presented in the introductory seminar](https://adelinejerome.github.io/seminars-for-esa/seminar_intro.html), python resources are organised in packages, i.e., groups of objects and functions that can be used. One example is brightway. You have installed the packages in a [python environment](https://adelinejerome.github.io/seminars-for-esa/python.html#managing-python-virtual-environments). But now you must indicate to python that you want to load specific packages that you will be using in your code. You do it with `import name-package`.\n",
    "\n",
    "Later in your code, when you want to use a function from `name-package`, you will have to write `name-package.function` which can be a bit long to type if the name of the package is long... So you can decide to import the package with a \"nickname\", usually very short, with `import name-package as pk`. With this, you will only have to write `pk.function` to use the function `function` from the package `name-package`.\n",
    "\n",
    "Brightway is not *one* package but a group of several with different functions. Let's import them with their respective nickname!"
   ]
  },
  {
   "cell_type": "code",
   "execution_count": 1,
   "id": "82d55b91-0c3f-41e7-b7bc-7ce7125ff7b8",
   "metadata": {},
   "outputs": [],
   "source": [
    "import bw2data as bd\n",
    "import bw2io as bi\n",
    "import bw2calc as bc\n",
    "import bw2analyzer as bwa"
   ]
  },
  {
   "cell_type": "markdown",
   "id": "84fe7d76-d326-495d-8d5f-2731f29069d1",
   "metadata": {},
   "source": [
    "Additionally, we import two other packages:\n",
    "\n",
    "- `pandas` for manipulating tables,\n",
    "- `matplotlib` for generating figures."
   ]
  },
  {
   "cell_type": "code",
   "execution_count": 2,
   "id": "a4e6a00d-1c5e-4f3e-87d2-d1dbde48c034",
   "metadata": {},
   "outputs": [],
   "source": [
    "import pandas as pd\n",
    "import matplotlib.pyplot as plt"
   ]
  },
  {
   "cell_type": "markdown",
   "id": "f082e2c2-9c37-4079-9ad8-06dde3f5cda2",
   "metadata": {},
   "source": [
    "# Set up your project\n",
    "\n",
    "The structure of information is similar to the Activity Browser. The information is structured in different projects, which contains several databases. To get the list of existing projects, use:"
   ]
  },
  {
   "cell_type": "code",
   "execution_count": 3,
   "id": "c1c7347b-992a-426c-9fee-d35d5a878d99",
   "metadata": {},
   "outputs": [
    {
     "data": {
      "text/plain": [
       "Brightway2 projects manager with 13 objects:\n",
       "\tABB case\n",
       "\tElectric motors\n",
       "\tMotor case\n",
       "\tNew motor case\n",
       "\tab_demo\n",
       "\tab_demo_solution\n",
       "\tbrightway2_test\n",
       "\tbrightway_demo\n",
       "\tdefault\n",
       "\tlca_algebraic_handbook\n",
       "\tlifetime_test\n",
       "\tmotor_case\n",
       "\tpLCA course\n",
       "Use `projects.report()` to get a report on all projects."
      ]
     },
     "execution_count": 3,
     "metadata": {},
     "output_type": "execute_result"
    }
   ],
   "source": [
    "bd.projects"
   ]
  },
  {
   "cell_type": "markdown",
   "id": "0b4088d0-fb92-47f9-a15c-95123d0b1627",
   "metadata": {},
   "source": [
    "To see which project is currenly loaded:"
   ]
  },
  {
   "cell_type": "code",
   "execution_count": 4,
   "id": "24b8c877-d8e3-4040-95ae-30f9cb8313db",
   "metadata": {},
   "outputs": [
    {
     "data": {
      "text/plain": [
       "'default'"
      ]
     },
     "execution_count": 4,
     "metadata": {},
     "output_type": "execute_result"
    }
   ],
   "source": [
    "bd.projects.current"
   ]
  },
  {
   "cell_type": "markdown",
   "id": "fbdc71a8-804d-4103-8712-a0704d346018",
   "metadata": {},
   "source": [
    "To load another project or to create a new project if the project name is not already in the list of exiting projects:"
   ]
  },
  {
   "cell_type": "code",
   "execution_count": 5,
   "id": "a73504bd-7495-49ec-9145-46fc524849bc",
   "metadata": {},
   "outputs": [],
   "source": [
    "bd.projects.set_current(\"brightway2_test\")"
   ]
  },
  {
   "cell_type": "markdown",
   "id": "66287464-449b-4e1c-bcf6-806898e10bf2",
   "metadata": {},
   "source": [
    "To delete a project, use `bd.projects.delete_project`but it returns an error if the project does not exist. With the function below, it tries to delete a project but does nothing if an error is returned."
   ]
  },
  {
   "cell_type": "code",
   "execution_count": 6,
   "id": "8a1d6caa-f689-4789-8187-64b72111e0cf",
   "metadata": {},
   "outputs": [],
   "source": [
    "def reset_brightway_project(project_name):\n",
    "    try:\n",
    "        bd.projects.delete_project(project_name, True)\n",
    "    except ValueError:\n",
    "        pass"
   ]
  },
  {
   "cell_type": "markdown",
   "id": "85a62abd-d964-4633-8c42-210cfc0e0e51",
   "metadata": {},
   "source": [
    "# Manage and import databases\n",
    "\n",
    "To see the list of databases in the current project, use:"
   ]
  },
  {
   "cell_type": "code",
   "execution_count": 7,
   "id": "a915e4fc-057b-46de-974a-cf4156b24feb",
   "metadata": {},
   "outputs": [
    {
     "data": {
      "text/plain": [
       "Databases dictionary with 3 object(s):\n",
       "\tbiosphere3\n",
       "\tecoinvent_391_cutoff\n",
       "\tmotor_case"
      ]
     },
     "execution_count": 7,
     "metadata": {},
     "output_type": "execute_result"
    }
   ],
   "source": [
    "bd.databases"
   ]
  },
  {
   "cell_type": "markdown",
   "id": "36c966e2-5dbb-4920-a876-4b8f26091ac8",
   "metadata": {},
   "source": [
    "## Import the \"biosphere\" database\n",
    "\n",
    "The *biosphere* database is containing the elementary flows necessary for ecoinvent. To load it as well as the impact assessment methods implemented with ecoinvent, use:"
   ]
  },
  {
   "cell_type": "code",
   "execution_count": 8,
   "id": "e303b52c-2b36-43bb-b196-7afbe8330d8b",
   "metadata": {},
   "outputs": [
    {
     "name": "stdout",
     "output_type": "stream",
     "text": [
      "Biosphere database already present!!! No setup is needed\n"
     ]
    }
   ],
   "source": [
    "bi.bw2setup()"
   ]
  },
  {
   "cell_type": "markdown",
   "id": "efbd1466-8936-4edc-b593-237aebf78c5a",
   "metadata": {},
   "source": [
    "To search activities in a database or manipulate a database, you need to refer to the database \"object\". Here, the biosphere database is saved as `biosphere_db`."
   ]
  },
  {
   "cell_type": "code",
   "execution_count": 9,
   "id": "4ba940cc-6768-4f99-a544-6006de29b499",
   "metadata": {},
   "outputs": [],
   "source": [
    "biosphere_db = bd.Database(\"biosphere3\")"
   ]
  },
  {
   "cell_type": "markdown",
   "id": "9fead82f-a0e4-414a-9cda-33320471ae31",
   "metadata": {},
   "source": [
    "## Import ecoinvent\n",
    "\n",
    "When the biosphere database is imported, the ecoinvent database can be imported as well. The importer uses the folder \"datasets\" from the extracted files of the .7z file which can be fount on the [ecoinvent website](https://ecoquery.ecoinvent.org). Report the path of this folder below.\n",
    "\n",
    "**!!!** Be careful that the path is with \"/\" instead of \"\\\\\""
   ]
  },
  {
   "cell_type": "code",
   "execution_count": 10,
   "id": "b8e73465-ee42-4740-a8c6-b1cf46b5df34",
   "metadata": {},
   "outputs": [],
   "source": [
    "path_datasets = \"C:/Users/jeromea/Downloads/ecoinvent_3.9.1_cutoff_ecoSpold02/datasets\""
   ]
  },
  {
   "cell_type": "markdown",
   "id": "7913f7b1-89ed-49d6-9b95-6f631fa35868",
   "metadata": {},
   "source": [
    "The name of the imported database will be:"
   ]
  },
  {
   "cell_type": "code",
   "execution_count": 11,
   "id": "f4ff9334-89be-4d8a-9a89-cb91fb3a43e8",
   "metadata": {},
   "outputs": [],
   "source": [
    "ei_db_name = \"ecoinvent_391_cutoff\""
   ]
  },
  {
   "cell_type": "markdown",
   "id": "4d5043c5-e737-4fda-aa17-7473943f3c6a",
   "metadata": {},
   "source": [
    "After checking that the same database is not imported twice, the import is done is several steps:\n",
    "\n",
    "1. First, all the datasets are loaded with `bi.SingleOutputEcospold2Importer`,\n",
    "2. Then, the data are changed based on several \"strategies\" which are functions to modify the data,\n",
    "3. You can check that things went well with `statistics()`, especially that there is \"0 unlinked exchanges\"\n",
    "4. Finally, the database, for now only in the memory for your python session, is saved to your computer with `write_database()`"
   ]
  },
  {
   "cell_type": "code",
   "execution_count": 12,
   "id": "269a004f-87f0-4ca5-9f63-8a30c33576f0",
   "metadata": {},
   "outputs": [
    {
     "name": "stdout",
     "output_type": "stream",
     "text": [
      "Database has already been imported.\n"
     ]
    }
   ],
   "source": [
    "if ei_db_name in bd.databases:\n",
    "    print(\"Database has already been imported.\")\n",
    "else:\n",
    "    ei_importer = bi.SingleOutputEcospold2Importer(path_datasets, ei_db_name)\n",
    "    ei_importer.apply_strategies()\n",
    "    ei_importer.statistics() \n",
    "    ei_importer.write_database()"
   ]
  },
  {
   "cell_type": "markdown",
   "id": "5ae9c581-bef7-47b4-ab71-b63913f0317e",
   "metadata": {},
   "source": [
    "You can see all the metadata (i.e., the properties for describing the database) of the imported database with:"
   ]
  },
  {
   "cell_type": "code",
   "execution_count": 13,
   "id": "33fb1b77-eee5-4851-b96a-e47d6f74fe9e",
   "metadata": {},
   "outputs": [
    {
     "data": {
      "text/plain": [
       "{'overwrite': False,\n",
       " 'format': 'Ecoinvent XML',\n",
       " 'depends': ['biosphere3'],\n",
       " 'backend': 'sqlite',\n",
       " 'number': 21238,\n",
       " 'modified': '2023-12-07T08:54:59.923322',\n",
       " 'searchable': True,\n",
       " 'processed': '2023-12-07T09:00:42.261022'}"
      ]
     },
     "execution_count": 13,
     "metadata": {},
     "output_type": "execute_result"
    }
   ],
   "source": [
    "bd.databases[ei_db_name]"
   ]
  },
  {
   "cell_type": "markdown",
   "id": "49b5148f-cbe1-4136-9a0d-92f40b467ae4",
   "metadata": {},
   "source": [
    "Again, save the database \"object\" to easily search and get activities from it:"
   ]
  },
  {
   "cell_type": "code",
   "execution_count": 14,
   "id": "65eb4aeb-91b7-4639-b9a7-10c2a9571652",
   "metadata": {},
   "outputs": [],
   "source": [
    "ei_db = bd.Database(ei_db_name)"
   ]
  },
  {
   "cell_type": "markdown",
   "id": "02723c56-1a46-4306-aacc-aae342a486aa",
   "metadata": {},
   "source": [
    "## Accessing activities and flows\n",
    "\n",
    "To search for activities in a database, use the function `search`. This function is linked to a database object, so it is written as `bd.Database(\"database_name\").search()`. To avoid the long `bd.Database(\"database_name\")`, the saved dtabase objects are used."
   ]
  },
  {
   "cell_type": "code",
   "execution_count": 15,
   "id": "35b663c8-6d1b-46af-ae10-5676044794ef",
   "metadata": {},
   "outputs": [
    {
     "data": {
      "text/plain": [
       "['Carbon dioxide, fossil' (kilogram, None, ('air',)),\n",
       " 'Carbon dioxide, fossil' (kilogram, None, ('air', 'urban air close to ground')),\n",
       " 'Carbon dioxide, fossil' (kilogram, None, ('air', 'non-urban air or from high stacks')),\n",
       " 'Carbon dioxide, fossil' (kilogram, None, ('air', 'lower stratosphere + upper troposphere')),\n",
       " 'Carbon dioxide, fossil' (kilogram, None, ('air', 'low population density, long-term')),\n",
       " 'Carbon dioxide, non-fossil' (kilogram, None, ('air', 'urban air close to ground')),\n",
       " 'Carbon dioxide, non-fossil' (kilogram, None, ('air',)),\n",
       " 'Carbon dioxide, non-fossil' (kilogram, None, ('air', 'lower stratosphere + upper troposphere')),\n",
       " 'Carbon dioxide, non-fossil' (kilogram, None, ('air', 'low population density, long-term')),\n",
       " 'Carbon dioxide, non-fossil' (kilogram, None, ('air', 'non-urban air or from high stacks')),\n",
       " 'Carbon dioxide, non-fossil, resource correction' (kilogram, None, ('natural resource', 'in air'))]"
      ]
     },
     "execution_count": 15,
     "metadata": {},
     "output_type": "execute_result"
    }
   ],
   "source": [
    "biosphere_db.search(\"Carbon dioxide, fossil\")"
   ]
  },
  {
   "cell_type": "markdown",
   "id": "78173735-c1ab-45e8-9816-03cbcac81d21",
   "metadata": {},
   "source": [
    "To return (or \"get\") a specific activity object, use `bd.Database(\"database_name\").get()` for which you can specify the name, location, unit, etc.\n",
    "\n",
    "But remember that it can return only one activity! Otherwise, it returns an error. Look for the name, location, etc. with the search function before to know if you catch only one activity."
   ]
  },
  {
   "cell_type": "code",
   "execution_count": 16,
   "id": "4b92e3c9-39d0-430b-9f16-9672323e41b1",
   "metadata": {},
   "outputs": [],
   "source": [
    "code_example = ei_db.search(\"transport, passenger car, medium size, petrol, EURO 3 RER\")[1][\"code\"]"
   ]
  },
  {
   "cell_type": "code",
   "execution_count": 17,
   "id": "8bec5075-2ec6-4757-8f89-66f79ce0f610",
   "metadata": {},
   "outputs": [],
   "source": [
    "example_transport = ei_db.get(code_example)"
   ]
  },
  {
   "cell_type": "markdown",
   "id": "04b94a91-d5ff-45cc-ae8e-46f4ba66f15b",
   "metadata": {},
   "source": [
    "To look at all information stored in the activity (but still not the exchanges), use the function `as_dict` on the activity object:"
   ]
  },
  {
   "cell_type": "code",
   "execution_count": 18,
   "id": "fc337b62-1581-4601-ac0f-4c7d4663c3a9",
   "metadata": {
    "scrolled": true
   },
   "outputs": [
    {
     "data": {
      "text/plain": [
       "{'comment': 'This dataset represents the service of transport in a passenger car for a journey length of 1vkm and is valid for Europe. Fuel consumption and emissions are for average vehicle use and not representative of a specific driving cycle. The dataset is parametrized with respect to vehicle size, fuel consumption and vehicle lifetime. \\nDatasets for three different passenger car categories are available in ecoinvent in view of size: small, medium and large.\\nThe category “small” includes passenger cars with engine size up to 1.4 liters. The average weight of this category is estimated to be 1200 kg. \\nThe category “medium” includes passenger cars with engine size between 1.4 and 2.0 liters. The average weight of this category is estimated to be 1600 kg. \\nThe category “large” includes passenger cars with engine size larger than 2.0 liters. The average weight of this category is estimated to be 2000 kg. \\nThe passenger car size influences the amount of both exhaust and non-exhaust emissions. The exhaust emissions caused by the burning of fuel are divided into two groups: fuel dependent emissions (dependent on fuel type and quantity) and Euro class dependent emissions which reflect the emission standards which the vehicle complies with. Three classes of Euro engine type are considered: Euro 3, Euro 4 and Euro 5.  The higher the class (e.g. Euro 5), the lower the emissions and viceversa. The Euro engine regulation is set by the European Commission “in order to limit as much as possible the negative impact of road vehicles on the environment and health” (European Commission 2012). This dataset considers a medium petrol passenger car of Euro 3 class. Also included within the direct exchanges to the environment are the fuel evaporation emissions from the fuel tank, relevant to petrol vehicles only. \\nNone\\nNon-exhaust emissions are those resulting from tyre, brake and road wear. These emissions are considered as by-products. \\nTechnology:  Transport in a passenger car with internal combustion engine, fueled by petrol. The size is small, with engine size up to 2.0 litres and average weight of 1600 kg.  \\nTechnology classifications are based on those used widely within the works of the European Environment Agency, particularly in the Emissions Inventory Guidebook. The Tremove model - which is also used to generate fuel consumption and emission factors for the datasets presented here - follows this classification system.',\n",
       " 'classifications': [('ISIC rev.4 ecoinvent',\n",
       "   '4922:Other passenger land transport'),\n",
       "  ('CPC', '64119: Other land transportation services of passengers, n.e.c.')],\n",
       " 'activity type': 'ordinary transforming activity',\n",
       " 'activity': 'b3feb9fe-03bc-5abe-9aa5-b9d588502cbd',\n",
       " 'database': 'ecoinvent_391_cutoff',\n",
       " 'filename': 'b3feb9fe-03bc-5abe-9aa5-b9d588502cbd_3bf68190-17bd-4506-84da-3ef2bcb1b624.spold',\n",
       " 'location': 'RER',\n",
       " 'name': 'transport, passenger car, medium size, petrol, EURO 3',\n",
       " 'synonyms': [],\n",
       " 'parameters': [{'description': 'annual total vkm',\n",
       "   'id': 'b08278ed-9947-45bf-84fc-45bfc472bd8b',\n",
       "   'unit': 'kilometer',\n",
       "   'comment': 'Based on Tremove (2009)',\n",
       "   'amount': 210326000000.0,\n",
       "   'pedigree': {'reliability': 2,\n",
       "    'completeness': 2,\n",
       "    'temporal correlation': 2,\n",
       "    'geographical correlation': 1,\n",
       "    'further technological correlation': 1},\n",
       "   'uncertainty type': 2,\n",
       "   'loc': 26.0719245449185,\n",
       "   'scale': 0.03872983346207417,\n",
       "   'scale without pedigree': 0.02449489742783178,\n",
       "   'name': 'annual_vkm'},\n",
       "  {'description': 'co2 emissions per kg petrol',\n",
       "   'id': '510bbb41-fb4a-4ed6-8f09-064cb1a92a45',\n",
       "   'unit': 'kilogram',\n",
       "   'comment': 'Constant for all petrol vehicles',\n",
       "   'amount': 3.18,\n",
       "   'pedigree': {'reliability': 2,\n",
       "    'completeness': 2,\n",
       "    'temporal correlation': 2,\n",
       "    'geographical correlation': 1,\n",
       "    'further technological correlation': 1},\n",
       "   'uncertainty type': 2,\n",
       "   'loc': 1.15688119679209,\n",
       "   'scale': 0.03872983346207417,\n",
       "   'scale without pedigree': 0.02449489742783178,\n",
       "   'name': 'co2_kg_petrol'},\n",
       "  {'description': 'emissions from brake friction',\n",
       "   'id': '963f7f42-4768-4a18-8d60-669973652be8',\n",
       "   'unit': 'kg/kg vehicle',\n",
       "   'comment': 'Average (small, medium and large weight class) emissions produced per kg vehicle. \\n\\nCalculation of non-exhaust emissions (tyre, brake and road wear emissions as well as petrol evaporation emissions) are based on: Ntziachristos, L., Boulter, P. (2009). EMEP/EEA air pollutant emissions inventory guidebook 2009: Road vehicle tyre and brake wear; Road surface wear. Copenhagen, European Environment Agency\\n',\n",
       "   'amount': 4.45e-09,\n",
       "   'pedigree': {'reliability': 2,\n",
       "    'completeness': 2,\n",
       "    'temporal correlation': 2,\n",
       "    'geographical correlation': 1,\n",
       "    'further technological correlation': 1},\n",
       "   'uncertainty type': 2,\n",
       "   'loc': -19.2303617407683,\n",
       "   'scale': 0.03872983346207417,\n",
       "   'scale without pedigree': 0.02449489742783178,\n",
       "   'name': 'brake_wear_emissions'},\n",
       "  {'description': 'emissions from road abrasion',\n",
       "   'id': '4fe50f59-7759-4db2-8d35-c63314f2deba',\n",
       "   'unit': 'kg/kg vehicle',\n",
       "   'comment': 'Average (small, medium and large weight class) emissions produced per kg vehicle. \\n\\nCalculation of non-exhaust emissions (tyre, brake and road wear emissions as well as petrol evaporation emissions) are based on: Ntziachristos, L., Boulter, P. (2009). EMEP/EEA air pollutant emissions inventory guidebook 2009: Road vehicle tyre and brake wear; Road surface wear. Copenhagen, European Environment Agency\\n',\n",
       "   'amount': 9.79e-09,\n",
       "   'pedigree': {'reliability': 2,\n",
       "    'completeness': 2,\n",
       "    'temporal correlation': 2,\n",
       "    'geographical correlation': 1,\n",
       "    'further technological correlation': 1},\n",
       "   'uncertainty type': 2,\n",
       "   'loc': -18.441904380404,\n",
       "   'scale': 0.03872983346207417,\n",
       "   'scale without pedigree': 0.02449489742783178,\n",
       "   'name': 'road_wear_emissions'},\n",
       "  {'description': 'emissions from tyre abrasion',\n",
       "   'id': 'ca5b7cf8-faad-4893-beab-2f41513db7c4',\n",
       "   'unit': 'kg/kg vehicle',\n",
       "   'comment': 'Average (small, medium and large weight class) emissions produced per kg vehicle. \\n\\nCalculation of non-exhaust emissions (tyre, brake and road wear emissions as well as petrol evaporation emissions) are based on: Ntziachristos, L., Boulter, P. (2009). EMEP/EEA air pollutant emissions inventory guidebook 2009: Road vehicle tyre and brake wear; Road surface wear. Copenhagen, European Environment Agency\\n',\n",
       "   'amount': 5.725e-08,\n",
       "   'pedigree': {'reliability': 2,\n",
       "    'completeness': 2,\n",
       "    'temporal correlation': 2,\n",
       "    'geographical correlation': 1,\n",
       "    'further technological correlation': 1},\n",
       "   'uncertainty type': 2,\n",
       "   'loc': -16.6758381945121,\n",
       "   'scale': 0.03872983346207417,\n",
       "   'scale without pedigree': 0.02449489742783178,\n",
       "   'name': 'tyre_wear_emissions'},\n",
       "  {'description': 'fuel consumption constant',\n",
       "   'id': 'c8f2fb31-30d9-4a68-b879-d0167305d4da',\n",
       "   'unit': 'dimensionless',\n",
       "   'comment': 'Determined from analysing the fuel consumption for vehicles in the Tremove model (2009)',\n",
       "   'amount': 2.9288e-05,\n",
       "   'pedigree': {'reliability': 2,\n",
       "    'completeness': 2,\n",
       "    'temporal correlation': 2,\n",
       "    'geographical correlation': 1,\n",
       "    'further technological correlation': 1},\n",
       "   'uncertainty type': 2,\n",
       "   'loc': -10.4383326821463,\n",
       "   'scale': 0.03872983346207417,\n",
       "   'scale without pedigree': 0.02449489742783178,\n",
       "   'name': 'fc_constant'},\n",
       "  {'description': 'fuel consumption of basis vehicle',\n",
       "   'id': 'd69aa7c9-1110-4ec8-a4ad-b5f307fedaf6',\n",
       "   'unit': 'dimensionless',\n",
       "   'comment': 'Fuel consumption as derived from the source data for each vehicle type, size and emissions standard',\n",
       "   'amount': 0.06667,\n",
       "   'pedigree': {'reliability': 2,\n",
       "    'completeness': 2,\n",
       "    'temporal correlation': 2,\n",
       "    'geographical correlation': 1,\n",
       "    'further technological correlation': 1},\n",
       "   'uncertainty type': 2,\n",
       "   'loc': -2.70800020235217,\n",
       "   'scale': 0.03872983346207417,\n",
       "   'scale without pedigree': 0.02449489742783178,\n",
       "   'name': 'fc_basis_vehicle'},\n",
       "  {'description': 'gross vehicle weight',\n",
       "   'id': '01dbd027-f8ea-4218-81db-a028439db747',\n",
       "   'unit': 'kilogram',\n",
       "   'comment': 'Weight of vehicle and passengers',\n",
       "   'amount': 1697.2,\n",
       "   'pedigree': {'reliability': 2,\n",
       "    'completeness': 2,\n",
       "    'temporal correlation': 2,\n",
       "    'geographical correlation': 1,\n",
       "    'further technological correlation': 1},\n",
       "   'uncertainty type': 2,\n",
       "   'loc': 7.43673511332817,\n",
       "   'scale': 0.03872983346207417,\n",
       "   'scale without pedigree': 0.02449489742783178,\n",
       "   'name': 'gross_vehicle_weight'},\n",
       "  {'description': 'lifetime of the vehicle',\n",
       "   'id': '297dd1cd-575a-4da8-990f-cbfca6a66d3e',\n",
       "   'unit': 'kilometer',\n",
       "   'comment': 'Distance capacity in the assumed vehicle lifetime.\\n\\nReference: Spielmann (2007) ecoinvent report 14. Ecoinvent centre, Dübendorf.',\n",
       "   'amount': 150000.0,\n",
       "   'pedigree': {'reliability': 2,\n",
       "    'completeness': 2,\n",
       "    'temporal correlation': 2,\n",
       "    'geographical correlation': 1,\n",
       "    'further technological correlation': 1},\n",
       "   'uncertainty type': 2,\n",
       "   'loc': 11.9183905730784,\n",
       "   'scale': 0.03872983346207417,\n",
       "   'scale without pedigree': 0.02449489742783178,\n",
       "   'name': 'vehicle_lifetime_km'},\n",
       "  {'description': 'passenger load factor',\n",
       "   'id': '4ad25793-1808-4e8d-a344-bd7ba8b2ce1f',\n",
       "   'unit': 'kilogram',\n",
       "   'comment': 'Number of passengers multiplied by 60 kg per passenger',\n",
       "   'amount': 97.2,\n",
       "   'pedigree': {'reliability': 2,\n",
       "    'completeness': 2,\n",
       "    'temporal correlation': 2,\n",
       "    'geographical correlation': 1,\n",
       "    'further technological correlation': 1},\n",
       "   'uncertainty type': 2,\n",
       "   'loc': 4.57677071146639,\n",
       "   'scale': 0.03872983346207417,\n",
       "   'scale without pedigree': 0.02449489742783178,\n",
       "   'name': 'LF_passengers'},\n",
       "  {'description': 'passengers',\n",
       "   'id': '2722dba2-e390-4b43-994c-eb4c338dcb7b',\n",
       "   'unit': 'unit',\n",
       "   'comment': 'Average number of passengers in passenger car 1.62',\n",
       "   'amount': 1.62,\n",
       "   'pedigree': {'reliability': 2,\n",
       "    'completeness': 2,\n",
       "    'temporal correlation': 2,\n",
       "    'geographical correlation': 1,\n",
       "    'further technological correlation': 1},\n",
       "   'uncertainty type': 2,\n",
       "   'loc': 0.482426149244293,\n",
       "   'scale': 0.03872983346207417,\n",
       "   'scale without pedigree': 0.02449489742783178,\n",
       "   'name': 'passengers'},\n",
       "  {'description': 'scaling factor',\n",
       "   'id': '291598b5-efd9-424c-b185-42fa2b1aa8b9',\n",
       "   'unit': 'dimensionless',\n",
       "   'comment': 'The mass of a vehicle influences a range of different exchanges. These are fuel consumption (and thus fuel dependant emissions), non-exhaust emissions and vehicle and road infrastructures. For the infrastructres a scaling factor is used to extrapolate the values appropriate to the basis vehicle. The scaling factor is given by vehicle weight divided by the basis vehicle weight (1240kg).',\n",
       "   'amount': 1.29032258064516,\n",
       "   'pedigree': {'reliability': 2,\n",
       "    'completeness': 2,\n",
       "    'temporal correlation': 2,\n",
       "    'geographical correlation': 1,\n",
       "    'further technological correlation': 1},\n",
       "   'uncertainty type': 2,\n",
       "   'loc': 0.254892249628789,\n",
       "   'scale': 0.03872983346207417,\n",
       "   'scale without pedigree': 0.02449489742783178,\n",
       "   'name': 'scaling_factor'},\n",
       "  {'description': 'so2 emissions per kg petrol',\n",
       "   'id': 'e5f70abe-ea97-4348-bfa8-15a784660fda',\n",
       "   'unit': 'kilogram',\n",
       "   'comment': 'Constant for all petrol vehicles',\n",
       "   'amount': 2e-05,\n",
       "   'pedigree': {'reliability': 2,\n",
       "    'completeness': 2,\n",
       "    'temporal correlation': 2,\n",
       "    'geographical correlation': 1,\n",
       "    'further technological correlation': 1},\n",
       "   'uncertainty type': 2,\n",
       "   'loc': -10.8197782844103,\n",
       "   'scale': 0.03872983346207417,\n",
       "   'scale without pedigree': 0.02449489742783178,\n",
       "   'name': 'so2_kg_petrol'},\n",
       "  {'description': 'weight of the basis vehicle',\n",
       "   'id': 'cffc5607-d071-4a68-b6fb-b01e7c85290d',\n",
       "   'unit': 'kg/unit',\n",
       "   'comment': 'The basis vehicle is the one on which the original life cycle inventory was conducted. It is representative of a VW Golf.',\n",
       "   'amount': 1240.0,\n",
       "   'pedigree': {'reliability': 2,\n",
       "    'completeness': 2,\n",
       "    'temporal correlation': 2,\n",
       "    'geographical correlation': 1,\n",
       "    'further technological correlation': 1},\n",
       "   'uncertainty type': 2,\n",
       "   'loc': 7.12286665859908,\n",
       "   'scale': 0.03872983346207417,\n",
       "   'scale without pedigree': 0.02449489742783178,\n",
       "   'name': 'basis_vehicle_weight'},\n",
       "  {'description': 'weight of the vehicle',\n",
       "   'id': '9cd30d63-8c02-47ee-9621-31a92d15bb72',\n",
       "   'unit': 'kg/unit',\n",
       "   'comment': 'Empty vehicle weight (curb weight) according to each vehicle class used: small cars (<1.4 litres) 1200kg; \\nmedium size cars (1.4 - 2.0 litres) 1600kg; \\nlarge size cars (>2.0 litres) 2000kg',\n",
       "   'amount': 1600.0,\n",
       "   'pedigree': {'reliability': 2,\n",
       "    'completeness': 2,\n",
       "    'temporal correlation': 2,\n",
       "    'geographical correlation': 1,\n",
       "    'further technological correlation': 1},\n",
       "   'uncertainty type': 2,\n",
       "   'loc': 7.37775890822787,\n",
       "   'scale': 0.03872983346207417,\n",
       "   'scale without pedigree': 0.02449489742783178,\n",
       "   'name': 'vehicle_weight'}],\n",
       " 'authors': {'data entry': {'name': 'Andrew Simons',\n",
       "   'email': 'andrew.simons@3sp.ch'},\n",
       "  'data generator': {'name': 'Andrew Simons',\n",
       "   'email': 'andrew.simons@3sp.ch'}},\n",
       " 'type': 'process',\n",
       " 'reference product': 'transport, passenger car, medium size, petrol, EURO 3',\n",
       " 'flow': '3bf68190-17bd-4506-84da-3ef2bcb1b624',\n",
       " 'unit': 'kilometer',\n",
       " 'production amount': 1.0,\n",
       " 'code': 'f47975feec24d99acfd8fd14ecc84c49'}"
      ]
     },
     "execution_count": 18,
     "metadata": {},
     "output_type": "execute_result"
    }
   ],
   "source": [
    "example_transport.as_dict()"
   ]
  },
  {
   "cell_type": "markdown",
   "id": "88d8509d-3e41-44ac-8824-082886b5c0bc",
   "metadata": {},
   "source": [
    "To look at the exchanges, you can go throught them with a list:"
   ]
  },
  {
   "cell_type": "code",
   "execution_count": 19,
   "id": "6387460b-555b-488c-b2ac-c85173eef0a0",
   "metadata": {
    "scrolled": true
   },
   "outputs": [
    {
     "data": {
      "text/plain": [
       "[Exchange: 1.0 kilometer 'transport, passenger car, medium size, petrol, EURO 3' (kilometer, RER, None) to 'transport, passenger car, medium size, petrol, EURO 3' (kilometer, RER, None)>,\n",
       " Exchange: -7.55254e-06 kilogram 'market for brake wear emissions, passenger car' (kilogram, GLO, None) to 'transport, passenger car, medium size, petrol, EURO 3' (kilometer, RER, None)>,\n",
       " Exchange: 8.6021505376344e-06 unit 'maintenance, passenger car' (unit, RER, None) to 'transport, passenger car, medium size, petrol, EURO 3' (kilometer, RER, None)>,\n",
       " Exchange: 0.0106666666666667 kilogram 'market for passenger car, petrol/natural gas' (kilogram, GLO, None) to 'transport, passenger car, medium size, petrol, EURO 3' (kilometer, RER, None)>,\n",
       " Exchange: 0.0682165984485006 kilogram 'market for petrol, low-sulfur' (kilogram, Europe without Switzerland, None) to 'transport, passenger car, medium size, petrol, EURO 3' (kilometer, RER, None)>,\n",
       " Exchange: 0.001300195151499404 kilogram 'market for petrol, low-sulfur' (kilogram, CH, None) to 'transport, passenger car, medium size, petrol, EURO 3' (kilometer, RER, None)>,\n",
       " Exchange: 0.0009113964 meter-year 'market for road' (meter-year, GLO, None) to 'transport, passenger car, medium size, petrol, EURO 3' (kilometer, RER, None)>,\n",
       " Exchange: 0.000265427119835466 meter-year 'market for road maintenance' (meter-year, RER, None) to 'transport, passenger car, medium size, petrol, EURO 3' (kilometer, RER, None)>,\n",
       " Exchange: -1.6615588e-05 kilogram 'market for road wear emissions, passenger car' (kilogram, GLO, None) to 'transport, passenger car, medium size, petrol, EURO 3' (kilometer, RER, None)>,\n",
       " Exchange: -9.71647e-05 kilogram 'market for tyre wear emissions, passenger car' (kilogram, GLO, None) to 'transport, passenger car, medium size, petrol, EURO 3' (kilometer, RER, None)>,\n",
       " Exchange: 2.952e-08 kilogram '1-Pentene' (kilogram, None, ('air', 'urban air close to ground')) to 'transport, passenger car, medium size, petrol, EURO 3' (kilometer, RER, None)>,\n",
       " Exchange: 7.417e-06 kilogram '2-Methylpentane' (kilogram, None, ('air', 'urban air close to ground')) to 'transport, passenger car, medium size, petrol, EURO 3' (kilometer, RER, None)>,\n",
       " Exchange: 2.013e-07 kilogram 'Acetaldehyde' (kilogram, None, ('air', 'urban air close to ground')) to 'transport, passenger car, medium size, petrol, EURO 3' (kilometer, RER, None)>,\n",
       " Exchange: 1.637e-07 kilogram 'Acetone' (kilogram, None, ('air', 'urban air close to ground')) to 'transport, passenger car, medium size, petrol, EURO 3' (kilometer, RER, None)>,\n",
       " Exchange: 5.099e-08 kilogram 'Acrolein' (kilogram, None, ('air', 'urban air close to ground')) to 'transport, passenger car, medium size, petrol, EURO 3' (kilometer, RER, None)>,\n",
       " Exchange: 2.085503808e-06 kilogram 'Ammonia' (kilogram, None, ('air', 'urban air close to ground')) to 'transport, passenger car, medium size, petrol, EURO 3' (kilometer, RER, None)>,\n",
       " Exchange: 5.904e-08 kilogram 'Benzaldehyde' (kilogram, None, ('air', 'urban air close to ground')) to 'transport, passenger car, medium size, petrol, EURO 3' (kilometer, RER, None)>,\n",
       " Exchange: 4.043e-06 kilogram 'Benzene' (kilogram, None, ('air', 'urban air close to ground')) to 'transport, passenger car, medium size, petrol, EURO 3' (kilometer, RER, None)>,\n",
       " Exchange: 7.606e-06 kilogram 'Butane' (kilogram, None, ('air', 'urban air close to ground')) to 'transport, passenger car, medium size, petrol, EURO 3' (kilometer, RER, None)>,\n",
       " Exchange: 6.95167936e-10 kilogram 'Cadmium II' (kilogram, None, ('air', 'urban air close to ground')) to 'transport, passenger car, medium size, petrol, EURO 3' (kilometer, RER, None)>,\n",
       " Exchange: 0.221063403648 kilogram 'Carbon dioxide, fossil' (kilogram, None, ('air', 'urban air close to ground')) to 'transport, passenger car, medium size, petrol, EURO 3' (kilometer, RER, None)>,\n",
       " Exchange: 0.001467 kilogram 'Carbon monoxide, fossil' (kilogram, None, ('air', 'urban air close to ground')) to 'transport, passenger car, medium size, petrol, EURO 3' (kilometer, RER, None)>,\n",
       " Exchange: 3.47583968e-09 kilogram 'Chromium III' (kilogram, None, ('air', 'urban air close to ground')) to 'transport, passenger car, medium size, petrol, EURO 3' (kilometer, RER, None)>,\n",
       " Exchange: 6.95167936e-12 kilogram 'Chromium VI' (kilogram, None, ('air', 'urban air close to ground')) to 'transport, passenger car, medium size, petrol, EURO 3' (kilometer, RER, None)>,\n",
       " Exchange: 1.1817854912e-07 kilogram 'Copper ion' (kilogram, None, ('air', 'urban air close to ground')) to 'transport, passenger car, medium size, petrol, EURO 3' (kilometer, RER, None)>,\n",
       " Exchange: 3.059e-07 kilogram 'Cyclohexane (for all cycloalkanes)' (kilogram, None, ('air', 'urban air close to ground')) to 'transport, passenger car, medium size, petrol, EURO 3' (kilometer, RER, None)>,\n",
       " Exchange: 9.037183168e-06 kilogram 'Dinitrogen monoxide' (kilogram, None, ('air', 'urban air close to ground')) to 'transport, passenger car, medium size, petrol, EURO 3' (kilometer, RER, None)>,\n",
       " Exchange: 1.174e-06 kilogram 'Ethane' (kilogram, None, ('air', 'urban air close to ground')) to 'transport, passenger car, medium size, petrol, EURO 3' (kilometer, RER, None)>,\n",
       " Exchange: 2.645e-08 kilogram 'Ethylene' (kilogram, None, ('air', 'urban air close to ground')) to 'transport, passenger car, medium size, petrol, EURO 3' (kilometer, RER, None)>,\n",
       " Exchange: 1.959e-06 kilogram 'Ethylene oxide' (kilogram, None, ('air', 'urban air close to ground')) to 'transport, passenger car, medium size, petrol, EURO 3' (kilometer, RER, None)>,\n",
       " Exchange: 4.562e-07 kilogram 'Formaldehyde' (kilogram, None, ('air', 'urban air close to ground')) to 'transport, passenger car, medium size, petrol, EURO 3' (kilometer, RER, None)>,\n",
       " Exchange: 1.986e-07 kilogram 'Heptane' (kilogram, None, ('air', 'urban air close to ground')) to 'transport, passenger car, medium size, petrol, EURO 3' (kilometer, RER, None)>,\n",
       " Exchange: 4.321e-07 kilogram 'Hexane' (kilogram, None, ('air', 'urban air close to ground')) to 'transport, passenger car, medium size, petrol, EURO 3' (kilometer, RER, None)>,\n",
       " Exchange: 1.042751904e-10 kilogram 'Lead II' (kilogram, None, ('air', 'urban air close to ground')) to 'transport, passenger car, medium size, petrol, EURO 3' (kilometer, RER, None)>,\n",
       " Exchange: 4.866175552e-12 kilogram 'Mercury II' (kilogram, None, ('air', 'urban air close to ground')) to 'transport, passenger car, medium size, petrol, EURO 3' (kilometer, RER, None)>,\n",
       " Exchange: 3.177e-05 kilogram 'Methane, fossil' (kilogram, None, ('air', 'urban air close to ground')) to 'transport, passenger car, medium size, petrol, EURO 3' (kilometer, RER, None)>,\n",
       " Exchange: 1.342e-08 kilogram 'Methyl ethyl ketone' (kilogram, None, ('air', 'urban air close to ground')) to 'transport, passenger car, medium size, petrol, EURO 3' (kilometer, RER, None)>,\n",
       " Exchange: 6.855e-05 kilogram 'NMVOC, non-methane volatile organic compounds' (kilogram, None, ('air', 'urban air close to ground')) to 'transport, passenger car, medium size, petrol, EURO 3' (kilometer, RER, None)>,\n",
       " Exchange: 4.866175552e-09 kilogram 'Nickel II' (kilogram, None, ('air', 'urban air close to ground')) to 'transport, passenger car, medium size, petrol, EURO 3' (kilometer, RER, None)>,\n",
       " Exchange: 7.481e-05 kilogram 'Nitrogen oxides' (kilogram, None, ('air', 'urban air close to ground')) to 'transport, passenger car, medium size, petrol, EURO 3' (kilometer, RER, None)>,\n",
       " Exchange: 2.41918441728e-09 kilogram 'PAH, polycyclic aromatic hydrocarbons' (kilogram, None, ('air', 'urban air close to ground')) to 'transport, passenger car, medium size, petrol, EURO 3' (kilometer, RER, None)>,\n",
       " Exchange: 1.029e-06 kilogram 'Particulate Matter, < 2.5 um' (kilogram, None, ('air', 'urban air close to ground')) to 'transport, passenger car, medium size, petrol, EURO 3' (kilometer, RER, None)>,\n",
       " Exchange: 8.745e-06 kilogram 'Pentane' (kilogram, None, ('air', 'urban air close to ground')) to 'transport, passenger car, medium size, petrol, EURO 3' (kilometer, RER, None)>,\n",
       " Exchange: 5.623e-06 kilogram 'Propane' (kilogram, None, ('air', 'urban air close to ground')) to 'transport, passenger car, medium size, petrol, EURO 3' (kilometer, RER, None)>,\n",
       " Exchange: 1.481e-07 kilogram 'Propene' (kilogram, None, ('air', 'urban air close to ground')) to 'transport, passenger car, medium size, petrol, EURO 3' (kilometer, RER, None)>,\n",
       " Exchange: 1.025e-06 kilogram 'Propylene oxide' (kilogram, None, ('air', 'urban air close to ground')) to 'transport, passenger car, medium size, petrol, EURO 3' (kilometer, RER, None)>,\n",
       " Exchange: 6.95167936e-10 kilogram 'Selenium IV' (kilogram, None, ('air', 'urban air close to ground')) to 'transport, passenger car, medium size, petrol, EURO 3' (kilometer, RER, None)>,\n",
       " Exchange: 2.711e-07 kilogram 'Styrene' (kilogram, None, ('air', 'urban air close to ground')) to 'transport, passenger car, medium size, petrol, EURO 3' (kilometer, RER, None)>,\n",
       " Exchange: 1.390335872e-06 kilogram 'Sulfur dioxide' (kilogram, None, ('air', 'urban air close to ground')) to 'transport, passenger car, medium size, petrol, EURO 3' (kilometer, RER, None)>,\n",
       " Exchange: 7.583e-06 kilogram 'Toluene' (kilogram, None, ('air', 'urban air close to ground')) to 'transport, passenger car, medium size, petrol, EURO 3' (kilometer, RER, None)>,\n",
       " Exchange: 6.95167936e-08 kilogram 'Zinc II' (kilogram, None, ('air', 'urban air close to ground')) to 'transport, passenger car, medium size, petrol, EURO 3' (kilometer, RER, None)>,\n",
       " Exchange: 3.273e-06 kilogram 'm-Xylene' (kilogram, None, ('air', 'urban air close to ground')) to 'transport, passenger car, medium size, petrol, EURO 3' (kilometer, RER, None)>,\n",
       " Exchange: 7.842e-07 kilogram 'o-Xylene' (kilogram, None, ('air', 'urban air close to ground')) to 'transport, passenger car, medium size, petrol, EURO 3' (kilometer, RER, None)>]"
      ]
     },
     "execution_count": 19,
     "metadata": {},
     "output_type": "execute_result"
    }
   ],
   "source": [
    "[ex for ex in example_transport.exchanges()]"
   ]
  },
  {
   "cell_type": "markdown",
   "id": "fd06bdce-c771-4fd1-a77a-5fe4cf499d88",
   "metadata": {},
   "source": [
    "This example is good to understand the three types of exchanges:\n",
    "\n",
    "- **production**: for the main output of the activity, the product that is produced with this activity,\n",
    "- **technosphere**: the inputs from the technosphere, i.e., from other activities in the dtabases in the project,\n",
    "- **biosphere**:  the emissions and natural resources of elementary flows, from the biosphere database.\n",
    "\n",
    "Specifying the type of exchange is necessary when creating new ones.\n",
    "\n",
    "Below are some examples of exchanges. Here of a production exchange:"
   ]
  },
  {
   "cell_type": "code",
   "execution_count": 20,
   "id": "c5b73498-5d5b-4560-b6f8-36efb02c6e21",
   "metadata": {
    "scrolled": true
   },
   "outputs": [
    {
     "data": {
      "text/plain": [
       "{'flow': '3bf68190-17bd-4506-84da-3ef2bcb1b624',\n",
       " 'type': 'production',\n",
       " 'name': 'transport, passenger car, medium size, petrol, EURO 3',\n",
       " 'classifications': {'CPC': ['64119: Other land transportation services of passengers, n.e.c.']},\n",
       " 'production volume': 210326000000.0,\n",
       " 'properties': {'carbon allocation': {'amount': 0.0, 'unit': 'kg'},\n",
       "  'carbon content': {'amount': 0.0, 'unit': 'dimensionless'},\n",
       "  'price': {'amount': 0.1762454815541633,\n",
       "   'unit': 'EUR2005',\n",
       "   'comment': 'Calculated based on inputs: The price of the product has been calculated as a sum of the values of the material and energy inputs for this product. This value is therefore a rough estimation. It may underestimate the real price since there are additional expenses when producing any product. These expences can include for example labour costs, treatment of waste materials and profit for the producer. Please consider carefully whether this level of data quality is acceptable for your application.'}},\n",
       " 'activity': 'b3feb9fe-03bc-5abe-9aa5-b9d588502cbd',\n",
       " 'unit': 'kilometer',\n",
       " 'amount': 1.0,\n",
       " 'uncertainty type': 0,\n",
       " 'loc': 1.0,\n",
       " 'input': ('ecoinvent_391_cutoff', 'f47975feec24d99acfd8fd14ecc84c49'),\n",
       " 'output': ('ecoinvent_391_cutoff', 'f47975feec24d99acfd8fd14ecc84c49')}"
      ]
     },
     "execution_count": 20,
     "metadata": {},
     "output_type": "execute_result"
    }
   ],
   "source": [
    "list(example_transport.exchanges())[0].as_dict()"
   ]
  },
  {
   "cell_type": "markdown",
   "id": "29680cc7-18dd-44d2-8629-b6cf5fdcce65",
   "metadata": {},
   "source": [
    "Here of a technosphere exchange:"
   ]
  },
  {
   "cell_type": "code",
   "execution_count": 21,
   "id": "8e784dcd-9dfe-470c-844e-3d6f1080b4ce",
   "metadata": {
    "scrolled": true
   },
   "outputs": [
    {
     "data": {
      "text/plain": [
       "{'flow': '5b975ec7-3bbe-46a1-88a0-d475a87a6eab',\n",
       " 'type': 'technosphere',\n",
       " 'name': 'brake wear emissions, passenger car',\n",
       " 'classifications': {'CPC': ['49129: Other parts and accessories n.e.c. of motor vehicles (including brakes, gear boxes, axles, road wheels, suspen[…]']},\n",
       " 'production volume': 0.0,\n",
       " 'properties': {'carbon allocation': {'amount': 0.0, 'unit': 'kg'},\n",
       "  'carbon content': {'amount': 0.0, 'unit': 'dimensionless'},\n",
       "  'price': {'amount': 0.0,\n",
       "   'unit': 'EUR2005',\n",
       "   'comment': 'Waste products are assigned a price of zero as they are assumed to require further treatment.'}},\n",
       " 'activity': '4fcfcee4-2e07-5d48-86e9-9e569ff7a3b5',\n",
       " 'unit': 'kilogram',\n",
       " 'comment': 'Quantity of emissions based on values from Ntziachristos, L., Boulter, P. (2009) EMEP/EEA air pollutant emissions inventory guidebook 2009: Road vehicle tyre and brake wear; Road surface wear. Copenhagen, European Environment Agency. Quantities given in the source assumed to represent medium sized vehicles. Quantities for small and large vehicles taken from the bounds of the ranges given.',\n",
       " 'amount': -7.55254e-06,\n",
       " 'pedigree': {'reliability': 2,\n",
       "  'completeness': 2,\n",
       "  'temporal correlation': 2,\n",
       "  'geographical correlation': 1,\n",
       "  'further technological correlation': 1},\n",
       " 'uncertainty type': 2,\n",
       " 'loc': -11.793626627440092,\n",
       " 'scale': 0.03872983346207417,\n",
       " 'scale without pedigree': 0.02449489742783178,\n",
       " 'input': ('ecoinvent_391_cutoff', 'ca8816e4f3b0da5483a65d625084b13a'),\n",
       " 'output': ('ecoinvent_391_cutoff', 'f47975feec24d99acfd8fd14ecc84c49')}"
      ]
     },
     "execution_count": 21,
     "metadata": {},
     "output_type": "execute_result"
    }
   ],
   "source": [
    "list(example_transport.exchanges())[1].as_dict()"
   ]
  },
  {
   "cell_type": "markdown",
   "id": "f8d265d0-1153-4458-b130-2833d69f2087",
   "metadata": {},
   "source": [
    "And here of a biosphere exchange:"
   ]
  },
  {
   "cell_type": "code",
   "execution_count": 22,
   "id": "bfcc93ba-21ec-4894-ae15-8c633be93338",
   "metadata": {
    "scrolled": true
   },
   "outputs": [
    {
     "data": {
      "text/plain": [
       "{'flow': '8cbaa905-41b0-4327-8403-bf1c8eb25429',\n",
       " 'type': 'biosphere',\n",
       " 'name': '1-Pentene',\n",
       " 'classifications': {'CPC': []},\n",
       " 'production volume': 0.0,\n",
       " 'properties': {'carbon allocation': {'amount': 0.856284505178628,\n",
       "   'unit': 'kg'},\n",
       "  'carbon content': {'amount': 0.856284505178628, 'unit': 'dimensionless'},\n",
       "  'carbon content, fossil': {'amount': 0.856284505178628,\n",
       "   'unit': 'dimensionless'},\n",
       "  'carbon content, non-fossil': {'amount': 0.0, 'unit': 'dimensionless'},\n",
       "  'dry mass': {'amount': 1.0, 'unit': 'kg'},\n",
       "  'water content': {'amount': 0.0, 'unit': 'dimensionless'},\n",
       "  'water in wet mass': {'amount': 0.0, 'unit': 'kg'},\n",
       "  'wet mass': {'amount': 1.0, 'unit': 'kg'}},\n",
       " 'unit': 'kilogram',\n",
       " 'comment': 'Emissions dependent on engine Euro class (Euro 3, Euro 4 and Euro 5).',\n",
       " 'amount': 2.952e-08,\n",
       " 'pedigree': {'reliability': 2,\n",
       "  'completeness': 2,\n",
       "  'temporal correlation': 5,\n",
       "  'geographical correlation': 1,\n",
       "  'further technological correlation': 1},\n",
       " 'uncertainty type': 2,\n",
       " 'loc': -17.33819783721414,\n",
       " 'scale': 0.20322401432901577,\n",
       " 'scale without pedigree': 0.02449489742783178,\n",
       " 'input': ('biosphere3', '8cbaa905-41b0-4327-8403-bf1c8eb25429'),\n",
       " 'output': ('ecoinvent_391_cutoff', 'f47975feec24d99acfd8fd14ecc84c49')}"
      ]
     },
     "execution_count": 22,
     "metadata": {},
     "output_type": "execute_result"
    }
   ],
   "source": [
    "list(example_transport.exchanges())[10].as_dict()"
   ]
  },
  {
   "cell_type": "markdown",
   "id": "f482f394-9984-45fe-8753-ebda58719ec7",
   "metadata": {},
   "source": [
    "# Manual creation of a database\n",
    "\n",
    "Now that we know enough about databases, activities and exchanges, let's create our own database.\n",
    "\n",
    "## Create the database\n",
    "\n",
    "As errors can happen but as everything is available to re-write the database, it is convenient sometimes to re-start from zero. Here is a function to delete a database if it exists in the current project:"
   ]
  },
  {
   "cell_type": "code",
   "execution_count": 23,
   "id": "1ad19bfc-c9e2-465a-9745-61efee2bdb5f",
   "metadata": {},
   "outputs": [],
   "source": [
    "def reset_brightway_database(db_name):\n",
    "    if db_name in bd.databases:\n",
    "        del bd.databases[db_name]"
   ]
  },
  {
   "cell_type": "markdown",
   "id": "09e1a2c6-d71a-4f81-85e2-a4eadab3fd33",
   "metadata": {},
   "source": [
    "To create a new database, create a database \"object\" with a name, and then save it on your computer with `register`:"
   ]
  },
  {
   "cell_type": "code",
   "execution_count": 24,
   "id": "fba25597-8e99-46a5-9a4a-3c44bb8ed54f",
   "metadata": {},
   "outputs": [],
   "source": [
    "name_motor_db = \"motor_case\"\n",
    "reset_brightway_database(name_motor_db)\n",
    "motor_db = bd.Database(name_motor_db)\n",
    "motor_db.register()"
   ]
  },
  {
   "cell_type": "markdown",
   "id": "8dc4140e-6329-4bc7-96f7-f78f57628e9d",
   "metadata": {},
   "source": [
    "Let's check that it was created:"
   ]
  },
  {
   "cell_type": "code",
   "execution_count": 25,
   "id": "28cc9923-4bb0-4342-a369-b2f524264b79",
   "metadata": {},
   "outputs": [
    {
     "data": {
      "text/plain": [
       "Databases dictionary with 3 object(s):\n",
       "\tbiosphere3\n",
       "\tecoinvent_391_cutoff\n",
       "\tmotor_case"
      ]
     },
     "execution_count": 25,
     "metadata": {},
     "output_type": "execute_result"
    }
   ],
   "source": [
    "bd.databases"
   ]
  },
  {
   "cell_type": "markdown",
   "id": "d98f1472-7a43-4983-9505-be346e45fe49",
   "metadata": {},
   "source": [
    "## Add activities\n",
    "\n",
    "As for databases, it is convenient to be able to delete an activity to re-start from zero. Here is a function for that:"
   ]
  },
  {
   "cell_type": "code",
   "execution_count": 26,
   "id": "b882bdaf-36b7-4467-bf52-6a7b17e043a9",
   "metadata": {},
   "outputs": [],
   "source": [
    "def reset_activity(act_name, database=motor_db):\n",
    "    for activity in [act for act in motor_db if act['name']==act_name]:\n",
    "        activity.delete()"
   ]
  },
  {
   "cell_type": "markdown",
   "id": "b6a9062f-4a3b-4b84-b1a9-24b1640e01d2",
   "metadata": {},
   "source": [
    "In a database saved as a database \"object\" `database_object`, a new activity is created with the function `new_activity`and then saved on your computer with `save()`.\n",
    "\n",
    "An activity needs necessarily:\n",
    "\n",
    "- A name,\n",
    "- A unique code, i.e., you can have several activities with the same name, but the computer needs a different code to distinguish them,\n",
    "- A unit."
   ]
  },
  {
   "cell_type": "code",
   "execution_count": 27,
   "id": "ac926c56-2318-422a-ac39-0dcb68b01e30",
   "metadata": {},
   "outputs": [],
   "source": [
    "# act_motor_production = motor_db.new_activity(\n",
    "#     name = \"motor production\",\n",
    "#     code = \"motor production\",\n",
    "#     unit = \"unit\",\n",
    "#     location = \"GLO\"\n",
    "# )\n",
    "# act_motor_production.save()"
   ]
  },
  {
   "cell_type": "markdown",
   "id": "88771db9-9014-4f12-868b-b30beb8abf4c",
   "metadata": {},
   "source": [
    "Then, exchanges can be added with the function `new_exchange` and `save()`to store it on your computer. The necessary information for an exchange are:\n",
    "\n",
    "- An input, i.e., the activity from which the input comes from, or the activity in the biosphere database for an input/output of elementary flow,\n",
    "- An amount (the unit is defined by the input),\n",
    "- A type of exchange, i.e., production, technosphere or biosphere.\n",
    "\n",
    "You can have several exchanges from the same input, with the same value, so it can happen that you add the same exchange twice. To avoid that, here is a function that:\n",
    "\n",
    "- Delete the activity if it exists,\n",
    "- Create an activity with a code that is the same as the name,\n",
    "- Add technosphere exchanges based on a list of (input, amount).\n",
    "\n",
    "That will be enough for us in this example."
   ]
  },
  {
   "cell_type": "code",
   "execution_count": 28,
   "id": "94f71184-caf9-4699-ae70-4307c0a2bf5f",
   "metadata": {},
   "outputs": [],
   "source": [
    "def create_new_activity(act_name, unit, exchanges, database=motor_db):\n",
    "    reset_activity(act_name, database)\n",
    "    act_new = motor_db.new_activity(\n",
    "        name = act_name,\n",
    "        code = act_name,\n",
    "        unit = unit\n",
    "    )\n",
    "    act_new.save()\n",
    "    for input, amount in exchanges:\n",
    "        act_new.new_exchange(\n",
    "            input = input,\n",
    "            amount = amount,\n",
    "            type = \"technosphere\"\n",
    "        ).save()\n",
    "    act_new.save()"
   ]
  },
  {
   "cell_type": "markdown",
   "id": "2fa892e0-7fbc-40b7-bb11-16917109ba91",
   "metadata": {},
   "source": [
    "**Inputs from ecoinvent**\n",
    "\n",
    "First, let get the necessary activities from ecoinvent:"
   ]
  },
  {
   "cell_type": "code",
   "execution_count": 29,
   "id": "b9e30f02-82f3-4935-80e7-bdbfb0b9a6d4",
   "metadata": {},
   "outputs": [],
   "source": [
    "code_steel_unalloyed = ei_db.search(\"market for steel, unalloyed GLO\")[0][\"code\"]"
   ]
  },
  {
   "cell_type": "code",
   "execution_count": 30,
   "id": "90c92521-25d1-443d-a1a6-a6505ace885a",
   "metadata": {},
   "outputs": [],
   "source": [
    "act_steel_unalloyed = ei_db.get(code_steel_unalloyed)"
   ]
  },
  {
   "cell_type": "code",
   "execution_count": 31,
   "id": "0c820202-1921-46fb-97bc-80f6e414486f",
   "metadata": {},
   "outputs": [],
   "source": [
    "code_steel_low_alloyed = ei_db.search(\"market for steel, low-alloyed GLO\")[0][\"code\"]"
   ]
  },
  {
   "cell_type": "code",
   "execution_count": 32,
   "id": "b61b6738-ffb1-498c-91de-a1efb22c1f34",
   "metadata": {},
   "outputs": [],
   "source": [
    "act_steel_low_alloyed = ei_db.get(code_steel_low_alloyed)"
   ]
  },
  {
   "cell_type": "code",
   "execution_count": 33,
   "id": "07f3db98-9ee4-4ca6-9445-86c8b3865ed4",
   "metadata": {},
   "outputs": [],
   "source": [
    "code_copper = ei_db.search(\"market for copper, cathode GLO\")[0][\"code\"]"
   ]
  },
  {
   "cell_type": "code",
   "execution_count": 34,
   "id": "7bf2ad2f-d602-4cf8-8d7d-526f64cf7e5e",
   "metadata": {},
   "outputs": [],
   "source": [
    "act_copper = ei_db.get(code_copper)"
   ]
  },
  {
   "cell_type": "code",
   "execution_count": 35,
   "id": "259f1c11-8815-4925-a317-8afabb3541f9",
   "metadata": {},
   "outputs": [],
   "source": [
    "code_insulation = ei_db.search(\"market for epoxy resin, liquid RER\")[0][\"code\"]"
   ]
  },
  {
   "cell_type": "code",
   "execution_count": 36,
   "id": "f55cd2d3-16c3-4516-a60a-89b393d65674",
   "metadata": {},
   "outputs": [],
   "source": [
    "act_insulation = ei_db.get(code_insulation)"
   ]
  },
  {
   "cell_type": "code",
   "execution_count": 37,
   "id": "78c4b356-14c4-4cad-9a21-52c8cfefc4c0",
   "metadata": {},
   "outputs": [],
   "source": [
    "code_elec = ei_db.search(\"market for electricity, high voltage SE\")[0][\"code\"]"
   ]
  },
  {
   "cell_type": "code",
   "execution_count": 38,
   "id": "c505789d-0fe7-45ad-a248-55f82c4f4255",
   "metadata": {},
   "outputs": [],
   "source": [
    "act_elec = ei_db.get(code_elec)"
   ]
  },
  {
   "cell_type": "code",
   "execution_count": 39,
   "id": "09585f01-992e-4518-a943-79087ad90086",
   "metadata": {},
   "outputs": [],
   "source": [
    "code_incineration_insulation = ei_db.search(\"treatment of waste plastic, mixture, municipal incineration with fly ash extraction CH\")[0][\"code\"]"
   ]
  },
  {
   "cell_type": "code",
   "execution_count": 40,
   "id": "9b879f68-fd20-439b-bc89-22642338cf77",
   "metadata": {},
   "outputs": [],
   "source": [
    "act_incineration_insulation = ei_db.get(code_incineration_insulation)"
   ]
  },
  {
   "cell_type": "code",
   "execution_count": 41,
   "id": "664d0397-1831-4748-aa1a-b0385e853948",
   "metadata": {},
   "outputs": [],
   "source": [
    "code_incineration_copper = ei_db.search(\"treatment of copper in car shredder residue, municipal incineration with fly ash extraction CH\")[0][\"code\"]"
   ]
  },
  {
   "cell_type": "code",
   "execution_count": 42,
   "id": "fa6c3355-d6ec-4b79-aec2-a522da64c7f1",
   "metadata": {},
   "outputs": [],
   "source": [
    "act_incineration_copper = ei_db.get(code_incineration_copper)"
   ]
  },
  {
   "cell_type": "markdown",
   "id": "750383da-3803-4c55-89af-5ee354b4bfcc",
   "metadata": {},
   "source": [
    "**Parameters**\n",
    "\n",
    "Then the value of different parameters useful to create the activities."
   ]
  },
  {
   "cell_type": "code",
   "execution_count": 43,
   "id": "4819f3d4-2b91-4a70-87af-503e8f4a6a82",
   "metadata": {},
   "outputs": [],
   "source": [
    "qt_steel_unalloyed = 26600 #kg\n",
    "qt_steel_low_alloyed = 4100 #kg\n",
    "qt_copper = 3600 #kg\n",
    "qt_insulation = 400 #kg\n",
    "weight_motor = qt_steel_unalloyed + qt_steel_low_alloyed + qt_copper + qt_insulation\n",
    "output_power = 16000 #kW\n",
    "op_hours = 8400 #hours per year\n",
    "lifetime = 20 #years\n",
    "efficiency = 0.973"
   ]
  },
  {
   "cell_type": "markdown",
   "id": "f10ac515-97a0-4cf9-8833-666bf60bc816",
   "metadata": {},
   "source": [
    "**Activities creation**\n",
    "\n",
    "With our own function `create_new_activity`, creating an activity looks like that:"
   ]
  },
  {
   "cell_type": "code",
   "execution_count": 44,
   "id": "b5528fdc-0b47-4ec9-acbc-0690b14d035d",
   "metadata": {},
   "outputs": [],
   "source": [
    "def create_motor_production(qt_steel_unalloyed=qt_steel_unalloyed, qt_steel_low_alloyed=qt_steel_low_alloyed, qt_copper=qt_copper, qt_insulation=qt_insulation):\n",
    "    create_new_activity(\n",
    "        \"motor production\",\n",
    "        \"unit\",\n",
    "        [\n",
    "            (act_steel_unalloyed, qt_steel_unalloyed),\n",
    "            (act_steel_low_alloyed, qt_steel_low_alloyed),\n",
    "            (act_copper, qt_copper),\n",
    "            (act_insulation, qt_insulation),\n",
    "            (act_elec, 3600)\n",
    "        ]\n",
    "    )"
   ]
  },
  {
   "cell_type": "markdown",
   "id": "9b7a0980-ef03-4d76-bd51-a31ae0b5f0cd",
   "metadata": {},
   "source": [
    "When activity creation is scattered in the code, it is practical to turn it as functions. When each activity creation is under a function, a last function can call all of them in the right order. Then, you are sure that all your created database is updated.\n",
    "\n",
    "In the creation functions, you can also add input parameters to be able to change them quickly.\n",
    "\n",
    "Let's do this for all activities in the life cycle of a motor."
   ]
  },
  {
   "cell_type": "code",
   "execution_count": 45,
   "id": "7d846820-bb48-45cb-aada-a9bf8489689b",
   "metadata": {},
   "outputs": [],
   "source": [
    "def create_motor_testing():\n",
    "    create_new_activity(\n",
    "        \"motor testing\",\n",
    "        \"unit\",\n",
    "        [\n",
    "            (motor_db.get(\"motor production\"), 1),\n",
    "            (act_elec, 16000)\n",
    "        ]\n",
    "    )"
   ]
  },
  {
   "cell_type": "code",
   "execution_count": 46,
   "id": "2d1703f9-a8c2-4edd-a320-55d72d04f314",
   "metadata": {},
   "outputs": [],
   "source": [
    "def create_motor_use(lifetime=lifetime, efficiency=efficiency):\n",
    "    create_new_activity(\n",
    "        \"motor use\",\n",
    "        \"unit\",\n",
    "        [\n",
    "            (motor_db.get(\"motor testing\"), 1),\n",
    "            (act_elec, output_power*op_hours*lifetime*(1/efficiency-1))\n",
    "        ]\n",
    "    )"
   ]
  },
  {
   "cell_type": "code",
   "execution_count": 47,
   "id": "b4f13f36-8a43-4a35-bf4e-9caf4a5084e9",
   "metadata": {},
   "outputs": [],
   "source": [
    "def create_motor_treatment(weight_motor=weight_motor, qt_insulation=qt_insulation, qt_copper=qt_copper):\n",
    "    create_new_activity(\n",
    "        \"motor EoL treatment\",\n",
    "        \"unit\",\n",
    "        [\n",
    "            (motor_db.get(\"motor use\"), 1),\n",
    "            (act_elec, 0.041*weight_motor),\n",
    "            (act_incineration_insulation, -qt_insulation),\n",
    "            (act_incineration_copper, -0.04*qt_copper)\n",
    "        ]\n",
    "    )"
   ]
  },
  {
   "cell_type": "markdown",
   "id": "441b530b-c211-4524-a673-95e3f72c5d23",
   "metadata": {},
   "source": [
    "And now a function to call all the functions which creates activities:"
   ]
  },
  {
   "cell_type": "code",
   "execution_count": 48,
   "id": "50cd909e-fa15-46ab-ac13-e86c20885a4f",
   "metadata": {},
   "outputs": [],
   "source": [
    "def create_motor_system(\n",
    "    qt_steel_unalloyed=qt_steel_unalloyed, \n",
    "    qt_steel_low_alloyed=qt_steel_low_alloyed, \n",
    "    qt_copper=qt_copper, \n",
    "    qt_insulation=qt_insulation, \n",
    "    lifetime=lifetime, \n",
    "    efficiency=efficiency, \n",
    "    weight_motor=weight_motor\n",
    "):\n",
    "    create_motor_production(qt_steel_unalloyed=qt_steel_unalloyed, qt_steel_low_alloyed=qt_steel_low_alloyed, qt_copper=qt_copper, qt_insulation=qt_insulation)\n",
    "    create_motor_testing()\n",
    "    create_motor_use(lifetime=lifetime, efficiency=efficiency)\n",
    "    create_motor_treatment(weight_motor=weight_motor, qt_insulation=qt_insulation, qt_copper=qt_copper)"
   ]
  },
  {
   "cell_type": "code",
   "execution_count": 49,
   "id": "d6fb7949-0767-4458-a12c-6776fbd34854",
   "metadata": {},
   "outputs": [],
   "source": [
    "create_motor_system()"
   ]
  },
  {
   "cell_type": "markdown",
   "id": "8492bdc1-7589-4f6c-854c-b73b2837a49f",
   "metadata": {},
   "source": [
    "To check the activities in the database:"
   ]
  },
  {
   "cell_type": "code",
   "execution_count": 50,
   "id": "acd4e52e-500a-4ce1-81cd-fe4b7a0398ec",
   "metadata": {},
   "outputs": [
    {
     "data": {
      "text/plain": [
       "['motor testing' (unit, GLO, None),\n",
       " 'motor use' (unit, GLO, None),\n",
       " 'motor EoL treatment' (unit, GLO, None),\n",
       " 'motor production' (unit, GLO, None)]"
      ]
     },
     "execution_count": 50,
     "metadata": {},
     "output_type": "execute_result"
    }
   ],
   "source": [
    "[act for act in motor_db]"
   ]
  },
  {
   "cell_type": "markdown",
   "id": "466aa935-3714-4874-9cf2-2726f6289eea",
   "metadata": {},
   "source": [
    "# First LCA calculation\n",
    "\n",
    "## Selection of impact assessment methods\n",
    "\n",
    "Impact assessment methods have been imported with the biosphere database. The list of all available methods is accessible with:"
   ]
  },
  {
   "cell_type": "code",
   "execution_count": 51,
   "id": "b863b36b-8ed3-43a4-a303-8a33e089a934",
   "metadata": {},
   "outputs": [
    {
     "data": {
      "text/plain": [
       "Methods dictionary with 762 objects, including:\n",
       "\t('CML v4.8 2016', 'acidification', 'acidification (incl. fate, average Europe total, A&B)')\n",
       "\t('CML v4.8 2016', 'climate change', 'global warming potential (GWP100)')\n",
       "\t('CML v4.8 2016', 'ecotoxicity: freshwater', 'freshwater aquatic ecotoxicity (FAETP inf)')\n",
       "\t('CML v4.8 2016', 'ecotoxicity: marine', 'marine aquatic ecotoxicity (MAETP inf)')\n",
       "\t('CML v4.8 2016', 'ecotoxicity: terrestrial', 'terrestrial ecotoxicity (TETP inf)')\n",
       "\t('CML v4.8 2016', 'energy resources: non-renewable', 'abiotic depletion potential (ADP): fossil fuels')\n",
       "\t('CML v4.8 2016', 'eutrophication', 'eutrophication (fate not incl.)')\n",
       "\t('CML v4.8 2016', 'human toxicity', 'human toxicity (HTP inf)')\n",
       "\t('CML v4.8 2016', 'material resources: metals/minerals', 'abiotic depletion potential (ADP): elements (ultimate reserves)')\n",
       "\t('CML v4.8 2016', 'ozone depletion', 'ozone layer depletion (ODP steady state)')\n",
       "Use `list(this object)` to get the complete list."
      ]
     },
     "execution_count": 51,
     "metadata": {},
     "output_type": "execute_result"
    }
   ],
   "source": [
    "bd.methods"
   ]
  },
  {
   "cell_type": "markdown",
   "id": "aa1e8333-096f-49e0-a162-75b21e29269d",
   "metadata": {},
   "source": [
    "For searching in the list of methods, use conditions in the list:"
   ]
  },
  {
   "cell_type": "code",
   "execution_count": 52,
   "id": "ab86c180-3518-4e60-9dc9-a99895038998",
   "metadata": {},
   "outputs": [
    {
     "data": {
      "text/plain": [
       "[('EF v3.1 no LT',\n",
       "  'climate change no LT',\n",
       "  'global warming potential (GWP100) no LT'),\n",
       " ('EF v3.1 no LT',\n",
       "  'climate change: biogenic no LT',\n",
       "  'global warming potential (GWP100) no LT'),\n",
       " ('EF v3.1 no LT',\n",
       "  'climate change: fossil no LT',\n",
       "  'global warming potential (GWP100) no LT'),\n",
       " ('EF v3.1 no LT',\n",
       "  'climate change: land use and land use change no LT',\n",
       "  'global warming potential (GWP100) no LT'),\n",
       " ('EF v3.1', 'climate change', 'global warming potential (GWP100)'),\n",
       " ('EF v3.1', 'climate change: biogenic', 'global warming potential (GWP100)'),\n",
       " ('EF v3.1', 'climate change: fossil', 'global warming potential (GWP100)'),\n",
       " ('EF v3.1',\n",
       "  'climate change: land use and land use change',\n",
       "  'global warming potential (GWP100)'),\n",
       " ('EF v3.1 EN15804', 'climate change', 'global warming potential (GWP100)'),\n",
       " ('EF v3.1 EN15804',\n",
       "  'climate change: biogenic',\n",
       "  'global warming potential (GWP100)'),\n",
       " ('EF v3.1 EN15804',\n",
       "  'climate change: fossil',\n",
       "  'global warming potential (GWP100)'),\n",
       " ('EF v3.1 EN15804',\n",
       "  'climate change: land use and land use change',\n",
       "  'global warming potential (GWP100)')]"
      ]
     },
     "execution_count": 52,
     "metadata": {},
     "output_type": "execute_result"
    }
   ],
   "source": [
    "[method for method in bd.methods if \"climate change\" in str(method) and \"EF v3.1\" in str(method)]"
   ]
  },
  {
   "cell_type": "markdown",
   "id": "f085399c-bb0d-4944-bf0a-1428d860f59a",
   "metadata": {},
   "source": [
    "Methods can be selected when knowing the tuple for their name:"
   ]
  },
  {
   "cell_type": "code",
   "execution_count": 53,
   "id": "c4bbfbd8-45cd-4376-8efe-20ecfa0a5816",
   "metadata": {},
   "outputs": [],
   "source": [
    "gw_method = ('EF v3.1', 'climate change', 'global warming potential (GWP100)')"
   ]
  },
  {
   "cell_type": "markdown",
   "id": "47df0cec-ac5f-44c3-bc89-11f358ff5d08",
   "metadata": {},
   "source": [
    "Or by selecting the items in a list:"
   ]
  },
  {
   "cell_type": "code",
   "execution_count": 54,
   "id": "b6862d40-5830-4587-8ae7-6b82c57e85b7",
   "metadata": {},
   "outputs": [],
   "source": [
    "csi_method = [method for method in bd.methods if \"Crustal\" in str(method)][0]"
   ]
  },
  {
   "cell_type": "markdown",
   "id": "508c099b-685c-4abc-8f75-ad547dde3d07",
   "metadata": {},
   "source": [
    "## Impact assessment\n",
    "\n",
    "The impact assessment is divided in several steps. First, the functional unit is defined as a dictionary {activity: amount}."
   ]
  },
  {
   "cell_type": "code",
   "execution_count": 55,
   "id": "62c0ccbb-9a35-4c39-83f7-1b4bca6a8a74",
   "metadata": {},
   "outputs": [],
   "source": [
    "functional_unit = {motor_db.get(\"motor EoL treatment\"): 1/lifetime}"
   ]
  },
  {
   "cell_type": "markdown",
   "id": "6f6ebdf5-3b54-465e-ae92-7bd839f1ad06",
   "metadata": {},
   "source": [
    "Then an LCA \"object\" is created by specifying the functional unit and the impact assessment method (only one):"
   ]
  },
  {
   "cell_type": "code",
   "execution_count": 56,
   "id": "d77242a0-c871-4ca2-b4da-06dd6649706d",
   "metadata": {},
   "outputs": [],
   "source": [
    "lca = bc.LCA(demand=functional_unit, method=gw_method)"
   ]
  },
  {
   "cell_type": "markdown",
   "id": "265f6396-2a36-44c7-902f-88fc85ba78b8",
   "metadata": {},
   "source": [
    "The inventory is calculated:"
   ]
  },
  {
   "cell_type": "code",
   "execution_count": 57,
   "id": "723fd467-60dc-4231-b195-a3caab1af9f4",
   "metadata": {},
   "outputs": [],
   "source": [
    "lca.lci()"
   ]
  },
  {
   "cell_type": "markdown",
   "id": "67872340-fca2-4630-b397-55ee092b45b4",
   "metadata": {},
   "source": [
    "And finally the impact assessment:"
   ]
  },
  {
   "cell_type": "code",
   "execution_count": 58,
   "id": "5e0c20fd-eee0-4823-bac1-9a51815583fd",
   "metadata": {},
   "outputs": [],
   "source": [
    "lca.lcia()"
   ]
  },
  {
   "cell_type": "markdown",
   "id": "495a178e-a196-4c16-ba44-445fdcd03609",
   "metadata": {},
   "source": [
    "The score can be accessed with:"
   ]
  },
  {
   "cell_type": "code",
   "execution_count": 59,
   "id": "480604bd-5308-4db2-b024-614eb082e2ef",
   "metadata": {},
   "outputs": [
    {
     "data": {
      "text/plain": [
       "126133.2219074139"
      ]
     },
     "execution_count": 59,
     "metadata": {},
     "output_type": "execute_result"
    }
   ],
   "source": [
    "lca.score"
   ]
  },
  {
   "cell_type": "markdown",
   "id": "19f6ffb7-5c63-4a08-b37c-d8dbfa543c91",
   "metadata": {},
   "source": [
    "And the method can be accessed with `lca.method`. So here is the score with the unit:"
   ]
  },
  {
   "cell_type": "code",
   "execution_count": 60,
   "id": "d0790500-c507-42bc-93ff-012be8367aec",
   "metadata": {},
   "outputs": [
    {
     "name": "stdout",
     "output_type": "stream",
     "text": [
      "1.26e+05 kg CO2-Eq\n"
     ]
    }
   ],
   "source": [
    "print(\"{:.2e}\".format(lca.score) + \" \" + bd.methods.get(lca.method)[\"unit\"])"
   ]
  },
  {
   "cell_type": "markdown",
   "id": "8bcc5b77-3c89-4e8f-81ae-1f1143278cda",
   "metadata": {},
   "source": [
    "To calculate another impact category, use:"
   ]
  },
  {
   "cell_type": "code",
   "execution_count": 61,
   "id": "aeb3bbab-110b-4639-85b5-c2e0b63ede0a",
   "metadata": {},
   "outputs": [],
   "source": [
    "lca.switch_method(csi_method)"
   ]
  },
  {
   "cell_type": "markdown",
   "id": "e1729595-ddcc-4876-b137-215290e19836",
   "metadata": {},
   "source": [
    "The inventory does not need to be recalculated. Only the impact assessment:"
   ]
  },
  {
   "cell_type": "code",
   "execution_count": 62,
   "id": "82d42434-e8ea-4829-a5bf-ef4fb76b186a",
   "metadata": {},
   "outputs": [],
   "source": [
    "lca.lcia()"
   ]
  },
  {
   "cell_type": "code",
   "execution_count": 63,
   "id": "32e2206b-20f5-4ac3-b68c-37dcc2eeb8cf",
   "metadata": {},
   "outputs": [
    {
     "name": "stdout",
     "output_type": "stream",
     "text": [
      "2.42e+07 kg Si-Eq\n"
     ]
    }
   ],
   "source": [
    "print(\"{:.2e}\".format(lca.score) + \" \" + bd.methods.get(lca.method)[\"unit\"])"
   ]
  },
  {
   "cell_type": "markdown",
   "id": "ad2132de-52b6-4bb9-a2fe-66c2a1709c36",
   "metadata": {},
   "source": [
    "Here is a function to calculate the impact for several impact categories and return the results in a table:"
   ]
  },
  {
   "cell_type": "code",
   "execution_count": 64,
   "id": "0570f91d-57ac-400f-849a-9544e0569752",
   "metadata": {},
   "outputs": [],
   "source": [
    "def lca_results(fu, list_methods):\n",
    "    list_units = [bd.methods.get(method)[\"unit\"] for method in list_methods]\n",
    "    lca = bc.LCA(demand=fu, method=list_methods[0])\n",
    "    lca.lci()\n",
    "    lca.lcia()\n",
    "    list_scores = [lca.score]\n",
    "    for method in list_methods[1:]:\n",
    "        lca.switch_method(method)\n",
    "        lca.lcia()\n",
    "        list_scores.append(lca.score)\n",
    "    return pd.DataFrame({\"score\": list_scores, \"unit\": list_units, \"method\": list_methods})"
   ]
  },
  {
   "cell_type": "markdown",
   "id": "443dd591-d069-486d-b6ec-13211d7dfc85",
   "metadata": {},
   "source": [
    "Here is a test:"
   ]
  },
  {
   "cell_type": "code",
   "execution_count": 65,
   "id": "c7f0bfab-d906-41b0-a8c6-43b516547510",
   "metadata": {},
   "outputs": [
    {
     "data": {
      "text/html": [
       "<div>\n",
       "<style scoped>\n",
       "    .dataframe tbody tr th:only-of-type {\n",
       "        vertical-align: middle;\n",
       "    }\n",
       "\n",
       "    .dataframe tbody tr th {\n",
       "        vertical-align: top;\n",
       "    }\n",
       "\n",
       "    .dataframe thead th {\n",
       "        text-align: right;\n",
       "    }\n",
       "</style>\n",
       "<table border=\"1\" class=\"dataframe\">\n",
       "  <thead>\n",
       "    <tr style=\"text-align: right;\">\n",
       "      <th></th>\n",
       "      <th>score</th>\n",
       "      <th>unit</th>\n",
       "      <th>method</th>\n",
       "    </tr>\n",
       "  </thead>\n",
       "  <tbody>\n",
       "    <tr>\n",
       "      <th>0</th>\n",
       "      <td>1.261332e+05</td>\n",
       "      <td>kg CO2-Eq</td>\n",
       "      <td>(EF v3.1, climate change, global warming poten...</td>\n",
       "    </tr>\n",
       "    <tr>\n",
       "      <th>1</th>\n",
       "      <td>2.419240e+07</td>\n",
       "      <td>kg Si-Eq</td>\n",
       "      <td>(Crustal Scarcity Indicator 2020, material res...</td>\n",
       "    </tr>\n",
       "  </tbody>\n",
       "</table>\n",
       "</div>"
      ],
      "text/plain": [
       "          score       unit                                             method\n",
       "0  1.261332e+05  kg CO2-Eq  (EF v3.1, climate change, global warming poten...\n",
       "1  2.419240e+07   kg Si-Eq  (Crustal Scarcity Indicator 2020, material res..."
      ]
     },
     "execution_count": 65,
     "metadata": {},
     "output_type": "execute_result"
    }
   ],
   "source": [
    "functional_unit = {motor_db.get(\"motor EoL treatment\"): 1/lifetime}\n",
    "lca_results(functional_unit, [gw_method, csi_method])"
   ]
  },
  {
   "cell_type": "markdown",
   "id": "3f405e96-c606-4e0b-a851-efc55d2104bd",
   "metadata": {},
   "source": [
    "## Basic contribution analysis\n",
    "\n",
    "Brightway provides functions for contribution analysis with the top processes:"
   ]
  },
  {
   "cell_type": "code",
   "execution_count": 66,
   "id": "6c772bdc-1303-4f87-82ae-3b672df163b2",
   "metadata": {},
   "outputs": [
    {
     "data": {
      "text/plain": [
       "[(3225884.4388409015,\n",
       "  11.024895197370894,\n",
       "  'uranium production, in yellowcake, in-situ leaching' (kilogram, GLO, None)),\n",
       " (1895348.3536409396,\n",
       "  143.55897281048678,\n",
       "  'copper mine operation and beneficiation, sulfide ore' (kilogram, RoW, None)),\n",
       " (1885859.7735508422,\n",
       "  8.163895494344217,\n",
       "  'uranium mine operation, underground' (kilogram, RNA, None)),\n",
       " (1780238.9379032813,\n",
       "  7.706662418828517,\n",
       "  'uranium mine operation, underground' (kilogram, RoW, None)),\n",
       " (1693698.450124781,\n",
       "  120.28203978155202,\n",
       "  'copper mine operation and beneficiation, sulfide ore' (kilogram, CL, None))]"
      ]
     },
     "execution_count": 66,
     "metadata": {},
     "output_type": "execute_result"
    }
   ],
   "source": [
    "bwa.ContributionAnalysis().annotated_top_processes(lca, limit = 5)\n",
    "#(lca score, supply amount, activity name)"
   ]
  },
  {
   "cell_type": "markdown",
   "id": "782066e6-d169-40cb-a0f5-8b15ebf147b1",
   "metadata": {},
   "source": [
    "And with the top contributing elementary flows:"
   ]
  },
  {
   "cell_type": "code",
   "execution_count": 67,
   "id": "690a57f7-956a-452b-85d1-6c992163cdb9",
   "metadata": {},
   "outputs": [],
   "source": [
    "#bwa.ContributionAnalysis().annotated_top_emissions(lca)"
   ]
  },
  {
   "cell_type": "markdown",
   "id": "9e4977b2-e2b8-42bc-8fd6-657a64ae0d1c",
   "metadata": {},
   "source": [
    "The cut-off can be expressed in terms of number of processes/flows or in terms of percentages."
   ]
  },
  {
   "cell_type": "markdown",
   "id": "87e9ab4f-66e0-4de5-80a9-5ab61f7da551",
   "metadata": {},
   "source": [
    "## Customised contribution analysis\n",
    "\n",
    "Here I provide functions for contribution analysis for the processes in the created database:"
   ]
  },
  {
   "cell_type": "code",
   "execution_count": 68,
   "id": "58812760-736f-471e-b422-7f5ed592c928",
   "metadata": {},
   "outputs": [],
   "source": [
    "def table_recursive_multi_calculation_dbparent_cut(activity, lcia_methods, amount=1, level=0, max_level=3, db_parent=None, db_cut=['ecoinvent'], act_parent={\"name\": None}):\n",
    "    \"\"\"\n",
    "    Returns a table (DataFrame) with the contribution tree for a given activity and various LCIA methods.\n",
    "    The contribution tree does not contain sub-activities if the activity is from a database in db_cut (to avoid \n",
    "    having details on ecoinvent datasets and to stay in my own model) and has the maximum level max_level.\n",
    "    Columns for the returned table: level, activity, activity parent, database parent, and str(method) for all LCIA method explored.\n",
    "    \"\"\"\n",
    "    \n",
    "    lca_score = lca_results({activity: amount}, lcia_methods)\n",
    "    table = pd.DataFrame([[level, activity[\"name\"], act_parent[\"name\"], db_parent]+ list(lca_score[\"score\"])], columns=[\"level\", \"activity\", \"activity parent\", \"database parent\"]+[str(m) for m in lcia_methods])\n",
    "    if level < max_level:\n",
    "        db_parent = activity['database']\n",
    "        go_forward = True\n",
    "        for stop_word in db_cut:\n",
    "            if stop_word in db_parent:\n",
    "                go_forward = False\n",
    "        if go_forward:\n",
    "            for exc in activity.technosphere():\n",
    "                table = pd.concat([table, table_recursive_multi_calculation_dbparent_cut(\n",
    "                    activity=exc.input, \n",
    "                    lcia_methods=lcia_methods, \n",
    "                    amount=amount * exc['amount'], \n",
    "                    level=level + 1, \n",
    "                    max_level=max_level,\n",
    "                    db_parent = db_parent,\n",
    "                    act_parent = activity\n",
    "                )], ignore_index=True)\n",
    "    return table"
   ]
  },
  {
   "cell_type": "code",
   "execution_count": 69,
   "id": "4ad5f701-92ea-4634-974d-ef9ddd1bbba7",
   "metadata": {},
   "outputs": [],
   "source": [
    "def table_recursive_multi_calculation_dbcut(activity, lcia_methods, amount=1, level=0, max_level=3, db_activity='motor_case', db_cut=['ecoinvent', 'biosphere']):\n",
    "    \"\"\"\n",
    "    Returns a table (DataFrame) with the contribution tree for a given activity and various LCIA methods.\n",
    "    The contribution tree does not contain activities if they are from a database in db_cut (to avoid \n",
    "    having details on ecoinvent datasets and to stay in my own model) and has the maximum level max_level.\n",
    "    Columns for the returned table: level, activity, database, and str(method) for all LCIA method explored.\n",
    "    \"\"\"\n",
    "    \n",
    "    lca_score = lca_results({activity: amount}, lcia_methods)\n",
    "    table = pd.DataFrame([[level, activity[\"name\"], db_activity]+ list(lca_score[\"score\"])], columns=[\"level\", \"activity\", \"database\"]+[str(m) for m in lcia_methods])\n",
    "    if level < max_level:\n",
    "        for exc in activity.technosphere():\n",
    "            db_exc = exc.input['database']\n",
    "            go_forward = True\n",
    "            for stop_word in db_cut:\n",
    "                if stop_word in db_exc:\n",
    "                    go_forward = False\n",
    "            if go_forward:\n",
    "                table = pd.concat([table, table_recursive_multi_calculation_dbcut(\n",
    "                    activity=exc.input, \n",
    "                    lcia_methods=lcia_methods, \n",
    "                    amount=amount * exc['amount'], \n",
    "                    level=level + 1, \n",
    "                    max_level=max_level,\n",
    "                    db_activity = db_exc\n",
    "                )], ignore_index=True)\n",
    "    return table"
   ]
  },
  {
   "cell_type": "code",
   "execution_count": 70,
   "id": "d2d6919f-4292-4534-8efc-53426d66c571",
   "metadata": {},
   "outputs": [
    {
     "data": {
      "text/html": [
       "<div>\n",
       "<style scoped>\n",
       "    .dataframe tbody tr th:only-of-type {\n",
       "        vertical-align: middle;\n",
       "    }\n",
       "\n",
       "    .dataframe tbody tr th {\n",
       "        vertical-align: top;\n",
       "    }\n",
       "\n",
       "    .dataframe thead th {\n",
       "        text-align: right;\n",
       "    }\n",
       "</style>\n",
       "<table border=\"1\" class=\"dataframe\">\n",
       "  <thead>\n",
       "    <tr style=\"text-align: right;\">\n",
       "      <th></th>\n",
       "      <th>level</th>\n",
       "      <th>activity</th>\n",
       "      <th>database</th>\n",
       "      <th>('EF v3.1', 'climate change', 'global warming potential (GWP100)')</th>\n",
       "      <th>('Crustal Scarcity Indicator 2020', 'material resources: metals/minerals', 'crustal scarcity potential (CSP)')</th>\n",
       "    </tr>\n",
       "  </thead>\n",
       "  <tbody>\n",
       "    <tr>\n",
       "      <th>0</th>\n",
       "      <td>0</td>\n",
       "      <td>motor EoL treatment</td>\n",
       "      <td>motor_case</td>\n",
       "      <td>126133.221907</td>\n",
       "      <td>2.419240e+07</td>\n",
       "    </tr>\n",
       "    <tr>\n",
       "      <th>1</th>\n",
       "      <td>1</td>\n",
       "      <td>motor use</td>\n",
       "      <td>motor_case</td>\n",
       "      <td>126083.222261</td>\n",
       "      <td>2.419194e+07</td>\n",
       "    </tr>\n",
       "    <tr>\n",
       "      <th>2</th>\n",
       "      <td>2</td>\n",
       "      <td>motor testing</td>\n",
       "      <td>motor_case</td>\n",
       "      <td>4162.943986</td>\n",
       "      <td>6.111411e+06</td>\n",
       "    </tr>\n",
       "    <tr>\n",
       "      <th>3</th>\n",
       "      <td>3</td>\n",
       "      <td>motor production</td>\n",
       "      <td>motor_case</td>\n",
       "      <td>4136.791334</td>\n",
       "      <td>6.107533e+06</td>\n",
       "    </tr>\n",
       "  </tbody>\n",
       "</table>\n",
       "</div>"
      ],
      "text/plain": [
       "   level             activity    database  \\\n",
       "0      0  motor EoL treatment  motor_case   \n",
       "1      1            motor use  motor_case   \n",
       "2      2        motor testing  motor_case   \n",
       "3      3     motor production  motor_case   \n",
       "\n",
       "   ('EF v3.1', 'climate change', 'global warming potential (GWP100)')  \\\n",
       "0                                      126133.221907                    \n",
       "1                                      126083.222261                    \n",
       "2                                        4162.943986                    \n",
       "3                                        4136.791334                    \n",
       "\n",
       "   ('Crustal Scarcity Indicator 2020', 'material resources: metals/minerals', 'crustal scarcity potential (CSP)')  \n",
       "0                                       2.419240e+07                                                               \n",
       "1                                       2.419194e+07                                                               \n",
       "2                                       6.111411e+06                                                               \n",
       "3                                       6.107533e+06                                                               "
      ]
     },
     "execution_count": 70,
     "metadata": {},
     "output_type": "execute_result"
    }
   ],
   "source": [
    "table_recursive_multi_calculation_dbcut(\n",
    "    activity = motor_db.get(\"motor EoL treatment\"), \n",
    "    lcia_methods=[gw_method, csi_method], \n",
    "    amount = 1/lifetime,\n",
    "    max_level = 3\n",
    ")"
   ]
  },
  {
   "cell_type": "code",
   "execution_count": 71,
   "id": "d7173f37-b19e-4769-8190-abd607287fa8",
   "metadata": {},
   "outputs": [
    {
     "data": {
      "text/html": [
       "<div>\n",
       "<style scoped>\n",
       "    .dataframe tbody tr th:only-of-type {\n",
       "        vertical-align: middle;\n",
       "    }\n",
       "\n",
       "    .dataframe tbody tr th {\n",
       "        vertical-align: top;\n",
       "    }\n",
       "\n",
       "    .dataframe thead th {\n",
       "        text-align: right;\n",
       "    }\n",
       "</style>\n",
       "<table border=\"1\" class=\"dataframe\">\n",
       "  <thead>\n",
       "    <tr style=\"text-align: right;\">\n",
       "      <th></th>\n",
       "      <th>level</th>\n",
       "      <th>activity</th>\n",
       "      <th>activity parent</th>\n",
       "      <th>database parent</th>\n",
       "      <th>('EF v3.1', 'climate change', 'global warming potential (GWP100)')</th>\n",
       "      <th>('Crustal Scarcity Indicator 2020', 'material resources: metals/minerals', 'crustal scarcity potential (CSP)')</th>\n",
       "    </tr>\n",
       "  </thead>\n",
       "  <tbody>\n",
       "    <tr>\n",
       "      <th>0</th>\n",
       "      <td>0</td>\n",
       "      <td>motor EoL treatment</td>\n",
       "      <td>None</td>\n",
       "      <td>None</td>\n",
       "      <td>126133.221907</td>\n",
       "      <td>2.419240e+07</td>\n",
       "    </tr>\n",
       "    <tr>\n",
       "      <th>1</th>\n",
       "      <td>1</td>\n",
       "      <td>motor use</td>\n",
       "      <td>motor EoL treatment</td>\n",
       "      <td>motor_case</td>\n",
       "      <td>126083.222261</td>\n",
       "      <td>2.419194e+07</td>\n",
       "    </tr>\n",
       "    <tr>\n",
       "      <th>2</th>\n",
       "      <td>2</td>\n",
       "      <td>motor testing</td>\n",
       "      <td>motor use</td>\n",
       "      <td>motor_case</td>\n",
       "      <td>4162.943986</td>\n",
       "      <td>6.111411e+06</td>\n",
       "    </tr>\n",
       "    <tr>\n",
       "      <th>3</th>\n",
       "      <td>3</td>\n",
       "      <td>motor production</td>\n",
       "      <td>motor testing</td>\n",
       "      <td>motor_case</td>\n",
       "      <td>4136.791334</td>\n",
       "      <td>6.107533e+06</td>\n",
       "    </tr>\n",
       "    <tr>\n",
       "      <th>4</th>\n",
       "      <td>3</td>\n",
       "      <td>market for electricity, high voltage</td>\n",
       "      <td>motor testing</td>\n",
       "      <td>motor_case</td>\n",
       "      <td>26.152652</td>\n",
       "      <td>3.878385e+03</td>\n",
       "    </tr>\n",
       "    <tr>\n",
       "      <th>5</th>\n",
       "      <td>2</td>\n",
       "      <td>market for electricity, high voltage</td>\n",
       "      <td>motor use</td>\n",
       "      <td>motor_case</td>\n",
       "      <td>121920.278369</td>\n",
       "      <td>1.808053e+07</td>\n",
       "    </tr>\n",
       "    <tr>\n",
       "      <th>6</th>\n",
       "      <td>1</td>\n",
       "      <td>market for electricity, high voltage</td>\n",
       "      <td>motor EoL treatment</td>\n",
       "      <td>motor_case</td>\n",
       "      <td>2.325461</td>\n",
       "      <td>3.448611e+02</td>\n",
       "    </tr>\n",
       "    <tr>\n",
       "      <th>7</th>\n",
       "      <td>1</td>\n",
       "      <td>treatment of waste plastic, mixture, municipal...</td>\n",
       "      <td>motor EoL treatment</td>\n",
       "      <td>motor_case</td>\n",
       "      <td>47.394643</td>\n",
       "      <td>7.412927e+01</td>\n",
       "    </tr>\n",
       "    <tr>\n",
       "      <th>8</th>\n",
       "      <td>1</td>\n",
       "      <td>treatment of copper in car shredder residue, m...</td>\n",
       "      <td>motor EoL treatment</td>\n",
       "      <td>motor_case</td>\n",
       "      <td>0.279543</td>\n",
       "      <td>3.811270e+01</td>\n",
       "    </tr>\n",
       "  </tbody>\n",
       "</table>\n",
       "</div>"
      ],
      "text/plain": [
       "   level                                           activity  \\\n",
       "0      0                                motor EoL treatment   \n",
       "1      1                                          motor use   \n",
       "2      2                                      motor testing   \n",
       "3      3                                   motor production   \n",
       "4      3               market for electricity, high voltage   \n",
       "5      2               market for electricity, high voltage   \n",
       "6      1               market for electricity, high voltage   \n",
       "7      1  treatment of waste plastic, mixture, municipal...   \n",
       "8      1  treatment of copper in car shredder residue, m...   \n",
       "\n",
       "       activity parent database parent  \\\n",
       "0                 None            None   \n",
       "1  motor EoL treatment      motor_case   \n",
       "2            motor use      motor_case   \n",
       "3        motor testing      motor_case   \n",
       "4        motor testing      motor_case   \n",
       "5            motor use      motor_case   \n",
       "6  motor EoL treatment      motor_case   \n",
       "7  motor EoL treatment      motor_case   \n",
       "8  motor EoL treatment      motor_case   \n",
       "\n",
       "   ('EF v3.1', 'climate change', 'global warming potential (GWP100)')  \\\n",
       "0                                      126133.221907                    \n",
       "1                                      126083.222261                    \n",
       "2                                        4162.943986                    \n",
       "3                                        4136.791334                    \n",
       "4                                          26.152652                    \n",
       "5                                      121920.278369                    \n",
       "6                                           2.325461                    \n",
       "7                                          47.394643                    \n",
       "8                                           0.279543                    \n",
       "\n",
       "   ('Crustal Scarcity Indicator 2020', 'material resources: metals/minerals', 'crustal scarcity potential (CSP)')  \n",
       "0                                       2.419240e+07                                                               \n",
       "1                                       2.419194e+07                                                               \n",
       "2                                       6.111411e+06                                                               \n",
       "3                                       6.107533e+06                                                               \n",
       "4                                       3.878385e+03                                                               \n",
       "5                                       1.808053e+07                                                               \n",
       "6                                       3.448611e+02                                                               \n",
       "7                                       7.412927e+01                                                               \n",
       "8                                       3.811270e+01                                                               "
      ]
     },
     "execution_count": 71,
     "metadata": {},
     "output_type": "execute_result"
    }
   ],
   "source": [
    "table_recursive_multi_calculation_dbparent_cut(\n",
    "    activity = motor_db.get(\"motor EoL treatment\"), \n",
    "    lcia_methods=[gw_method, csi_method], \n",
    "    amount = 1/lifetime,\n",
    "    max_level = 3\n",
    ")"
   ]
  },
  {
   "cell_type": "markdown",
   "id": "46783ec4-5dc2-44f6-8c2f-c95503e62964",
   "metadata": {},
   "source": [
    "## Figures\n",
    "\n",
    "Here is a way to generate a box plot figure."
   ]
  },
  {
   "cell_type": "code",
   "execution_count": 72,
   "id": "99e1abf9-859e-4e53-b4cd-195108688711",
   "metadata": {},
   "outputs": [],
   "source": [
    "own_colors = {\n",
    "    \"motor production\":\"#1f78b4\", #blue\n",
    "    \"motor use\":\"#969696\", #gray\n",
    "    \"motor EoL treatment\": \"#41ae76\", #green\n",
    "    \"motor testing\":\"#fff7bc\" #yellow\n",
    "}"
   ]
  },
  {
   "cell_type": "code",
   "execution_count": 73,
   "id": "2fbd4dd5-f71d-4b2e-bb0f-5a4148423b48",
   "metadata": {},
   "outputs": [],
   "source": [
    "table_results = table_recursive_multi_calculation_dbcut(\n",
    "    activity = motor_db.get(\"motor EoL treatment\"), \n",
    "    lcia_methods=[gw_method, csi_method], \n",
    "    amount = 1/lifetime,\n",
    "    max_level = 3\n",
    ")"
   ]
  },
  {
   "cell_type": "code",
   "execution_count": 74,
   "id": "7d177097-7c50-4d1f-a80d-c64b4e3eab6c",
   "metadata": {},
   "outputs": [],
   "source": [
    "def basic_bar_chart(table_results, legend_x_axis, own_colors=own_colors):\n",
    "    table_figure = table_results.set_index(table_results[\"activity\"])\n",
    "    number_methods = table_figure.shape[1] - 3\n",
    "\n",
    "    fig, ax = plt.subplots(1, number_methods)\n",
    "    x_axis = [0]\n",
    "\n",
    "    for n_fig, method in enumerate(table_figure.columns[3:]):\n",
    "        for activity in table_figure.index:\n",
    "            if n_fig == 0:\n",
    "                ax[n_fig].bar(\n",
    "                    x_axis, \n",
    "                    table_figure.loc[activity, method], \n",
    "                    label=activity, \n",
    "                    color=own_colors[activity]\n",
    "                )\n",
    "            else:\n",
    "                ax[n_fig].bar(\n",
    "                    x_axis, \n",
    "                    table_figure.loc[activity, method], \n",
    "                    color=own_colors[activity]\n",
    "                )\n",
    "    \n",
    "    fig.tight_layout()\n",
    "    for n_fig in range(number_methods):\n",
    "        ax[n_fig].grid(True, axis='y', linewidth=0.4)\n",
    "        ax[n_fig].set_xticks(x_axis)\n",
    "        ax[n_fig].set_xticklabels([legend_x_axis[n_fig]], fontsize=14)\n",
    "    \n",
    "    fig.legend(loc='lower center', ncol=5)\n",
    "    plt.subplots_adjust(bottom=0.15)\n",
    "    \n",
    "    return plt.show()"
   ]
  },
  {
   "cell_type": "code",
   "execution_count": 75,
   "id": "767312c3-fe5d-44c4-9480-530a80a8b7d3",
   "metadata": {},
   "outputs": [
    {
     "data": {
      "image/png": "[encoded data removed]",
      "text/plain": [
       "<Figure size 640x480 with 2 Axes>"
      ]
     },
     "metadata": {},
     "output_type": "display_data"
    }
   ],
   "source": [
    "basic_bar_chart(\n",
    "    table_results,\n",
    "    [\"GW\", \"CSI\"]\n",
    ")"
   ]
  },
  {
   "cell_type": "markdown",
   "id": "e12b37b4-52f5-40b5-8081-b8e4730189a1",
   "metadata": {},
   "source": [
    "# Different scenarios"
   ]
  },
  {
   "cell_type": "markdown",
   "id": "11ecb341-9b54-4fa4-a183-946a1546ea5f",
   "metadata": {},
   "source": [
    "## Data"
   ]
  },
  {
   "cell_type": "code",
   "execution_count": 76,
   "id": "aee92698-0648-4e54-b79f-d52dff599cee",
   "metadata": {},
   "outputs": [],
   "source": [
    "data_low_efficiency = {\n",
    "    \"qt_steel_unalloyed\": 26600, #kg\n",
    "    \"qt_steel_low_alloyed\": 4100, #kg\n",
    "    \"qt_copper\": 3600, #kg\n",
    "    \"qt_insulation\": 400, #kg\n",
    "    \"weight_motor\": 26600+4100+3600+400, #kg\n",
    "    \"lifetime\": 20, #years\n",
    "    \"efficiency\": 0.973\n",
    "}"
   ]
  },
  {
   "cell_type": "code",
   "execution_count": 77,
   "id": "cf201bc4-b76d-4229-81b4-b10169a0da34",
   "metadata": {},
   "outputs": [],
   "source": [
    "data_high_efficiency = {\n",
    "    \"qt_steel_unalloyed\": 18000, #kg\n",
    "    \"qt_steel_low_alloyed\": 9200, #kg\n",
    "    \"qt_copper\": 3800, #kg\n",
    "    \"qt_insulation\": 300, #kg\n",
    "    \"weight_motor\": 18000+9200+3800+300, #kg\n",
    "    \"lifetime\": 20, #years\n",
    "    \"efficiency\": 0.9835\n",
    "}"
   ]
  },
  {
   "cell_type": "code",
   "execution_count": 78,
   "id": "ec1ec395-28d0-4da3-a6b2-8f0f9c683ddf",
   "metadata": {},
   "outputs": [],
   "source": [
    "data_repair_low_efficiency = {\n",
    "    \"qt_steel_unalloyed\": 26600, #kg\n",
    "    \"qt_steel_low_alloyed\": 4100, #kg\n",
    "    \"qt_copper\": 3600*1.5, #kg\n",
    "    \"qt_insulation\": 400*1.5, #kg\n",
    "    \"weight_motor\": 26600+4100+3600*1.5+400*1.5, #kg\n",
    "    \"lifetime\": 40, #years\n",
    "    \"efficiency\": 0.973\n",
    "}"
   ]
  },
  {
   "cell_type": "code",
   "execution_count": 79,
   "id": "ed24166d-a1db-4c21-96d3-3534b7f56554",
   "metadata": {},
   "outputs": [],
   "source": [
    "data_repair_high_efficiency = {\n",
    "    \"qt_steel_unalloyed\": 18000, #kg\n",
    "    \"qt_steel_low_alloyed\": 9200, #kg\n",
    "    \"qt_copper\": 3800*1.5, #kg\n",
    "    \"qt_insulation\": 300*1.5, #kg\n",
    "    \"weight_motor\": 18000+9200+3800*1.5+300*1.5, #kg\n",
    "    \"lifetime\": 40, #years\n",
    "    \"efficiency\": 0.9835\n",
    "}"
   ]
  },
  {
   "cell_type": "markdown",
   "id": "d4a40d29-5afd-4d36-bb42-bea362fdfbc6",
   "metadata": {},
   "source": [
    "## Generation of results"
   ]
  },
  {
   "cell_type": "code",
   "execution_count": 80,
   "id": "484b3641-a51f-45b7-a244-19c5855cab8c",
   "metadata": {},
   "outputs": [],
   "source": [
    "dict_scenarios = {\n",
    "    \"low efficiency\": data_low_efficiency, \n",
    "    \"high efficiency\": data_high_efficiency, \n",
    "    \"repair low efficiency\": data_repair_low_efficiency, \n",
    "    \"repair high efficiency\": data_repair_high_efficiency\n",
    "}"
   ]
  },
  {
   "cell_type": "code",
   "execution_count": 81,
   "id": "aa6957a4-b150-44f1-8827-a509be96e88c",
   "metadata": {},
   "outputs": [],
   "source": [
    "def return_table_results_scenarios(dict_scenarios, methods=[gw_method, csi_method]):\n",
    "    results_table = pd.DataFrame()\n",
    "    for name, data in dict_scenarios.items():\n",
    "        create_motor_system(**data)\n",
    "        functional_unit = {motor_db.get(\"motor EoL treatment\"): 1/data[\"lifetime\"]}\n",
    "        results_table_scenario = lca_results(functional_unit, methods)\n",
    "        results_table_scenario[\"scenario\"] = name\n",
    "        results_table = pd.concat([results_table, results_table_scenario], ignore_index=True)\n",
    "    return results_table"
   ]
  },
  {
   "cell_type": "code",
   "execution_count": 82,
   "id": "b7a73b95-a5ea-4a98-8afc-b41950023340",
   "metadata": {},
   "outputs": [],
   "source": [
    "table_results_scenarios = return_table_results_scenarios(dict_scenarios)"
   ]
  },
  {
   "cell_type": "code",
   "execution_count": 83,
   "id": "9c45d4ad-408c-4976-a9e7-adf62d963850",
   "metadata": {},
   "outputs": [
    {
     "data": {
      "text/html": [
       "<div>\n",
       "<style scoped>\n",
       "    .dataframe tbody tr th:only-of-type {\n",
       "        vertical-align: middle;\n",
       "    }\n",
       "\n",
       "    .dataframe tbody tr th {\n",
       "        vertical-align: top;\n",
       "    }\n",
       "\n",
       "    .dataframe thead th {\n",
       "        text-align: right;\n",
       "    }\n",
       "</style>\n",
       "<table border=\"1\" class=\"dataframe\">\n",
       "  <thead>\n",
       "    <tr style=\"text-align: right;\">\n",
       "      <th></th>\n",
       "      <th>score</th>\n",
       "      <th>unit</th>\n",
       "      <th>method</th>\n",
       "      <th>scenario</th>\n",
       "    </tr>\n",
       "  </thead>\n",
       "  <tbody>\n",
       "    <tr>\n",
       "      <th>0</th>\n",
       "      <td>1.261332e+05</td>\n",
       "      <td>kg CO2-Eq</td>\n",
       "      <td>(EF v3.1, climate change, global warming poten...</td>\n",
       "      <td>low efficiency</td>\n",
       "    </tr>\n",
       "    <tr>\n",
       "      <th>1</th>\n",
       "      <td>2.419240e+07</td>\n",
       "      <td>kg Si-Eq</td>\n",
       "      <td>(Crustal Scarcity Indicator 2020, material res...</td>\n",
       "      <td>low efficiency</td>\n",
       "    </tr>\n",
       "    <tr>\n",
       "      <th>2</th>\n",
       "      <td>7.768787e+04</td>\n",
       "      <td>kg CO2-Eq</td>\n",
       "      <td>(EF v3.1, climate change, global warming poten...</td>\n",
       "      <td>high efficiency</td>\n",
       "    </tr>\n",
       "    <tr>\n",
       "      <th>3</th>\n",
       "      <td>1.736572e+07</td>\n",
       "      <td>kg Si-Eq</td>\n",
       "      <td>(Crustal Scarcity Indicator 2020, material res...</td>\n",
       "      <td>high efficiency</td>\n",
       "    </tr>\n",
       "    <tr>\n",
       "      <th>4</th>\n",
       "      <td>1.243726e+05</td>\n",
       "      <td>kg CO2-Eq</td>\n",
       "      <td>(EF v3.1, climate change, global warming poten...</td>\n",
       "      <td>repair low efficiency</td>\n",
       "    </tr>\n",
       "    <tr>\n",
       "      <th>5</th>\n",
       "      <td>2.258877e+07</td>\n",
       "      <td>kg Si-Eq</td>\n",
       "      <td>(Crustal Scarcity Indicator 2020, material res...</td>\n",
       "      <td>repair low efficiency</td>\n",
       "    </tr>\n",
       "    <tr>\n",
       "      <th>6</th>\n",
       "      <td>7.605343e+04</td>\n",
       "      <td>kg CO2-Eq</td>\n",
       "      <td>(EF v3.1, climate change, global warming poten...</td>\n",
       "      <td>repair high efficiency</td>\n",
       "    </tr>\n",
       "    <tr>\n",
       "      <th>7</th>\n",
       "      <td>1.567980e+07</td>\n",
       "      <td>kg Si-Eq</td>\n",
       "      <td>(Crustal Scarcity Indicator 2020, material res...</td>\n",
       "      <td>repair high efficiency</td>\n",
       "    </tr>\n",
       "  </tbody>\n",
       "</table>\n",
       "</div>"
      ],
      "text/plain": [
       "          score       unit                                             method  \\\n",
       "0  1.261332e+05  kg CO2-Eq  (EF v3.1, climate change, global warming poten...   \n",
       "1  2.419240e+07   kg Si-Eq  (Crustal Scarcity Indicator 2020, material res...   \n",
       "2  7.768787e+04  kg CO2-Eq  (EF v3.1, climate change, global warming poten...   \n",
       "3  1.736572e+07   kg Si-Eq  (Crustal Scarcity Indicator 2020, material res...   \n",
       "4  1.243726e+05  kg CO2-Eq  (EF v3.1, climate change, global warming poten...   \n",
       "5  2.258877e+07   kg Si-Eq  (Crustal Scarcity Indicator 2020, material res...   \n",
       "6  7.605343e+04  kg CO2-Eq  (EF v3.1, climate change, global warming poten...   \n",
       "7  1.567980e+07   kg Si-Eq  (Crustal Scarcity Indicator 2020, material res...   \n",
       "\n",
       "                 scenario  \n",
       "0          low efficiency  \n",
       "1          low efficiency  \n",
       "2         high efficiency  \n",
       "3         high efficiency  \n",
       "4   repair low efficiency  \n",
       "5   repair low efficiency  \n",
       "6  repair high efficiency  \n",
       "7  repair high efficiency  "
      ]
     },
     "execution_count": 83,
     "metadata": {},
     "output_type": "execute_result"
    }
   ],
   "source": [
    "table_results_scenarios"
   ]
  },
  {
   "cell_type": "markdown",
   "id": "a39f98f8-9650-402f-90d4-e2d0e216f2e4",
   "metadata": {},
   "source": [
    "## Figures"
   ]
  },
  {
   "cell_type": "code",
   "execution_count": 84,
   "id": "2d5808ec-31c6-4dea-bc82-f506a5ecaa99",
   "metadata": {},
   "outputs": [],
   "source": [
    "def figure_comparison_scenarios(table_results_scenarios, legend_x_axis):\n",
    "    number_methods = 2\n",
    "\n",
    "    fig, ax = plt.subplots(1, number_methods)\n",
    "    x_axis = [i for i in range(len(dict_scenarios))]\n",
    "\n",
    "    for index in table_results_scenarios.index:\n",
    "        ax[index%2].bar(x_axis[index//2], table_results_scenarios.loc[index, \"score\"])\n",
    "    \n",
    "    fig.tight_layout()\n",
    "    for n_fig in range(number_methods):\n",
    "        ax[n_fig].grid(True, axis='y', linewidth=0.4)\n",
    "        ax[n_fig].set_xticks(x_axis)\n",
    "        ax[n_fig].set_xticklabels(legend_x_axis, rotation=90)\n",
    "        ax[n_fig].set_ylabel(table_results_scenarios.loc[n_fig, \"unit\"])\n",
    "\n",
    "    plt.subplots_adjust(wspace=0.3)\n",
    "    \n",
    "    return plt.show()"
   ]
  },
  {
   "cell_type": "code",
   "execution_count": 85,
   "id": "dccaee2d-996d-4517-9b04-e27a877ea8e1",
   "metadata": {},
   "outputs": [
    {
     "data": {
      "image/png": "[encoded data removed]",
      "text/plain": [
       "<Figure size 640x480 with 2 Axes>"
      ]
     },
     "metadata": {},
     "output_type": "display_data"
    }
   ],
   "source": [
    "figure_comparison_scenarios(table_results_scenarios, list(dict_scenarios.keys()))"
   ]
  },
  {
   "cell_type": "code",
   "execution_count": null,
   "id": "327173b4-bfb3-4c5a-b1eb-f336a29e8734",
   "metadata": {},
   "outputs": [],
   "source": []
  }
 ],
 "metadata": {
  "kernelspec": {
   "display_name": "Python 3 (ipykernel)",
   "language": "python",
   "name": "python3"
  },
  "language_info": {
   "codemirror_mode": {
    "name": "ipython",
    "version": 3
   },
   "file_extension": ".py",
   "mimetype": "text/x-python",
   "name": "python",
   "nbconvert_exporter": "python",
   "pygments_lexer": "ipython3",
   "version": "3.11.7"
  }
 },
 "nbformat": 4,
 "nbformat_minor": 5
}
