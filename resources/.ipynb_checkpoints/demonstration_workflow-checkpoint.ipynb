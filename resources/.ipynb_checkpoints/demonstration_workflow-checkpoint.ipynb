{
 "cells": [
  {
   "cell_type": "markdown",
   "id": "21285567-8375-4c0d-bfa7-99dbe640a407",
   "metadata": {},
   "source": [
    "This notebook has been developed to show how coding with brightway while still using the Activity Browser looks like.\n",
    "\n",
    "More information on the seminars can be found [here](https://adelinejerome.github.io/seminars-for-esa/)."
   ]
  },
  {
   "cell_type": "markdown",
   "id": "3540f99f-00ac-471b-b067-c75f4dab5cdc",
   "metadata": {},
   "source": [
    "# Importing packages"
   ]
  },
  {
   "cell_type": "code",
   "execution_count": 1,
   "id": "49c6e779-0ec4-4caa-9fa5-1226706199b1",
   "metadata": {},
   "outputs": [],
   "source": [
    "# Brightway\n",
    "import bw2data as bd\n",
    "import bw2io as bi\n",
    "import bw2calc as bc\n",
    "import bw2analyzer as bwa\n",
    "\n",
    "# Others\n",
    "import pandas as pd\n",
    "import matplotlib.pyplot as plt"
   ]
  },
  {
   "cell_type": "markdown",
   "id": "2fc328d3-fb48-4c22-9ce9-08e74728af93",
   "metadata": {},
   "source": [
    "# After modelling on the AB"
   ]
  },
  {
   "cell_type": "markdown",
   "id": "f0f894aa-4230-4c40-b8bd-29962ca49922",
   "metadata": {},
   "source": [
    "## Open the project and the database"
   ]
  },
  {
   "cell_type": "code",
   "execution_count": 17,
   "id": "c3b90e19-49de-427e-ac02-1b2f403689c1",
   "metadata": {},
   "outputs": [],
   "source": [
    "bd.projects.set_current(\"brightway2_test\")"
   ]
  },
  {
   "cell_type": "code",
   "execution_count": 18,
   "id": "f535edc0-2451-44a1-8b73-f41cecd7cde5",
   "metadata": {},
   "outputs": [],
   "source": [
    "test_db = bd.Database(\"db_test\")"
   ]
  },
  {
   "cell_type": "code",
   "execution_count": 19,
   "id": "2d508e0e-1044-4a85-af58-dcc5e50ce9a0",
   "metadata": {},
   "outputs": [
    {
     "data": {
      "text/plain": [
       "['test production' (unit, GLO, None)]"
      ]
     },
     "execution_count": 19,
     "metadata": {},
     "output_type": "execute_result"
    }
   ],
   "source": [
    "[act for act in test_db]"
   ]
  },
  {
   "cell_type": "markdown",
   "id": "65a8ea26-fd0e-47e1-b424-cb10a6186adf",
   "metadata": {},
   "source": [
    "## Selection of impact assessment methods"
   ]
  },
  {
   "cell_type": "markdown",
   "id": "9d5295e3-0442-46a4-b339-d23055398dfb",
   "metadata": {},
   "source": [
    "Global warming EF 3.1:"
   ]
  },
  {
   "cell_type": "code",
   "execution_count": 20,
   "id": "2063c5e3-222c-49e5-adab-57083d512c22",
   "metadata": {},
   "outputs": [],
   "source": [
    "gw_method = ('EF v3.1', 'climate change', 'global warming potential (GWP100)')"
   ]
  },
  {
   "cell_type": "markdown",
   "id": "aa23dcca-cdd0-4bba-bce1-b372d68389f3",
   "metadata": {},
   "source": [
    "Crustal scarcity indicator:"
   ]
  },
  {
   "cell_type": "code",
   "execution_count": 21,
   "id": "dc12c78b-e37b-4db2-950b-bbe553aabe92",
   "metadata": {},
   "outputs": [],
   "source": [
    "csi_method = [method for method in bd.methods if \"Crustal\" in str(method)][0]"
   ]
  },
  {
   "cell_type": "markdown",
   "id": "abc144b6-0068-49ae-902a-320bbf6e0822",
   "metadata": {},
   "source": [
    "## Selection of functional unit"
   ]
  },
  {
   "cell_type": "code",
   "execution_count": 22,
   "id": "6f0518f2-526c-4a99-bdfb-fc0ec7caba04",
   "metadata": {},
   "outputs": [],
   "source": [
    "# Value of the lifetime\n",
    "lifetime = 20 #years"
   ]
  },
  {
   "cell_type": "code",
   "execution_count": 25,
   "id": "e7232612-789a-425e-9326-68da255ee008",
   "metadata": {},
   "outputs": [],
   "source": [
    "functional_unit = {test_db.search(\"test production\")[0]: 1/lifetime}"
   ]
  },
  {
   "cell_type": "markdown",
   "id": "3915c948-00e0-4e1d-9880-16b3b632afd5",
   "metadata": {},
   "source": [
    "## Impact assessment"
   ]
  },
  {
   "cell_type": "code",
   "execution_count": 26,
   "id": "689722a3-ee8b-4d28-bbb6-e777a9af7a5e",
   "metadata": {},
   "outputs": [],
   "source": [
    "def lca_results(fu, list_methods):\n",
    "    list_units = [bd.methods.get(method)[\"unit\"] for method in list_methods]\n",
    "    lca = bc.LCA(demand=fu, method=list_methods[0])\n",
    "    lca.lci()\n",
    "    lca.lcia()\n",
    "    list_scores = [lca.score]\n",
    "    for method in list_methods[1:]:\n",
    "        lca.switch_method(method)\n",
    "        lca.lcia()\n",
    "        list_scores.append(lca.score)\n",
    "    return pd.DataFrame({\"score\": list_scores, \"unit\": list_units, \"method\": list_methods})"
   ]
  },
  {
   "cell_type": "code",
   "execution_count": 27,
   "id": "167ee7fd-bef9-49c4-bf16-564dd27bd71b",
   "metadata": {},
   "outputs": [
    {
     "data": {
      "text/html": [
       "<div>\n",
       "<style scoped>\n",
       "    .dataframe tbody tr th:only-of-type {\n",
       "        vertical-align: middle;\n",
       "    }\n",
       "\n",
       "    .dataframe tbody tr th {\n",
       "        vertical-align: top;\n",
       "    }\n",
       "\n",
       "    .dataframe thead th {\n",
       "        text-align: right;\n",
       "    }\n",
       "</style>\n",
       "<table border=\"1\" class=\"dataframe\">\n",
       "  <thead>\n",
       "    <tr style=\"text-align: right;\">\n",
       "      <th></th>\n",
       "      <th>score</th>\n",
       "      <th>unit</th>\n",
       "      <th>method</th>\n",
       "    </tr>\n",
       "  </thead>\n",
       "  <tbody>\n",
       "    <tr>\n",
       "      <th>0</th>\n",
       "      <td>0.363695</td>\n",
       "      <td>kg CO2-Eq</td>\n",
       "      <td>(EF v3.1, climate change, global warming poten...</td>\n",
       "    </tr>\n",
       "    <tr>\n",
       "      <th>1</th>\n",
       "      <td>66.416990</td>\n",
       "      <td>kg Si-Eq</td>\n",
       "      <td>(Crustal Scarcity Indicator 2020, material res...</td>\n",
       "    </tr>\n",
       "  </tbody>\n",
       "</table>\n",
       "</div>"
      ],
      "text/plain": [
       "       score       unit                                             method\n",
       "0   0.363695  kg CO2-Eq  (EF v3.1, climate change, global warming poten...\n",
       "1  66.416990   kg Si-Eq  (Crustal Scarcity Indicator 2020, material res..."
      ]
     },
     "execution_count": 27,
     "metadata": {},
     "output_type": "execute_result"
    }
   ],
   "source": [
    "lca_results(functional_unit, [gw_method, csi_method])"
   ]
  },
  {
   "cell_type": "markdown",
   "id": "da60df8d-f970-437f-9c0c-8a93746e3494",
   "metadata": {},
   "source": [
    "## Figures"
   ]
  },
  {
   "cell_type": "markdown",
   "id": "cfefa2b4-f0e9-4ebf-a7dc-bc93c4130801",
   "metadata": {},
   "source": [
    "### Generate the data to be plotted"
   ]
  },
  {
   "cell_type": "code",
   "execution_count": 138,
   "id": "66dc6bf8-c726-479e-86f3-9c763a6dc375",
   "metadata": {},
   "outputs": [],
   "source": [
    "def lca_contribution_results(fu, list_methods, nb_limit=3):\n",
    "    list_units = [bd.methods.get(method)[\"unit\"] for method in list_methods]\n",
    "    lca = bc.LCA(demand=fu, method=list_methods[0])\n",
    "    lca.lci()\n",
    "    lca.lcia()\n",
    "    list_contribution = bwa.ContributionAnalysis().annotated_top_processes(lca, limit = nb_limit)\n",
    "    returned_table = pd.DataFrame({\n",
    "        \"activity\": [\"others\"] + [act[2][\"name\"] + \" - \" + act[2][\"location\"] for act in list_contribution],\n",
    "        str(list_methods[0]): [lca.score - sum([act[0] for act in list_contribution])] + [act[0] for act in list_contribution]\n",
    "    })\n",
    "    for method in list_methods[1:]:\n",
    "        lca.switch_method(method)\n",
    "        lca.lcia()\n",
    "        list_contribution = bwa.ContributionAnalysis().annotated_top_processes(lca, limit = nb_limit)\n",
    "        returned_table = pd.merge(\n",
    "            returned_table, \n",
    "             pd.DataFrame({\n",
    "                 \"activity\":[\"others\"] + [act[2][\"name\"] + \" - \" + act[2][\"location\"] for act in list_contribution],\n",
    "                 str(method): [lca.score - sum([act[0] for act in list_contribution])] + [act[0] for act in list_contribution]\n",
    "             }),\n",
    "            how='outer', on='activity')\n",
    "    return returned_table"
   ]
  },
  {
   "cell_type": "code",
   "execution_count": 139,
   "id": "6bc826df-008f-42d2-acb9-3977f308d5d0",
   "metadata": {},
   "outputs": [],
   "source": [
    "table_results = lca_contribution_results(functional_unit, [gw_method, csi_method])"
   ]
  },
  {
   "cell_type": "markdown",
   "id": "138da1f5-8f8d-43bb-be41-66ca9f3cac46",
   "metadata": {},
   "source": [
    "### Figure generation"
   ]
  },
  {
   "cell_type": "code",
   "execution_count": 154,
   "id": "fddffd1f-4c1d-4487-a4a6-3c33dc93be19",
   "metadata": {},
   "outputs": [],
   "source": [
    "def basic_bar_chart(table_results, legend_x_axis):\n",
    "    table_figure = table_results.set_index(table_results[\"activity\"]).fillna(0)\n",
    "    number_methods = table_figure.shape[1] - 1\n",
    "\n",
    "    fig, ax = plt.subplots(1, number_methods, figsize=(10,6))\n",
    "    x_axis = [0]\n",
    "\n",
    "    for n_fig, method in enumerate(table_figure.columns[1:]):\n",
    "        for i, activity in enumerate(table_figure.index):\n",
    "            if n_fig == 0:\n",
    "                ax[n_fig].bar(\n",
    "                    x_axis, \n",
    "                    table_figure.loc[activity, method],\n",
    "                    bottom=table_figure.iloc[:i, n_fig + 1].sum(),\n",
    "                    label=activity\n",
    "                )\n",
    "            else:\n",
    "                ax[n_fig].bar(\n",
    "                    x_axis, \n",
    "                    table_figure.loc[activity, method],\n",
    "                    bottom=table_figure.iloc[:i, n_fig + 1].sum()\n",
    "                )\n",
    "    \n",
    "    fig.tight_layout()\n",
    "    for n_fig in range(number_methods):\n",
    "        ax[n_fig].grid(True, axis='y', linewidth=0.4)\n",
    "        ax[n_fig].set_xticks(x_axis)\n",
    "        ax[n_fig].set_xticklabels([legend_x_axis[n_fig]], fontsize=14)\n",
    "    \n",
    "    fig.legend(loc='center right', ncol=1)\n",
    "    plt.subplots_adjust(right=0.5, wspace=0.2)\n",
    "    \n",
    "    return plt.show()"
   ]
  },
  {
   "cell_type": "code",
   "execution_count": 155,
   "id": "9a89fcb5-9ab3-470a-b669-f9e55e107a80",
   "metadata": {},
   "outputs": [
    {
     "data": {
      "image/png": "[encoded data removed]",
      "text/plain": [
       "<Figure size 1000x600 with 2 Axes>"
      ]
     },
     "metadata": {},
     "output_type": "display_data"
    }
   ],
   "source": [
    "basic_bar_chart(\n",
    "    table_results,\n",
    "    [\"GW\", \"CSI\"]\n",
    ")"
   ]
  },
  {
   "cell_type": "markdown",
   "id": "c08605ea-1de2-4e27-83c6-0607644e8f05",
   "metadata": {},
   "source": [
    "# Modelling done with brightway"
   ]
  },
  {
   "cell_type": "markdown",
   "id": "32666cf0-3851-4cd2-bc0b-e6318839fefa",
   "metadata": {},
   "source": [
    "## Select/create a project"
   ]
  },
  {
   "cell_type": "code",
   "execution_count": 181,
   "id": "ce774ecf-7366-442c-9a3a-8307f74c1047",
   "metadata": {},
   "outputs": [],
   "source": [
    "bd.projects.set_current(\"brightway2_test\")"
   ]
  },
  {
   "cell_type": "markdown",
   "id": "ed788732-112b-460b-95c9-9e84ba149e08",
   "metadata": {},
   "source": [
    "## Inventory"
   ]
  },
  {
   "cell_type": "code",
   "execution_count": 182,
   "id": "be6ffb04-12c4-46df-9d8d-865e1cf2d222",
   "metadata": {},
   "outputs": [],
   "source": [
    "def reset_activity(act_name, database):\n",
    "    for activity in [act for act in database if act['name'] == act_name]:\n",
    "        activity.delete()\n",
    "\n",
    "def create_new_activity(act_name, unit, location, exchanges, database, biosphere_exchanges=[], amount_product=1, name_product=\"\"):\n",
    "    reset_activity(act_name, database)\n",
    "    act_new = database.new_activity(\n",
    "        name = act_name,\n",
    "        code = act_name,\n",
    "        unit = unit,\n",
    "        location = location\n",
    "    )\n",
    "    act_new.save()\n",
    "    for input, amount in exchanges:\n",
    "        act_new.new_exchange(\n",
    "            input = input,\n",
    "            amount = amount,\n",
    "            type = \"technosphere\"\n",
    "        ).save()\n",
    "    if len(biosphere_exchanges) > 0:\n",
    "        for input, amount in biosphere_exchanges:\n",
    "            act_new.new_exchange(\n",
    "                input = input,\n",
    "                amount = amount,\n",
    "                type = \"biosphere\"\n",
    "            ).save()\n",
    "    act_new.save()\n",
    "    \n",
    "    if len(name_product) == 0:\n",
    "        name_product = act_name\n",
    "    act_new.new_exchange(\n",
    "        input = act_new,\n",
    "        amount = amount_product,\n",
    "        type = \"production\"\n",
    "    ).save()\n",
    "    act_new.save()\n",
    "    act_new[\"reference product\"] = name_product\n",
    "    act_new[\"production amount\"] = amount_product\n",
    "    act_new.save()"
   ]
  },
  {
   "cell_type": "markdown",
   "id": "db180db2-3cd7-4a59-ac30-26fdbeda0b5d",
   "metadata": {},
   "source": [
    "### Selection of relevant background processes"
   ]
  },
  {
   "cell_type": "code",
   "execution_count": 183,
   "id": "93082909-604f-4403-9865-230983069846",
   "metadata": {},
   "outputs": [],
   "source": [
    "ei_db = bd.Database(\"ecoinvent_391_cutoff\")"
   ]
  },
  {
   "cell_type": "code",
   "execution_count": 184,
   "id": "70bd762f-66b3-4680-a0e8-b6c1d9530227",
   "metadata": {},
   "outputs": [],
   "source": [
    "act_elec = ei_db.search(\"market for electricity, medium voltage SE\")[0]"
   ]
  },
  {
   "cell_type": "markdown",
   "id": "85c33e29-66ee-4f2a-b5d8-93f2c5048c7a",
   "metadata": {},
   "source": [
    "### Test production"
   ]
  },
  {
   "cell_type": "markdown",
   "id": "1308312a-85e4-4b10-a493-2eb4b4359b6b",
   "metadata": {},
   "source": [
    "The activity only includes some electricity as an example of very simple activity creation.\n",
    "\n",
    "It is assumed that 243 kWh is used, based on Table 43 in Glew et al. (2012).\n",
    "\n",
    "*References*\n",
    "\n",
    "Glew et al. (2012). Glew, D., Stringer, L.C., Acquaye, A.A., McQueen-Mason, S. How do end of life scenarios influence the environmental impact of product supply chains? comparing biomaterial and petrochemical products. Journal of Cleaner Production 29–30, 122–131. [DOI](https://doi.org/10.1016/j.jclepro.2012.02.005)"
   ]
  },
  {
   "cell_type": "code",
   "execution_count": 185,
   "id": "21b0b414-a01b-4fc0-a2f9-530ea4e0c150",
   "metadata": {},
   "outputs": [],
   "source": [
    "production_amount_elec = 243 #kWh"
   ]
  },
  {
   "cell_type": "code",
   "execution_count": 186,
   "id": "8de6aa0e-0895-425f-ac42-53a50876e0e0",
   "metadata": {},
   "outputs": [],
   "source": [
    "def create_test_production(test_db):\n",
    "    create_new_activity(\n",
    "        act_name= \"another test production\",\n",
    "        unit= \"unit\",\n",
    "        location= \"SE\",\n",
    "        exchanges=[\n",
    "            (act_elec, production_amount_elec)\n",
    "        ],\n",
    "        database= test_db,\n",
    "        name_product= \"product\"\n",
    "    )"
   ]
  },
  {
   "cell_type": "markdown",
   "id": "e44aec68-86bd-440e-a963-dd1b88bcb1b6",
   "metadata": {},
   "source": [
    "## Database creation"
   ]
  },
  {
   "cell_type": "code",
   "execution_count": 187,
   "id": "308eaa52-0088-4805-9f6a-49baeb8e9dce",
   "metadata": {},
   "outputs": [],
   "source": [
    "def reset_brightway_database(db_name):\n",
    "    if db_name in bd.databases:\n",
    "        del bd.databases[db_name]"
   ]
  },
  {
   "cell_type": "code",
   "execution_count": 188,
   "id": "45fe5613-eadf-41e6-aaec-95c3df9de58c",
   "metadata": {},
   "outputs": [],
   "source": [
    "def create_test_bw_db(name_test_bw_db):\n",
    "    reset_brightway_database(name_test_bw_db)\n",
    "    test_db = bd.Database(name_test_bw_db)\n",
    "    test_db.register()\n",
    "    # Test production\n",
    "    create_test_production(test_db)"
   ]
  },
  {
   "cell_type": "code",
   "execution_count": 189,
   "id": "ae79d554-9daa-4c25-a91e-e87b89ad5ccf",
   "metadata": {},
   "outputs": [],
   "source": [
    "name_test_bw_db = \"db_bw_test\""
   ]
  },
  {
   "cell_type": "code",
   "execution_count": 190,
   "id": "df6d384b-b799-41e4-b1ac-afb139a38178",
   "metadata": {},
   "outputs": [],
   "source": [
    "create_test_bw_db(name_test_bw_db)"
   ]
  },
  {
   "cell_type": "code",
   "execution_count": 191,
   "id": "1e6f9d9f-8de5-47fb-a985-946d65583cdf",
   "metadata": {},
   "outputs": [],
   "source": [
    "test_db = bd.Database(name_test_bw_db)"
   ]
  },
  {
   "cell_type": "code",
   "execution_count": 192,
   "id": "99c53b04-7631-427f-9154-494575041f76",
   "metadata": {},
   "outputs": [
    {
     "data": {
      "text/plain": [
       "['another test production' (unit, SE, None)]"
      ]
     },
     "execution_count": 192,
     "metadata": {},
     "output_type": "execute_result"
    }
   ],
   "source": [
    "[act for act in test_db]"
   ]
  },
  {
   "cell_type": "markdown",
   "id": "257737e9-846d-4f17-a59a-8675eabde37c",
   "metadata": {},
   "source": [
    "## Selection of impact assessment methods"
   ]
  },
  {
   "cell_type": "markdown",
   "id": "ed2aba5a-efdd-4ae0-9b08-c08ce9fa5fb8",
   "metadata": {},
   "source": [
    "Global warming EF 3.1:"
   ]
  },
  {
   "cell_type": "code",
   "execution_count": 193,
   "id": "51fb0f0b-b38b-4de8-aea4-6f77dae0a447",
   "metadata": {},
   "outputs": [],
   "source": [
    "gw_method = ('EF v3.1', 'climate change', 'global warming potential (GWP100)')"
   ]
  },
  {
   "cell_type": "markdown",
   "id": "2f00de42-b31b-4695-9679-825bee8aafce",
   "metadata": {},
   "source": [
    "Crustal scarcity indicator:"
   ]
  },
  {
   "cell_type": "code",
   "execution_count": 194,
   "id": "d80dc0fa-4c5b-435d-bc1a-ea5520d427a8",
   "metadata": {},
   "outputs": [],
   "source": [
    "csi_method = [method for method in bd.methods if \"Crustal\" in str(method)][0]"
   ]
  },
  {
   "cell_type": "markdown",
   "id": "a6fa58be-4e65-498d-8255-f519811c91b1",
   "metadata": {},
   "source": [
    "## Selection of functional unit"
   ]
  },
  {
   "cell_type": "code",
   "execution_count": 195,
   "id": "4588f810-a2c0-4f94-ba46-383771e9865b",
   "metadata": {},
   "outputs": [],
   "source": [
    "# Value of the lifetime\n",
    "lifetime = 20 #years"
   ]
  },
  {
   "cell_type": "code",
   "execution_count": 196,
   "id": "62b30761-52be-4b57-ab80-1b5c46c8c0d7",
   "metadata": {},
   "outputs": [],
   "source": [
    "functional_unit = {test_db.search(\"another test production\")[0]: 1/lifetime}"
   ]
  },
  {
   "cell_type": "markdown",
   "id": "3aad4ce9-0e52-4788-b25e-6f44ec18a4d5",
   "metadata": {},
   "source": [
    "## Impact assessment"
   ]
  },
  {
   "cell_type": "code",
   "execution_count": 197,
   "id": "54f5cf8a-269a-4bfb-bd1e-9640ab66f806",
   "metadata": {},
   "outputs": [
    {
     "data": {
      "text/html": [
       "<div>\n",
       "<style scoped>\n",
       "    .dataframe tbody tr th:only-of-type {\n",
       "        vertical-align: middle;\n",
       "    }\n",
       "\n",
       "    .dataframe tbody tr th {\n",
       "        vertical-align: top;\n",
       "    }\n",
       "\n",
       "    .dataframe thead th {\n",
       "        text-align: right;\n",
       "    }\n",
       "</style>\n",
       "<table border=\"1\" class=\"dataframe\">\n",
       "  <thead>\n",
       "    <tr style=\"text-align: right;\">\n",
       "      <th></th>\n",
       "      <th>score</th>\n",
       "      <th>unit</th>\n",
       "      <th>method</th>\n",
       "    </tr>\n",
       "  </thead>\n",
       "  <tbody>\n",
       "    <tr>\n",
       "      <th>0</th>\n",
       "      <td>0.441889</td>\n",
       "      <td>kg CO2-Eq</td>\n",
       "      <td>(EF v3.1, climate change, global warming poten...</td>\n",
       "    </tr>\n",
       "    <tr>\n",
       "      <th>1</th>\n",
       "      <td>80.696643</td>\n",
       "      <td>kg Si-Eq</td>\n",
       "      <td>(Crustal Scarcity Indicator 2020, material res...</td>\n",
       "    </tr>\n",
       "  </tbody>\n",
       "</table>\n",
       "</div>"
      ],
      "text/plain": [
       "       score       unit                                             method\n",
       "0   0.441889  kg CO2-Eq  (EF v3.1, climate change, global warming poten...\n",
       "1  80.696643   kg Si-Eq  (Crustal Scarcity Indicator 2020, material res..."
      ]
     },
     "execution_count": 197,
     "metadata": {},
     "output_type": "execute_result"
    }
   ],
   "source": [
    "lca_results(functional_unit, [gw_method, csi_method])"
   ]
  },
  {
   "cell_type": "markdown",
   "id": "11372b16-a3fd-49af-b729-792117abc58b",
   "metadata": {},
   "source": [
    "## Figures"
   ]
  },
  {
   "cell_type": "markdown",
   "id": "c512cf19-5878-41aa-977f-e468fab338e0",
   "metadata": {},
   "source": [
    "### Generate the data to be plotted"
   ]
  },
  {
   "cell_type": "code",
   "execution_count": 198,
   "id": "ebbf446c-1d1d-497d-9a70-01d1324aa12c",
   "metadata": {},
   "outputs": [],
   "source": [
    "table_results = lca_contribution_results(functional_unit, [gw_method, csi_method])"
   ]
  },
  {
   "cell_type": "markdown",
   "id": "10e7c5ce-b4fb-495d-916e-7e880db37770",
   "metadata": {},
   "source": [
    "### Figure generation"
   ]
  },
  {
   "cell_type": "code",
   "execution_count": 199,
   "id": "c8b1e531-656b-4eea-917f-d715c637e99f",
   "metadata": {},
   "outputs": [
    {
     "data": {
      "image/png": "[encoded data removed]",
      "text/plain": [
       "<Figure size 1000x600 with 2 Axes>"
      ]
     },
     "metadata": {},
     "output_type": "display_data"
    }
   ],
   "source": [
    "basic_bar_chart(\n",
    "    table_results,\n",
    "    [\"GW\", \"CSI\"]\n",
    ")"
   ]
  },
  {
   "cell_type": "code",
   "execution_count": null,
   "id": "ae06456c-b10d-420f-a54e-c54d60bc4bd9",
   "metadata": {},
   "outputs": [],
   "source": []
  }
 ],
 "metadata": {
  "kernelspec": {
   "display_name": "Python 3 (ipykernel)",
   "language": "python",
   "name": "python3"
  },
  "language_info": {
   "codemirror_mode": {
    "name": "ipython",
    "version": 3
   },
   "file_extension": ".py",
   "mimetype": "text/x-python",
   "name": "python",
   "nbconvert_exporter": "python",
   "pygments_lexer": "ipython3",
   "version": "3.11.6"
  }
 },
 "nbformat": 4,
 "nbformat_minor": 5
}
