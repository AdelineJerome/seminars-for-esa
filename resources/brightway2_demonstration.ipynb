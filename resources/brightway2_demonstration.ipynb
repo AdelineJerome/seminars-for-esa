{
 "cells": [
  {
   "cell_type": "markdown",
   "id": "72f2d9c6-5601-4ab8-b237-53bc93981898",
   "metadata": {},
   "source": [
    "This notebook has been developed for a code-along introductory seminar on using [brightway](https://docs.brightway.dev/en/latest/). You can a more complete guide on brightway [here](https://learn.brightway.dev/en/latest/content/notebooks/BW25_for_beginners.html).\n",
    "\n",
    "More information on the seminars can be found [here](https://adelinejerome.github.io/seminars-for-esa/)."
   ]
  },
  {
   "cell_type": "markdown",
   "id": "feff6aac-acc8-42ca-b0b0-bf732d2c401c",
   "metadata": {},
   "source": [
    "# Importing packages\n",
    "\n",
    "As [presented in the introductory seminar](https://adelinejerome.github.io/seminars-for-esa/seminar_intro.html), python resources are organised in packages, i.e., groups of objects and functions that can be used. One example is brightway. You have installed the packages in a [python environment](https://adelinejerome.github.io/seminars-for-esa/python.html#managing-python-virtual-environments). But now you must indicate to python that you want to load specific packages that you will be using in your code. You do it with `import name-package`.\n",
    "\n",
    "Later in your code, when you want to use a function from `name-package`, you will have to write `name-package.function` which can be a bit long to type if the name of the package is long... So you can decide to import the package with a \"nickname\", usually very short, with `import name-package as pk`. With this, you will only have to write `pk.function` to use the function `function` from the package `name-package`.\n",
    "\n",
    "Brightway is not *one* package but a group of several with different functions. Let's import them with their respective nickname!"
   ]
  },
  {
   "cell_type": "code",
   "execution_count": 1,
   "id": "82d55b91-0c3f-41e7-b7bc-7ce7125ff7b8",
   "metadata": {},
   "outputs": [],
   "source": [
    "import bw2data as bd\n",
    "import bw2io as bi\n",
    "import bw2calc as bc\n",
    "import bw2analyzer as bwa"
   ]
  },
  {
   "cell_type": "markdown",
   "id": "84fe7d76-d326-495d-8d5f-2731f29069d1",
   "metadata": {},
   "source": [
    "Additionally, we import two other packages:\n",
    "\n",
    "- `pandas` for manipulating tables,\n",
    "- `matplotlib` for generating figures."
   ]
  },
  {
   "cell_type": "code",
   "execution_count": 2,
   "id": "a4e6a00d-1c5e-4f3e-87d2-d1dbde48c034",
   "metadata": {},
   "outputs": [],
   "source": [
    "import pandas as pd\n",
    "import matplotlib.pyplot as plt"
   ]
  },
  {
   "cell_type": "markdown",
   "id": "f082e2c2-9c37-4079-9ad8-06dde3f5cda2",
   "metadata": {},
   "source": [
    "# Set up your project\n",
    "\n",
    "The structure of information is similar to the Activity Browser. The information is structured in different projects, which contains several databases. To get the list of existing projects, use:"
   ]
  },
  {
   "cell_type": "code",
   "execution_count": 3,
   "id": "c1c7347b-992a-426c-9fee-d35d5a878d99",
   "metadata": {},
   "outputs": [
    {
     "data": {
      "text/plain": [
       "Brightway2 projects manager with 13 objects:\n",
       "\tABB case\n",
       "\tElectric motors\n",
       "\tMotor case\n",
       "\tNew motor case\n",
       "\tab_demo\n",
       "\tab_demo_solution\n",
       "\tbrightway2_test\n",
       "\tbrightway_demo\n",
       "\tdefault\n",
       "\tlca_algebraic_handbook\n",
       "\tlifetime_test\n",
       "\tmotor_case\n",
       "\tpLCA course\n",
       "Use `projects.report()` to get a report on all projects."
      ]
     },
     "execution_count": 3,
     "metadata": {},
     "output_type": "execute_result"
    }
   ],
   "source": [
    "bd.projects"
   ]
  },
  {
   "cell_type": "markdown",
   "id": "0b4088d0-fb92-47f9-a15c-95123d0b1627",
   "metadata": {},
   "source": [
    "To see which project is currenly loaded:"
   ]
  },
  {
   "cell_type": "code",
   "execution_count": 4,
   "id": "24b8c877-d8e3-4040-95ae-30f9cb8313db",
   "metadata": {},
   "outputs": [
    {
     "data": {
      "text/plain": [
       "'default'"
      ]
     },
     "execution_count": 4,
     "metadata": {},
     "output_type": "execute_result"
    }
   ],
   "source": [
    "bd.projects.current"
   ]
  },
  {
   "cell_type": "markdown",
   "id": "fbdc71a8-804d-4103-8712-a0704d346018",
   "metadata": {},
   "source": [
    "To load another project or to create a new project if the project name is not already in the list of exiting projects:"
   ]
  },
  {
   "cell_type": "code",
   "execution_count": 5,
   "id": "a73504bd-7495-49ec-9145-46fc524849bc",
   "metadata": {},
   "outputs": [],
   "source": [
    "bd.projects.set_current(\"brightway2_test\")"
   ]
  },
  {
   "cell_type": "markdown",
   "id": "66287464-449b-4e1c-bcf6-806898e10bf2",
   "metadata": {},
   "source": [
    "To delete a project, use `bd.projects.delete_project`but it returns an error if the project does not exist. With the function below, it tries to delete a project but does nothing if an error is returned."
   ]
  },
  {
   "cell_type": "code",
   "execution_count": 6,
   "id": "8a1d6caa-f689-4789-8187-64b72111e0cf",
   "metadata": {},
   "outputs": [],
   "source": [
    "def reset_brightway_project(project_name):\n",
    "    try:\n",
    "        bd.projects.delete_project(project_name, True)\n",
    "    except ValueError:\n",
    "        pass"
   ]
  },
  {
   "cell_type": "markdown",
   "id": "85a62abd-d964-4633-8c42-210cfc0e0e51",
   "metadata": {},
   "source": [
    "# Manage and import databases\n",
    "\n",
    "To see the list of databases in the current project, use:"
   ]
  },
  {
   "cell_type": "code",
   "execution_count": 7,
   "id": "a915e4fc-057b-46de-974a-cf4156b24feb",
   "metadata": {},
   "outputs": [
    {
     "data": {
      "text/plain": [
       "Databases dictionary with 3 object(s):\n",
       "\tbiosphere3\n",
       "\tecoinvent_391_cutoff\n",
       "\tmotor_case"
      ]
     },
     "execution_count": 7,
     "metadata": {},
     "output_type": "execute_result"
    }
   ],
   "source": [
    "bd.databases"
   ]
  },
  {
   "cell_type": "markdown",
   "id": "36c966e2-5dbb-4920-a876-4b8f26091ac8",
   "metadata": {},
   "source": [
    "## Import the \"biosphere\" database\n",
    "\n",
    "The *biosphere* database is containing the elementary flows necessary for ecoinvent. To load it as well as the impact assessment methods implemented with ecoinvent, use:"
   ]
  },
  {
   "cell_type": "code",
   "execution_count": 8,
   "id": "e303b52c-2b36-43bb-b196-7afbe8330d8b",
   "metadata": {},
   "outputs": [
    {
     "name": "stdout",
     "output_type": "stream",
     "text": [
      "Biosphere database already present!!! No setup is needed\n"
     ]
    }
   ],
   "source": [
    "bi.bw2setup()"
   ]
  },
  {
   "cell_type": "markdown",
   "id": "efbd1466-8936-4edc-b593-237aebf78c5a",
   "metadata": {},
   "source": [
    "To search activities in a database or manipulate a database, you need to refer to the database \"object\". Here, the biosphere database is saved as `biosphere_db`."
   ]
  },
  {
   "cell_type": "code",
   "execution_count": 9,
   "id": "4ba940cc-6768-4f99-a544-6006de29b499",
   "metadata": {},
   "outputs": [],
   "source": [
    "biosphere_db = bd.Database(\"biosphere3\")"
   ]
  },
  {
   "cell_type": "markdown",
   "id": "9fead82f-a0e4-414a-9cda-33320471ae31",
   "metadata": {},
   "source": [
    "## Import ecoinvent\n",
    "\n",
    "When the biosphere database is imported, the ecoinvent database can be imported as well. The importer uses the folder \"datasets\" from the extracted files of the .7z file which can be fount on the [ecoinvent website](https://ecoquery.ecoinvent.org). Report the path of this folder below.\n",
    "\n",
    "**!!!** Be careful that the path is with \"/\" instead of \"\\\\\""
   ]
  },
  {
   "cell_type": "code",
   "execution_count": 10,
   "id": "b8e73465-ee42-4740-a8c6-b1cf46b5df34",
   "metadata": {},
   "outputs": [],
   "source": [
    "path_datasets = \"C:/Users/jeromea/Downloads/ecoinvent_3.9.1_cutoff_ecoSpold02/datasets\""
   ]
  },
  {
   "cell_type": "markdown",
   "id": "7913f7b1-89ed-49d6-9b95-6f631fa35868",
   "metadata": {},
   "source": [
    "The name of the imported database will be:"
   ]
  },
  {
   "cell_type": "code",
   "execution_count": 11,
   "id": "f4ff9334-89be-4d8a-9a89-cb91fb3a43e8",
   "metadata": {},
   "outputs": [],
   "source": [
    "ei_db_name = \"ecoinvent_391_cutoff\""
   ]
  },
  {
   "cell_type": "markdown",
   "id": "4d5043c5-e737-4fda-aa17-7473943f3c6a",
   "metadata": {},
   "source": [
    "After checking that the same database is not imported twice, the import is done is several steps:\n",
    "\n",
    "1. First, all the datasets are loaded with `bi.SingleOutputEcospold2Importer`,\n",
    "2. Then, the data are changed based on several \"strategies\" which are functions to modify the data,\n",
    "3. You can check that things went well with `statistics()`, especially that there is \"0 unlinked exchanges\"\n",
    "4. Finally, the database, for now only in the memory for your python session, is saved to your computer with `write_database()`"
   ]
  },
  {
   "cell_type": "code",
   "execution_count": 12,
   "id": "269a004f-87f0-4ca5-9f63-8a30c33576f0",
   "metadata": {},
   "outputs": [
    {
     "name": "stdout",
     "output_type": "stream",
     "text": [
      "Database has already been imported.\n"
     ]
    }
   ],
   "source": [
    "if ei_db_name in bd.databases:\n",
    "    print(\"Database has already been imported.\")\n",
    "else:\n",
    "    ei_importer = bi.SingleOutputEcospold2Importer(path_datasets, ei_db_name)\n",
    "    ei_importer.apply_strategies()\n",
    "    ei_importer.statistics() \n",
    "    ei_importer.write_database()"
   ]
  },
  {
   "cell_type": "markdown",
   "id": "5ae9c581-bef7-47b4-ab71-b63913f0317e",
   "metadata": {},
   "source": [
    "You can see all the metadata (i.e., the properties for describing the database) of the imported database with:"
   ]
  },
  {
   "cell_type": "code",
   "execution_count": 13,
   "id": "33fb1b77-eee5-4851-b96a-e47d6f74fe9e",
   "metadata": {},
   "outputs": [
    {
     "data": {
      "text/plain": [
       "{'overwrite': False,\n",
       " 'format': 'Ecoinvent XML',\n",
       " 'depends': ['biosphere3'],\n",
       " 'backend': 'sqlite',\n",
       " 'number': 21238,\n",
       " 'modified': '2023-12-07T08:54:59.923322',\n",
       " 'searchable': True,\n",
       " 'processed': '2023-12-07T09:00:42.261022'}"
      ]
     },
     "execution_count": 13,
     "metadata": {},
     "output_type": "execute_result"
    }
   ],
   "source": [
    "bd.databases[ei_db_name]"
   ]
  },
  {
   "cell_type": "markdown",
   "id": "49b5148f-cbe1-4136-9a0d-92f40b467ae4",
   "metadata": {},
   "source": [
    "Again, save the database \"object\" to easily search and get activities from it:"
   ]
  },
  {
   "cell_type": "code",
   "execution_count": 14,
   "id": "65eb4aeb-91b7-4639-b9a7-10c2a9571652",
   "metadata": {},
   "outputs": [],
   "source": [
    "ei_db = bd.Database(ei_db_name)"
   ]
  },
  {
   "cell_type": "markdown",
   "id": "f482f394-9984-45fe-8753-ebda58719ec7",
   "metadata": {},
   "source": [
    "# Manual creation of a database\n",
    "\n",
    "Now that we know enough about databases, activities and exchanges, let's create our own database.\n",
    "\n",
    "## Create the database\n",
    "\n",
    "As errors can happen but as everything is available to re-write the database, it is convenient sometimes to re-start from zero. Here is a function to delete a database if it exists in the current project:"
   ]
  },
  {
   "cell_type": "code",
   "execution_count": 15,
   "id": "1ad19bfc-c9e2-465a-9745-61efee2bdb5f",
   "metadata": {},
   "outputs": [],
   "source": [
    "def reset_brightway_database(db_name):\n",
    "    if db_name in bd.databases:\n",
    "        del bd.databases[db_name]"
   ]
  },
  {
   "cell_type": "markdown",
   "id": "09e1a2c6-d71a-4f81-85e2-a4eadab3fd33",
   "metadata": {},
   "source": [
    "To create a new database, create a database \"object\" with a name, and then save it on your computer with `register`:"
   ]
  },
  {
   "cell_type": "code",
   "execution_count": 16,
   "id": "fba25597-8e99-46a5-9a4a-3c44bb8ed54f",
   "metadata": {},
   "outputs": [],
   "source": [
    "name_motor_db = \"motor_case\"\n",
    "reset_brightway_database(name_motor_db)\n",
    "motor_db = bd.Database(name_motor_db)\n",
    "motor_db.register()"
   ]
  },
  {
   "cell_type": "markdown",
   "id": "8dc4140e-6329-4bc7-96f7-f78f57628e9d",
   "metadata": {},
   "source": [
    "Let's check that it was created:"
   ]
  },
  {
   "cell_type": "code",
   "execution_count": 17,
   "id": "28cc9923-4bb0-4342-a369-b2f524264b79",
   "metadata": {},
   "outputs": [
    {
     "data": {
      "text/plain": [
       "Databases dictionary with 3 object(s):\n",
       "\tbiosphere3\n",
       "\tecoinvent_391_cutoff\n",
       "\tmotor_case"
      ]
     },
     "execution_count": 17,
     "metadata": {},
     "output_type": "execute_result"
    }
   ],
   "source": [
    "bd.databases"
   ]
  },
  {
   "cell_type": "markdown",
   "id": "d98f1472-7a43-4983-9505-be346e45fe49",
   "metadata": {},
   "source": [
    "## Add activities\n",
    "\n",
    "As for databases, it is convenient to be able to delete an activity to re-start from zero. Here is a function for that:"
   ]
  },
  {
   "cell_type": "code",
   "execution_count": 18,
   "id": "b882bdaf-36b7-4467-bf52-6a7b17e043a9",
   "metadata": {},
   "outputs": [],
   "source": [
    "def reset_activity(act_name, database=motor_db):\n",
    "    for activity in [act for act in motor_db if act['name']==act_name]:\n",
    "        activity.delete()"
   ]
  },
  {
   "cell_type": "code",
   "execution_count": 19,
   "id": "94f71184-caf9-4699-ae70-4307c0a2bf5f",
   "metadata": {},
   "outputs": [],
   "source": [
    "def create_new_activity(act_name, unit, exchanges, database=motor_db):\n",
    "    reset_activity(act_name, database)\n",
    "    act_new = motor_db.new_activity(\n",
    "        name = act_name,\n",
    "        code = act_name,\n",
    "        unit = unit\n",
    "    )\n",
    "    act_new.save()\n",
    "    for input, amount in exchanges:\n",
    "        act_new.new_exchange(\n",
    "            input = input,\n",
    "            amount = amount,\n",
    "            type = \"technosphere\"\n",
    "        ).save()\n",
    "    act_new.save()"
   ]
  },
  {
   "cell_type": "markdown",
   "id": "2fa892e0-7fbc-40b7-bb11-16917109ba91",
   "metadata": {},
   "source": [
    "**Inputs from ecoinvent**\n",
    "\n",
    "First, let get the necessary activities from ecoinvent:"
   ]
  },
  {
   "cell_type": "code",
   "execution_count": 20,
   "id": "b9e30f02-82f3-4935-80e7-bdbfb0b9a6d4",
   "metadata": {},
   "outputs": [],
   "source": [
    "code_steel_unalloyed = ei_db.search(\"market for steel, unalloyed GLO\")[0][\"code\"]"
   ]
  },
  {
   "cell_type": "code",
   "execution_count": 21,
   "id": "90c92521-25d1-443d-a1a6-a6505ace885a",
   "metadata": {},
   "outputs": [],
   "source": [
    "act_steel_unalloyed = ei_db.get(code_steel_unalloyed)"
   ]
  },
  {
   "cell_type": "code",
   "execution_count": 22,
   "id": "0c820202-1921-46fb-97bc-80f6e414486f",
   "metadata": {},
   "outputs": [],
   "source": [
    "code_steel_low_alloyed = ei_db.search(\"market for steel, low-alloyed GLO\")[0][\"code\"]"
   ]
  },
  {
   "cell_type": "code",
   "execution_count": 23,
   "id": "b61b6738-ffb1-498c-91de-a1efb22c1f34",
   "metadata": {},
   "outputs": [],
   "source": [
    "act_steel_low_alloyed = ei_db.get(code_steel_low_alloyed)"
   ]
  },
  {
   "cell_type": "code",
   "execution_count": 24,
   "id": "07f3db98-9ee4-4ca6-9445-86c8b3865ed4",
   "metadata": {},
   "outputs": [],
   "source": [
    "code_copper = ei_db.search(\"market for copper, cathode GLO\")[0][\"code\"]"
   ]
  },
  {
   "cell_type": "code",
   "execution_count": 25,
   "id": "7bf2ad2f-d602-4cf8-8d7d-526f64cf7e5e",
   "metadata": {},
   "outputs": [],
   "source": [
    "act_copper = ei_db.get(code_copper)"
   ]
  },
  {
   "cell_type": "code",
   "execution_count": 26,
   "id": "259f1c11-8815-4925-a317-8afabb3541f9",
   "metadata": {},
   "outputs": [],
   "source": [
    "code_insulation = ei_db.search(\"market for epoxy resin, liquid RER\")[0][\"code\"]"
   ]
  },
  {
   "cell_type": "code",
   "execution_count": 27,
   "id": "f55cd2d3-16c3-4516-a60a-89b393d65674",
   "metadata": {},
   "outputs": [],
   "source": [
    "act_insulation = ei_db.get(code_insulation)"
   ]
  },
  {
   "cell_type": "code",
   "execution_count": 28,
   "id": "78c4b356-14c4-4cad-9a21-52c8cfefc4c0",
   "metadata": {},
   "outputs": [],
   "source": [
    "code_elec = ei_db.search(\"market for electricity, high voltage SE\")[0][\"code\"]"
   ]
  },
  {
   "cell_type": "code",
   "execution_count": 29,
   "id": "c505789d-0fe7-45ad-a248-55f82c4f4255",
   "metadata": {},
   "outputs": [],
   "source": [
    "act_elec = ei_db.get(code_elec)"
   ]
  },
  {
   "cell_type": "code",
   "execution_count": 30,
   "id": "09585f01-992e-4518-a943-79087ad90086",
   "metadata": {},
   "outputs": [],
   "source": [
    "code_incineration_insulation = ei_db.search(\"treatment of waste plastic, mixture, municipal incineration with fly ash extraction CH\")[0][\"code\"]"
   ]
  },
  {
   "cell_type": "code",
   "execution_count": 31,
   "id": "9b879f68-fd20-439b-bc89-22642338cf77",
   "metadata": {},
   "outputs": [],
   "source": [
    "act_incineration_insulation = ei_db.get(code_incineration_insulation)"
   ]
  },
  {
   "cell_type": "code",
   "execution_count": 32,
   "id": "664d0397-1831-4748-aa1a-b0385e853948",
   "metadata": {},
   "outputs": [],
   "source": [
    "code_incineration_copper = ei_db.search(\"treatment of copper in car shredder residue, municipal incineration with fly ash extraction CH\")[0][\"code\"]"
   ]
  },
  {
   "cell_type": "code",
   "execution_count": 33,
   "id": "fa6c3355-d6ec-4b79-aec2-a522da64c7f1",
   "metadata": {},
   "outputs": [],
   "source": [
    "act_incineration_copper = ei_db.get(code_incineration_copper)"
   ]
  },
  {
   "cell_type": "markdown",
   "id": "750383da-3803-4c55-89af-5ee354b4bfcc",
   "metadata": {},
   "source": [
    "**Parameters**\n",
    "\n",
    "Then the value of different parameters useful to create the activities."
   ]
  },
  {
   "cell_type": "code",
   "execution_count": 62,
   "id": "4819f3d4-2b91-4a70-87af-503e8f4a6a82",
   "metadata": {},
   "outputs": [],
   "source": [
    "qt_steel_unalloyed = 26600 #kg\n",
    "qt_steel_low_alloyed = 4100 #kg\n",
    "qt_copper = 3600 #kg\n",
    "qt_insulation = 400*100 #kg\n",
    "weight_motor = qt_steel_unalloyed + qt_steel_low_alloyed + qt_copper + qt_insulation\n",
    "output_power = 16000 #kW\n",
    "op_hours = 8400 #hours per year\n",
    "lifetime = 20 #years\n",
    "efficiency = 0.973"
   ]
  },
  {
   "cell_type": "markdown",
   "id": "f10ac515-97a0-4cf9-8833-666bf60bc816",
   "metadata": {},
   "source": [
    "**Activities creation**\n",
    "\n",
    "With our own function `create_new_activity`, creating an activity looks like that:"
   ]
  },
  {
   "cell_type": "code",
   "execution_count": 63,
   "id": "b5528fdc-0b47-4ec9-acbc-0690b14d035d",
   "metadata": {},
   "outputs": [],
   "source": [
    "def create_motor_production(qt_steel_unalloyed=qt_steel_unalloyed, qt_steel_low_alloyed=qt_steel_low_alloyed, qt_copper=qt_copper, qt_insulation=qt_insulation):\n",
    "    create_new_activity(\n",
    "        \"motor production\",\n",
    "        \"unit\",\n",
    "        [\n",
    "            (act_steel_unalloyed, qt_steel_unalloyed),\n",
    "            (act_steel_low_alloyed, qt_steel_low_alloyed),\n",
    "            (act_copper, qt_copper),\n",
    "            (act_insulation, qt_insulation),\n",
    "            (act_elec, 3600)\n",
    "        ]\n",
    "    )"
   ]
  },
  {
   "cell_type": "markdown",
   "id": "9b7a0980-ef03-4d76-bd51-a31ae0b5f0cd",
   "metadata": {},
   "source": [
    "When activity creation is scattered in the code, it is practical to turn it as functions. When each activity creation is under a function, a last function can call all of them in the right order. Then, you are sure that all your created database is updated.\n",
    "\n",
    "In the creation functions, you can also add input parameters to be able to change them quickly.\n",
    "\n",
    "Let's do this for all activities in the life cycle of a motor."
   ]
  },
  {
   "cell_type": "code",
   "execution_count": 64,
   "id": "7d846820-bb48-45cb-aada-a9bf8489689b",
   "metadata": {},
   "outputs": [],
   "source": [
    "def create_motor_testing():\n",
    "    create_new_activity(\n",
    "        \"motor testing\",\n",
    "        \"unit\",\n",
    "        [\n",
    "            (motor_db.get(\"motor production\"), 1),\n",
    "            (act_elec, 16000)\n",
    "        ]\n",
    "    )"
   ]
  },
  {
   "cell_type": "code",
   "execution_count": 65,
   "id": "2d1703f9-a8c2-4edd-a320-55d72d04f314",
   "metadata": {},
   "outputs": [],
   "source": [
    "def create_motor_use(lifetime=lifetime, efficiency=efficiency):\n",
    "    create_new_activity(\n",
    "        \"motor use\",\n",
    "        \"unit\",\n",
    "        [\n",
    "            (motor_db.get(\"motor testing\"), 1),\n",
    "            (act_elec, output_power*op_hours*lifetime*(1/efficiency-1))\n",
    "        ]\n",
    "    )"
   ]
  },
  {
   "cell_type": "code",
   "execution_count": 66,
   "id": "b4f13f36-8a43-4a35-bf4e-9caf4a5084e9",
   "metadata": {},
   "outputs": [],
   "source": [
    "def create_motor_treatment(weight_motor=weight_motor, qt_insulation=qt_insulation, qt_copper=qt_copper):\n",
    "    create_new_activity(\n",
    "        \"motor EoL treatment\",\n",
    "        \"unit\",\n",
    "        [\n",
    "            (motor_db.get(\"motor use\"), 1),\n",
    "            (act_elec, 0.041*weight_motor),\n",
    "            (act_incineration_insulation, -qt_insulation),\n",
    "            (act_incineration_copper, -0.04*qt_copper)\n",
    "        ]\n",
    "    )"
   ]
  },
  {
   "cell_type": "markdown",
   "id": "441b530b-c211-4524-a673-95e3f72c5d23",
   "metadata": {},
   "source": [
    "And now a function to call all the functions which creates activities:"
   ]
  },
  {
   "cell_type": "code",
   "execution_count": 67,
   "id": "50cd909e-fa15-46ab-ac13-e86c20885a4f",
   "metadata": {},
   "outputs": [],
   "source": [
    "def create_motor_system(\n",
    "    qt_steel_unalloyed=qt_steel_unalloyed, \n",
    "    qt_steel_low_alloyed=qt_steel_low_alloyed, \n",
    "    qt_copper=qt_copper, \n",
    "    qt_insulation=qt_insulation, \n",
    "    lifetime=lifetime, \n",
    "    efficiency=efficiency, \n",
    "    weight_motor=weight_motor\n",
    "):\n",
    "    create_motor_production(qt_steel_unalloyed=qt_steel_unalloyed, qt_steel_low_alloyed=qt_steel_low_alloyed, qt_copper=qt_copper, qt_insulation=qt_insulation)\n",
    "    create_motor_testing()\n",
    "    create_motor_use(lifetime=lifetime, efficiency=efficiency)\n",
    "    create_motor_treatment(weight_motor=weight_motor, qt_insulation=qt_insulation, qt_copper=qt_copper)"
   ]
  },
  {
   "cell_type": "code",
   "execution_count": 68,
   "id": "d6fb7949-0767-4458-a12c-6776fbd34854",
   "metadata": {},
   "outputs": [],
   "source": [
    "create_motor_system()"
   ]
  },
  {
   "cell_type": "markdown",
   "id": "8492bdc1-7589-4f6c-854c-b73b2837a49f",
   "metadata": {},
   "source": [
    "To check the activities in the database:"
   ]
  },
  {
   "cell_type": "code",
   "execution_count": 69,
   "id": "acd4e52e-500a-4ce1-81cd-fe4b7a0398ec",
   "metadata": {},
   "outputs": [
    {
     "data": {
      "text/plain": [
       "['motor use' (unit, GLO, None),\n",
       " 'motor production' (unit, GLO, None),\n",
       " 'motor EoL treatment' (unit, GLO, None),\n",
       " 'motor testing' (unit, GLO, None)]"
      ]
     },
     "execution_count": 69,
     "metadata": {},
     "output_type": "execute_result"
    }
   ],
   "source": [
    "[act for act in motor_db]"
   ]
  },
  {
   "cell_type": "markdown",
   "id": "466aa935-3714-4874-9cf2-2726f6289eea",
   "metadata": {},
   "source": [
    "# First LCA calculation\n",
    "\n",
    "## Selection of impact assessment methods"
   ]
  },
  {
   "cell_type": "markdown",
   "id": "f085399c-bb0d-4944-bf0a-1428d860f59a",
   "metadata": {},
   "source": [
    "Methods can be selected when knowing the tuple for their name:"
   ]
  },
  {
   "cell_type": "code",
   "execution_count": 70,
   "id": "c4bbfbd8-45cd-4376-8efe-20ecfa0a5816",
   "metadata": {},
   "outputs": [],
   "source": [
    "gw_method = ('EF v3.1', 'climate change', 'global warming potential (GWP100)')"
   ]
  },
  {
   "cell_type": "markdown",
   "id": "47df0cec-ac5f-44c3-bc89-11f358ff5d08",
   "metadata": {},
   "source": [
    "Or by selecting the items in a list:"
   ]
  },
  {
   "cell_type": "code",
   "execution_count": 71,
   "id": "b6862d40-5830-4587-8ae7-6b82c57e85b7",
   "metadata": {},
   "outputs": [],
   "source": [
    "csi_method = [method for method in bd.methods if \"Crustal\" in str(method)][0]"
   ]
  },
  {
   "cell_type": "markdown",
   "id": "508c099b-685c-4abc-8f75-ad547dde3d07",
   "metadata": {},
   "source": [
    "## Impact assessment\n",
    "\n",
    "The impact assessment is divided in several steps. First, the functional unit is defined as a dictionary {activity: amount}."
   ]
  },
  {
   "cell_type": "code",
   "execution_count": 72,
   "id": "0570f91d-57ac-400f-849a-9544e0569752",
   "metadata": {},
   "outputs": [],
   "source": [
    "def lca_results(fu, list_methods):\n",
    "    list_units = [bd.methods.get(method)[\"unit\"] for method in list_methods]\n",
    "    lca = bc.LCA(demand=fu, method=list_methods[0])\n",
    "    lca.lci()\n",
    "    lca.lcia()\n",
    "    list_scores = [lca.score]\n",
    "    for method in list_methods[1:]:\n",
    "        lca.switch_method(method)\n",
    "        lca.lcia()\n",
    "        list_scores.append(lca.score)\n",
    "    return pd.DataFrame({\"score\": list_scores, \"unit\": list_units, \"method\": list_methods})"
   ]
  },
  {
   "cell_type": "code",
   "execution_count": 73,
   "id": "c7f0bfab-d906-41b0-a8c6-43b516547510",
   "metadata": {},
   "outputs": [
    {
     "data": {
      "text/html": [
       "<div>\n",
       "<style scoped>\n",
       "    .dataframe tbody tr th:only-of-type {\n",
       "        vertical-align: middle;\n",
       "    }\n",
       "\n",
       "    .dataframe tbody tr th {\n",
       "        vertical-align: top;\n",
       "    }\n",
       "\n",
       "    .dataframe thead th {\n",
       "        text-align: right;\n",
       "    }\n",
       "</style>\n",
       "<table border=\"1\" class=\"dataframe\">\n",
       "  <thead>\n",
       "    <tr style=\"text-align: right;\">\n",
       "      <th></th>\n",
       "      <th>score</th>\n",
       "      <th>unit</th>\n",
       "      <th>method</th>\n",
       "    </tr>\n",
       "  </thead>\n",
       "  <tbody>\n",
       "    <tr>\n",
       "      <th>0</th>\n",
       "      <td>1.407050e+05</td>\n",
       "      <td>kg CO2-Eq</td>\n",
       "      <td>(EF v3.1, climate change, global warming poten...</td>\n",
       "    </tr>\n",
       "    <tr>\n",
       "      <th>1</th>\n",
       "      <td>2.637203e+07</td>\n",
       "      <td>kg Si-Eq</td>\n",
       "      <td>(Crustal Scarcity Indicator 2020, material res...</td>\n",
       "    </tr>\n",
       "  </tbody>\n",
       "</table>\n",
       "</div>"
      ],
      "text/plain": [
       "          score       unit                                             method\n",
       "0  1.407050e+05  kg CO2-Eq  (EF v3.1, climate change, global warming poten...\n",
       "1  2.637203e+07   kg Si-Eq  (Crustal Scarcity Indicator 2020, material res..."
      ]
     },
     "execution_count": 73,
     "metadata": {},
     "output_type": "execute_result"
    }
   ],
   "source": [
    "functional_unit = {motor_db.get(\"motor EoL treatment\"): 1/lifetime}\n",
    "lca_results(functional_unit, [gw_method, csi_method])"
   ]
  },
  {
   "cell_type": "markdown",
   "id": "87e9ab4f-66e0-4de5-80a9-5ab61f7da551",
   "metadata": {},
   "source": [
    "## Customised contribution analysis\n",
    "\n",
    "Here I provide functions for contribution analysis for the processes in the created database:"
   ]
  },
  {
   "cell_type": "code",
   "execution_count": 74,
   "id": "58812760-736f-471e-b422-7f5ed592c928",
   "metadata": {},
   "outputs": [],
   "source": [
    "def table_recursive_multi_calculation_dbparent_cut(activity, lcia_methods, amount=1, level=0, max_level=3, db_parent=None, db_cut=['ecoinvent'], act_parent={\"name\": None}):\n",
    "    \"\"\"\n",
    "    Returns a table (DataFrame) with the contribution tree for a given activity and various LCIA methods.\n",
    "    The contribution tree does not contain sub-activities if the activity is from a database in db_cut (to avoid \n",
    "    having details on ecoinvent datasets and to stay in my own model) and has the maximum level max_level.\n",
    "    Columns for the returned table: level, activity, activity parent, database parent, and str(method) for all LCIA method explored.\n",
    "    \"\"\"\n",
    "    \n",
    "    lca_score = lca_results({activity: amount}, lcia_methods)\n",
    "    table = pd.DataFrame([[level, activity[\"name\"], act_parent[\"name\"], db_parent]+ list(lca_score[\"score\"])], columns=[\"level\", \"activity\", \"activity parent\", \"database parent\"]+[str(m) for m in lcia_methods])\n",
    "    if level < max_level:\n",
    "        db_parent = activity['database']\n",
    "        go_forward = True\n",
    "        for stop_word in db_cut:\n",
    "            if stop_word in db_parent:\n",
    "                go_forward = False\n",
    "        if go_forward:\n",
    "            for exc in activity.technosphere():\n",
    "                table = pd.concat([table, table_recursive_multi_calculation_dbparent_cut(\n",
    "                    activity=exc.input, \n",
    "                    lcia_methods=lcia_methods, \n",
    "                    amount=amount * exc['amount'], \n",
    "                    level=level + 1, \n",
    "                    max_level=max_level,\n",
    "                    db_parent = db_parent,\n",
    "                    act_parent = activity\n",
    "                )], ignore_index=True)\n",
    "    return table"
   ]
  },
  {
   "cell_type": "code",
   "execution_count": 75,
   "id": "4ad5f701-92ea-4634-974d-ef9ddd1bbba7",
   "metadata": {},
   "outputs": [],
   "source": [
    "def table_recursive_multi_calculation_dbcut(activity, lcia_methods, amount=1, level=0, max_level=3, db_activity='motor_case', db_cut=['ecoinvent', 'biosphere']):\n",
    "    \"\"\"\n",
    "    Returns a table (DataFrame) with the contribution tree for a given activity and various LCIA methods.\n",
    "    The contribution tree does not contain activities if they are from a database in db_cut (to avoid \n",
    "    having details on ecoinvent datasets and to stay in my own model) and has the maximum level max_level.\n",
    "    Columns for the returned table: level, activity, database, and str(method) for all LCIA method explored.\n",
    "    \"\"\"\n",
    "    \n",
    "    lca_score = lca_results({activity: amount}, lcia_methods)\n",
    "    table = pd.DataFrame([[level, activity[\"name\"], db_activity]+ list(lca_score[\"score\"])], columns=[\"level\", \"activity\", \"database\"]+[str(m) for m in lcia_methods])\n",
    "    if level < max_level:\n",
    "        for exc in activity.technosphere():\n",
    "            db_exc = exc.input['database']\n",
    "            go_forward = True\n",
    "            for stop_word in db_cut:\n",
    "                if stop_word in db_exc:\n",
    "                    go_forward = False\n",
    "            if go_forward:\n",
    "                table = pd.concat([table, table_recursive_multi_calculation_dbcut(\n",
    "                    activity=exc.input, \n",
    "                    lcia_methods=lcia_methods, \n",
    "                    amount=amount * exc['amount'], \n",
    "                    level=level + 1, \n",
    "                    max_level=max_level,\n",
    "                    db_activity = db_exc\n",
    "                )], ignore_index=True)\n",
    "    return table"
   ]
  },
  {
   "cell_type": "markdown",
   "id": "46783ec4-5dc2-44f6-8c2f-c95503e62964",
   "metadata": {},
   "source": [
    "## Figures\n",
    "\n",
    "Here is a way to generate a box plot figure."
   ]
  },
  {
   "cell_type": "code",
   "execution_count": 76,
   "id": "99e1abf9-859e-4e53-b4cd-195108688711",
   "metadata": {},
   "outputs": [],
   "source": [
    "own_colors = {\n",
    "    \"motor production\":\"#1f78b4\", #blue\n",
    "    \"motor use\":\"#969696\", #gray\n",
    "    \"motor EoL treatment\": \"#41ae76\", #green\n",
    "    \"motor testing\":\"#fff7bc\" #yellow\n",
    "}"
   ]
  },
  {
   "cell_type": "code",
   "execution_count": 77,
   "id": "2fbd4dd5-f71d-4b2e-bb0f-5a4148423b48",
   "metadata": {},
   "outputs": [],
   "source": [
    "table_results = table_recursive_multi_calculation_dbcut(\n",
    "    activity = motor_db.get(\"motor EoL treatment\"), \n",
    "    lcia_methods=[gw_method, csi_method], \n",
    "    amount = 1/lifetime,\n",
    "    max_level = 3\n",
    ")"
   ]
  },
  {
   "cell_type": "code",
   "execution_count": 78,
   "id": "7d177097-7c50-4d1f-a80d-c64b4e3eab6c",
   "metadata": {},
   "outputs": [],
   "source": [
    "def basic_bar_chart(table_results, legend_x_axis, own_colors=own_colors):\n",
    "    table_figure = table_results.set_index(table_results[\"activity\"])\n",
    "    number_methods = table_figure.shape[1] - 3\n",
    "\n",
    "    fig, ax = plt.subplots(1, number_methods)\n",
    "    x_axis = [0]\n",
    "\n",
    "    for n_fig, method in enumerate(table_figure.columns[3:]):\n",
    "        for activity in table_figure.index:\n",
    "            if n_fig == 0:\n",
    "                ax[n_fig].bar(\n",
    "                    x_axis, \n",
    "                    table_figure.loc[activity, method], \n",
    "                    label=activity, \n",
    "                    color=own_colors[activity]\n",
    "                )\n",
    "            else:\n",
    "                ax[n_fig].bar(\n",
    "                    x_axis, \n",
    "                    table_figure.loc[activity, method], \n",
    "                    color=own_colors[activity]\n",
    "                )\n",
    "    \n",
    "    fig.tight_layout()\n",
    "    for n_fig in range(number_methods):\n",
    "        ax[n_fig].grid(True, axis='y', linewidth=0.4)\n",
    "        ax[n_fig].set_xticks(x_axis)\n",
    "        ax[n_fig].set_xticklabels([legend_x_axis[n_fig]], fontsize=14)\n",
    "    \n",
    "    fig.legend(loc='lower center', ncol=5)\n",
    "    plt.subplots_adjust(bottom=0.15)\n",
    "    \n",
    "    return plt.show()"
   ]
  },
  {
   "cell_type": "code",
   "execution_count": 79,
   "id": "767312c3-fe5d-44c4-9480-530a80a8b7d3",
   "metadata": {},
   "outputs": [
    {
     "data": {
      "image/png": "[encoded data removed]",
      "text/plain": [
       "<Figure size 640x480 with 2 Axes>"
      ]
     },
     "metadata": {},
     "output_type": "display_data"
    }
   ],
   "source": [
    "basic_bar_chart(\n",
    "    table_results,\n",
    "    [\"GW\", \"CSI\"]\n",
    ")"
   ]
  },
  {
   "cell_type": "markdown",
   "id": "e12b37b4-52f5-40b5-8081-b8e4730189a1",
   "metadata": {},
   "source": [
    "# Different scenarios"
   ]
  },
  {
   "cell_type": "markdown",
   "id": "11ecb341-9b54-4fa4-a183-946a1546ea5f",
   "metadata": {},
   "source": [
    "## Data"
   ]
  },
  {
   "cell_type": "code",
   "execution_count": 80,
   "id": "aee92698-0648-4e54-b79f-d52dff599cee",
   "metadata": {},
   "outputs": [],
   "source": [
    "data_low_efficiency = {\n",
    "    \"qt_steel_unalloyed\": 26600, #kg\n",
    "    \"qt_steel_low_alloyed\": 4100, #kg\n",
    "    \"qt_copper\": 3600, #kg\n",
    "    \"qt_insulation\": 400, #kg\n",
    "    \"weight_motor\": 26600+4100+3600+400, #kg\n",
    "    \"lifetime\": 20, #years\n",
    "    \"efficiency\": 0.973\n",
    "}"
   ]
  },
  {
   "cell_type": "code",
   "execution_count": 81,
   "id": "cf201bc4-b76d-4229-81b4-b10169a0da34",
   "metadata": {},
   "outputs": [],
   "source": [
    "data_high_efficiency = {\n",
    "    \"qt_steel_unalloyed\": 18000, #kg\n",
    "    \"qt_steel_low_alloyed\": 9200, #kg\n",
    "    \"qt_copper\": 3800, #kg\n",
    "    \"qt_insulation\": 300, #kg\n",
    "    \"weight_motor\": 18000+9200+3800+300, #kg\n",
    "    \"lifetime\": 20, #years\n",
    "    \"efficiency\": 0.9835\n",
    "}"
   ]
  },
  {
   "cell_type": "code",
   "execution_count": 82,
   "id": "ec1ec395-28d0-4da3-a6b2-8f0f9c683ddf",
   "metadata": {},
   "outputs": [],
   "source": [
    "data_repair_low_efficiency = {\n",
    "    \"qt_steel_unalloyed\": 26600, #kg\n",
    "    \"qt_steel_low_alloyed\": 4100, #kg\n",
    "    \"qt_copper\": 3600*1.5, #kg\n",
    "    \"qt_insulation\": 400*1.5, #kg\n",
    "    \"weight_motor\": 26600+4100+3600*1.5+400*1.5, #kg\n",
    "    \"lifetime\": 40, #years\n",
    "    \"efficiency\": 0.973\n",
    "}"
   ]
  },
  {
   "cell_type": "code",
   "execution_count": 83,
   "id": "ed24166d-a1db-4c21-96d3-3534b7f56554",
   "metadata": {},
   "outputs": [],
   "source": [
    "data_repair_high_efficiency = {\n",
    "    \"qt_steel_unalloyed\": 18000, #kg\n",
    "    \"qt_steel_low_alloyed\": 9200, #kg\n",
    "    \"qt_copper\": 3800*1.5, #kg\n",
    "    \"qt_insulation\": 300*1.5, #kg\n",
    "    \"weight_motor\": 18000+9200+3800*1.5+300*1.5, #kg\n",
    "    \"lifetime\": 40, #years\n",
    "    \"efficiency\": 0.9835\n",
    "}"
   ]
  },
  {
   "cell_type": "markdown",
   "id": "d4a40d29-5afd-4d36-bb42-bea362fdfbc6",
   "metadata": {},
   "source": [
    "## Generation of results"
   ]
  },
  {
   "cell_type": "code",
   "execution_count": 84,
   "id": "484b3641-a51f-45b7-a244-19c5855cab8c",
   "metadata": {},
   "outputs": [],
   "source": [
    "dict_scenarios = {\n",
    "    \"low efficiency\": data_low_efficiency, \n",
    "    \"high efficiency\": data_high_efficiency, \n",
    "    \"repair low efficiency\": data_repair_low_efficiency, \n",
    "    \"repair high efficiency\": data_repair_high_efficiency\n",
    "}"
   ]
  },
  {
   "cell_type": "code",
   "execution_count": 85,
   "id": "aa6957a4-b150-44f1-8827-a509be96e88c",
   "metadata": {},
   "outputs": [],
   "source": [
    "def return_table_results_scenarios(dict_scenarios, methods=[gw_method, csi_method]):\n",
    "    results_table = pd.DataFrame()\n",
    "    for name, data in dict_scenarios.items():\n",
    "        create_motor_system(**data)\n",
    "        functional_unit = {motor_db.get(\"motor EoL treatment\"): 1/data[\"lifetime\"]}\n",
    "        results_table_scenario = lca_results(functional_unit, methods)\n",
    "        results_table_scenario[\"scenario\"] = name\n",
    "        results_table = pd.concat([results_table, results_table_scenario], ignore_index=True)\n",
    "    return results_table"
   ]
  },
  {
   "cell_type": "code",
   "execution_count": 86,
   "id": "b7a73b95-a5ea-4a98-8afc-b41950023340",
   "metadata": {},
   "outputs": [],
   "source": [
    "table_results_scenarios = return_table_results_scenarios(dict_scenarios)"
   ]
  },
  {
   "cell_type": "code",
   "execution_count": 87,
   "id": "9c45d4ad-408c-4976-a9e7-adf62d963850",
   "metadata": {},
   "outputs": [
    {
     "data": {
      "text/html": [
       "<div>\n",
       "<style scoped>\n",
       "    .dataframe tbody tr th:only-of-type {\n",
       "        vertical-align: middle;\n",
       "    }\n",
       "\n",
       "    .dataframe tbody tr th {\n",
       "        vertical-align: top;\n",
       "    }\n",
       "\n",
       "    .dataframe thead th {\n",
       "        text-align: right;\n",
       "    }\n",
       "</style>\n",
       "<table border=\"1\" class=\"dataframe\">\n",
       "  <thead>\n",
       "    <tr style=\"text-align: right;\">\n",
       "      <th></th>\n",
       "      <th>score</th>\n",
       "      <th>unit</th>\n",
       "      <th>method</th>\n",
       "      <th>scenario</th>\n",
       "    </tr>\n",
       "  </thead>\n",
       "  <tbody>\n",
       "    <tr>\n",
       "      <th>0</th>\n",
       "      <td>1.261332e+05</td>\n",
       "      <td>kg CO2-Eq</td>\n",
       "      <td>(EF v3.1, climate change, global warming poten...</td>\n",
       "      <td>low efficiency</td>\n",
       "    </tr>\n",
       "    <tr>\n",
       "      <th>1</th>\n",
       "      <td>2.419240e+07</td>\n",
       "      <td>kg Si-Eq</td>\n",
       "      <td>(Crustal Scarcity Indicator 2020, material res...</td>\n",
       "      <td>low efficiency</td>\n",
       "    </tr>\n",
       "    <tr>\n",
       "      <th>2</th>\n",
       "      <td>7.768787e+04</td>\n",
       "      <td>kg CO2-Eq</td>\n",
       "      <td>(EF v3.1, climate change, global warming poten...</td>\n",
       "      <td>high efficiency</td>\n",
       "    </tr>\n",
       "    <tr>\n",
       "      <th>3</th>\n",
       "      <td>1.736572e+07</td>\n",
       "      <td>kg Si-Eq</td>\n",
       "      <td>(Crustal Scarcity Indicator 2020, material res...</td>\n",
       "      <td>high efficiency</td>\n",
       "    </tr>\n",
       "    <tr>\n",
       "      <th>4</th>\n",
       "      <td>1.243726e+05</td>\n",
       "      <td>kg CO2-Eq</td>\n",
       "      <td>(EF v3.1, climate change, global warming poten...</td>\n",
       "      <td>repair low efficiency</td>\n",
       "    </tr>\n",
       "    <tr>\n",
       "      <th>5</th>\n",
       "      <td>2.258877e+07</td>\n",
       "      <td>kg Si-Eq</td>\n",
       "      <td>(Crustal Scarcity Indicator 2020, material res...</td>\n",
       "      <td>repair low efficiency</td>\n",
       "    </tr>\n",
       "    <tr>\n",
       "      <th>6</th>\n",
       "      <td>7.605343e+04</td>\n",
       "      <td>kg CO2-Eq</td>\n",
       "      <td>(EF v3.1, climate change, global warming poten...</td>\n",
       "      <td>repair high efficiency</td>\n",
       "    </tr>\n",
       "    <tr>\n",
       "      <th>7</th>\n",
       "      <td>1.567980e+07</td>\n",
       "      <td>kg Si-Eq</td>\n",
       "      <td>(Crustal Scarcity Indicator 2020, material res...</td>\n",
       "      <td>repair high efficiency</td>\n",
       "    </tr>\n",
       "  </tbody>\n",
       "</table>\n",
       "</div>"
      ],
      "text/plain": [
       "          score       unit                                             method  \\\n",
       "0  1.261332e+05  kg CO2-Eq  (EF v3.1, climate change, global warming poten...   \n",
       "1  2.419240e+07   kg Si-Eq  (Crustal Scarcity Indicator 2020, material res...   \n",
       "2  7.768787e+04  kg CO2-Eq  (EF v3.1, climate change, global warming poten...   \n",
       "3  1.736572e+07   kg Si-Eq  (Crustal Scarcity Indicator 2020, material res...   \n",
       "4  1.243726e+05  kg CO2-Eq  (EF v3.1, climate change, global warming poten...   \n",
       "5  2.258877e+07   kg Si-Eq  (Crustal Scarcity Indicator 2020, material res...   \n",
       "6  7.605343e+04  kg CO2-Eq  (EF v3.1, climate change, global warming poten...   \n",
       "7  1.567980e+07   kg Si-Eq  (Crustal Scarcity Indicator 2020, material res...   \n",
       "\n",
       "                 scenario  \n",
       "0          low efficiency  \n",
       "1          low efficiency  \n",
       "2         high efficiency  \n",
       "3         high efficiency  \n",
       "4   repair low efficiency  \n",
       "5   repair low efficiency  \n",
       "6  repair high efficiency  \n",
       "7  repair high efficiency  "
      ]
     },
     "execution_count": 87,
     "metadata": {},
     "output_type": "execute_result"
    }
   ],
   "source": [
    "table_results_scenarios"
   ]
  },
  {
   "cell_type": "markdown",
   "id": "a39f98f8-9650-402f-90d4-e2d0e216f2e4",
   "metadata": {},
   "source": [
    "## Figures"
   ]
  },
  {
   "cell_type": "code",
   "execution_count": 88,
   "id": "2d5808ec-31c6-4dea-bc82-f506a5ecaa99",
   "metadata": {},
   "outputs": [],
   "source": [
    "def figure_comparison_scenarios(table_results_scenarios, legend_x_axis):\n",
    "    number_methods = 2\n",
    "\n",
    "    fig, ax = plt.subplots(1, number_methods)\n",
    "    x_axis = [i for i in range(len(dict_scenarios))]\n",
    "\n",
    "    for index in table_results_scenarios.index:\n",
    "        ax[index%2].bar(x_axis[index//2], table_results_scenarios.loc[index, \"score\"])\n",
    "    \n",
    "    fig.tight_layout()\n",
    "    for n_fig in range(number_methods):\n",
    "        ax[n_fig].grid(True, axis='y', linewidth=0.4)\n",
    "        ax[n_fig].set_xticks(x_axis)\n",
    "        ax[n_fig].set_xticklabels(legend_x_axis, rotation=90)\n",
    "        ax[n_fig].set_ylabel(table_results_scenarios.loc[n_fig, \"unit\"])\n",
    "\n",
    "    plt.subplots_adjust(wspace=0.3)\n",
    "    \n",
    "    return plt.show()"
   ]
  },
  {
   "cell_type": "code",
   "execution_count": 89,
   "id": "dccaee2d-996d-4517-9b04-e27a877ea8e1",
   "metadata": {},
   "outputs": [
    {
     "data": {
      "image/png": "[encoded data removed]",
      "text/plain": [
       "<Figure size 640x480 with 2 Axes>"
      ]
     },
     "metadata": {},
     "output_type": "display_data"
    }
   ],
   "source": [
    "figure_comparison_scenarios(table_results_scenarios, list(dict_scenarios.keys()))"
   ]
  },
  {
   "cell_type": "code",
   "execution_count": null,
   "id": "327173b4-bfb3-4c5a-b1eb-f336a29e8734",
   "metadata": {},
   "outputs": [],
   "source": []
  }
 ],
 "metadata": {
  "kernelspec": {
   "display_name": "Python 3 (ipykernel)",
   "language": "python",
   "name": "python3"
  },
  "language_info": {
   "codemirror_mode": {
    "name": "ipython",
    "version": 3
   },
   "file_extension": ".py",
   "mimetype": "text/x-python",
   "name": "python",
   "nbconvert_exporter": "python",
   "pygments_lexer": "ipython3",
   "version": "3.11.6"
  }
 },
 "nbformat": 4,
 "nbformat_minor": 5
}
