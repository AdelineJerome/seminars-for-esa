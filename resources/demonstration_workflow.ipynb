{
 "cells": [
  {
   "cell_type": "markdown",
   "id": "21285567-8375-4c0d-bfa7-99dbe640a407",
   "metadata": {},
   "source": [
    "This notebook has been developed to show how coding with brightway while still using the Activity Browser looks like.\n",
    "\n",
    "More information on the seminars can be found [here](https://adelinejerome.github.io/seminars-for-esa/)."
   ]
  },
  {
   "cell_type": "markdown",
   "id": "3540f99f-00ac-471b-b067-c75f4dab5cdc",
   "metadata": {},
   "source": [
    "# Importing packages"
   ]
  },
  {
   "cell_type": "code",
   "execution_count": 15,
   "id": "49c6e779-0ec4-4caa-9fa5-1226706199b1",
   "metadata": {},
   "outputs": [],
   "source": [
    "# Brightway\n",
    "import bw2data as bd\n",
    "import bw2io as bi\n",
    "import bw2calc as bc\n",
    "import bw2analyzer as bwa\n",
    "\n",
    "# Others\n",
    "import pandas as pd\n",
    "import matplotlib.pyplot as plt"
   ]
  },
  {
   "cell_type": "markdown",
   "id": "f0f894aa-4230-4c40-b8bd-29962ca49922",
   "metadata": {},
   "source": [
    "# Open a project and a database"
   ]
  },
  {
   "cell_type": "code",
   "execution_count": 16,
   "id": "c3b90e19-49de-427e-ac02-1b2f403689c1",
   "metadata": {},
   "outputs": [],
   "source": [
    "bd.projects.set_current(\"brightway2_test\")"
   ]
  },
  {
   "cell_type": "code",
   "execution_count": 17,
   "id": "f535edc0-2451-44a1-8b73-f41cecd7cde5",
   "metadata": {},
   "outputs": [],
   "source": [
    "motor_db = bd.Database(\"motor_case\")"
   ]
  },
  {
   "cell_type": "markdown",
   "id": "2fc328d3-fb48-4c22-9ce9-08e74728af93",
   "metadata": {},
   "source": [
    "# After modelling on the AB"
   ]
  },
  {
   "cell_type": "markdown",
   "id": "65a8ea26-fd0e-47e1-b424-cb10a6186adf",
   "metadata": {},
   "source": [
    "## Selection of impact assessment methods"
   ]
  },
  {
   "cell_type": "markdown",
   "id": "9d5295e3-0442-46a4-b339-d23055398dfb",
   "metadata": {},
   "source": [
    "Global warming EF 3.1:"
   ]
  },
  {
   "cell_type": "code",
   "execution_count": 18,
   "id": "2063c5e3-222c-49e5-adab-57083d512c22",
   "metadata": {},
   "outputs": [],
   "source": [
    "gw_method = ('EF v3.1', 'climate change', 'global warming potential (GWP100)')"
   ]
  },
  {
   "cell_type": "markdown",
   "id": "aa23dcca-cdd0-4bba-bce1-b372d68389f3",
   "metadata": {},
   "source": [
    "Crustal scarcity indicator:"
   ]
  },
  {
   "cell_type": "code",
   "execution_count": 19,
   "id": "dc12c78b-e37b-4db2-950b-bbe553aabe92",
   "metadata": {},
   "outputs": [],
   "source": [
    "csi_method = [method for method in bd.methods if \"Crustal\" in str(method)][0]"
   ]
  },
  {
   "cell_type": "markdown",
   "id": "abc144b6-0068-49ae-902a-320bbf6e0822",
   "metadata": {},
   "source": [
    "## Selection of functional unit"
   ]
  },
  {
   "cell_type": "code",
   "execution_count": 20,
   "id": "6f0518f2-526c-4a99-bdfb-fc0ec7caba04",
   "metadata": {},
   "outputs": [],
   "source": [
    "# Value of the lifetime\n",
    "lifetime = 20 #years"
   ]
  },
  {
   "cell_type": "code",
   "execution_count": 21,
   "id": "e7232612-789a-425e-9326-68da255ee008",
   "metadata": {},
   "outputs": [],
   "source": [
    "functional_unit = {motor_db.get(\"motor EoL treatment\"): 1/lifetime}"
   ]
  },
  {
   "cell_type": "markdown",
   "id": "3915c948-00e0-4e1d-9880-16b3b632afd5",
   "metadata": {},
   "source": [
    "## Impact assessment"
   ]
  },
  {
   "cell_type": "code",
   "execution_count": 22,
   "id": "689722a3-ee8b-4d28-bbb6-e777a9af7a5e",
   "metadata": {},
   "outputs": [],
   "source": [
    "def lca_results(fu, list_methods):\n",
    "    list_units = [bd.methods.get(method)[\"unit\"] for method in list_methods]\n",
    "    lca = bc.LCA(demand=fu, method=list_methods[0])\n",
    "    lca.lci()\n",
    "    lca.lcia()\n",
    "    list_scores = [lca.score]\n",
    "    for method in list_methods[1:]:\n",
    "        lca.switch_method(method)\n",
    "        lca.lcia()\n",
    "        list_scores.append(lca.score)\n",
    "    return pd.DataFrame({\"score\": list_scores, \"unit\": list_units, \"method\": list_methods})"
   ]
  },
  {
   "cell_type": "code",
   "execution_count": 23,
   "id": "167ee7fd-bef9-49c4-bf16-564dd27bd71b",
   "metadata": {},
   "outputs": [
    {
     "data": {
      "text/html": [
       "<div>\n",
       "<style scoped>\n",
       "    .dataframe tbody tr th:only-of-type {\n",
       "        vertical-align: middle;\n",
       "    }\n",
       "\n",
       "    .dataframe tbody tr th {\n",
       "        vertical-align: top;\n",
       "    }\n",
       "\n",
       "    .dataframe thead th {\n",
       "        text-align: right;\n",
       "    }\n",
       "</style>\n",
       "<table border=\"1\" class=\"dataframe\">\n",
       "  <thead>\n",
       "    <tr style=\"text-align: right;\">\n",
       "      <th></th>\n",
       "      <th>score</th>\n",
       "      <th>unit</th>\n",
       "      <th>method</th>\n",
       "    </tr>\n",
       "  </thead>\n",
       "  <tbody>\n",
       "    <tr>\n",
       "      <th>0</th>\n",
       "      <td>4.136072e+05</td>\n",
       "      <td>kg CO2-Eq</td>\n",
       "      <td>(EF v3.1, climate change, global warming poten...</td>\n",
       "    </tr>\n",
       "    <tr>\n",
       "      <th>1</th>\n",
       "      <td>7.013956e+07</td>\n",
       "      <td>kg Si-Eq</td>\n",
       "      <td>(Crustal Scarcity Indicator 2020, material res...</td>\n",
       "    </tr>\n",
       "  </tbody>\n",
       "</table>\n",
       "</div>"
      ],
      "text/plain": [
       "          score       unit                                             method\n",
       "0  4.136072e+05  kg CO2-Eq  (EF v3.1, climate change, global warming poten...\n",
       "1  7.013956e+07   kg Si-Eq  (Crustal Scarcity Indicator 2020, material res..."
      ]
     },
     "execution_count": 23,
     "metadata": {},
     "output_type": "execute_result"
    }
   ],
   "source": [
    "lca_results(functional_unit, [gw_method, csi_method])"
   ]
  },
  {
   "cell_type": "markdown",
   "id": "da60df8d-f970-437f-9c0c-8a93746e3494",
   "metadata": {},
   "source": [
    "## Figures"
   ]
  },
  {
   "cell_type": "markdown",
   "id": "cfefa2b4-f0e9-4ebf-a7dc-bc93c4130801",
   "metadata": {},
   "source": [
    "## Generate the data to be plotted"
   ]
  },
  {
   "cell_type": "code",
   "execution_count": 24,
   "id": "b24042b3-27eb-422d-bb5c-c4e19ff1cdb6",
   "metadata": {},
   "outputs": [],
   "source": [
    "def table_recursive_multi_calculation_dbcut(activity, lcia_methods, amount=1, level=0, max_level=3, db_activity='motor_case', db_cut=['ecoinvent', 'biosphere']):\n",
    "    \"\"\"\n",
    "    Returns a table (DataFrame) with the contribution tree for a given activity and various LCIA methods.\n",
    "    The contribution tree does not contain activities if they are from a database in db_cut (to avoid \n",
    "    having details on ecoinvent datasets and to stay in my own model) and has the maximum level max_level.\n",
    "    Columns for the returned table: level, activity, database, and str(method) for all LCIA method explored.\n",
    "    \"\"\"\n",
    "    \n",
    "    lca_score = lca_results({activity: amount}, lcia_methods)\n",
    "    table = pd.DataFrame([[level, activity[\"name\"], db_activity]+ list(lca_score[\"score\"])], columns=[\"level\", \"activity\", \"database\"]+[str(m) for m in lcia_methods])\n",
    "    if level < max_level:\n",
    "        for exc in activity.technosphere():\n",
    "            db_exc = exc.input['database']\n",
    "            go_forward = True\n",
    "            for stop_word in db_cut:\n",
    "                if stop_word in db_exc:\n",
    "                    go_forward = False\n",
    "            if go_forward:\n",
    "                table = pd.concat([table, table_recursive_multi_calculation_dbcut(\n",
    "                    activity=exc.input, \n",
    "                    lcia_methods=lcia_methods, \n",
    "                    amount=amount * exc['amount'], \n",
    "                    level=level + 1, \n",
    "                    max_level=max_level,\n",
    "                    db_activity = db_exc\n",
    "                )], ignore_index=True)\n",
    "    return table"
   ]
  },
  {
   "cell_type": "code",
   "execution_count": 25,
   "id": "750d16af-9ac5-43cd-9dc3-da7abff5164c",
   "metadata": {},
   "outputs": [],
   "source": [
    "table_results = table_recursive_multi_calculation_dbcut(\n",
    "    activity = motor_db.get(\"motor EoL treatment\"), \n",
    "    lcia_methods=[gw_method, csi_method], \n",
    "    amount = 1/lifetime,\n",
    "    max_level = 3\n",
    ")"
   ]
  },
  {
   "cell_type": "markdown",
   "id": "fbdd6d83-15ae-4331-9713-166c8f3f671d",
   "metadata": {},
   "source": [
    "### Select characteristics for the figure"
   ]
  },
  {
   "cell_type": "code",
   "execution_count": 26,
   "id": "68314ca4-3981-41e6-99b0-b223ffadfec5",
   "metadata": {},
   "outputs": [],
   "source": [
    "own_colors = {\n",
    "    \"motor production\":\"#1f78b4\", #blue\n",
    "    \"motor use\":\"#969696\", #gray\n",
    "    \"motor EoL treatment\": \"#41ae76\", #green\n",
    "    \"motor testing\":\"#fff7bc\" #yellow\n",
    "}"
   ]
  },
  {
   "cell_type": "markdown",
   "id": "138da1f5-8f8d-43bb-be41-66ca9f3cac46",
   "metadata": {},
   "source": [
    "### Figure generation"
   ]
  },
  {
   "cell_type": "code",
   "execution_count": 27,
   "id": "7c1c8f70-9284-49f4-a208-a37ee427061b",
   "metadata": {},
   "outputs": [],
   "source": [
    "def basic_bar_chart(table_results, legend_x_axis, own_colors=own_colors):\n",
    "    table_figure = table_results.set_index(table_results[\"activity\"])\n",
    "    number_methods = table_figure.shape[1] - 3\n",
    "\n",
    "    fig, ax = plt.subplots(1, number_methods)\n",
    "    x_axis = [0]\n",
    "\n",
    "    for n_fig, method in enumerate(table_figure.columns[3:]):\n",
    "        for activity in table_figure.index:\n",
    "            if n_fig == 0:\n",
    "                ax[n_fig].bar(\n",
    "                    x_axis, \n",
    "                    table_figure.loc[activity, method], \n",
    "                    label=activity, \n",
    "                    color=own_colors[activity]\n",
    "                )\n",
    "            else:\n",
    "                ax[n_fig].bar(\n",
    "                    x_axis, \n",
    "                    table_figure.loc[activity, method], \n",
    "                    color=own_colors[activity]\n",
    "                )\n",
    "    \n",
    "    fig.tight_layout()\n",
    "    for n_fig in range(number_methods):\n",
    "        ax[n_fig].grid(True, axis='y', linewidth=0.4)\n",
    "        ax[n_fig].set_xticks(x_axis)\n",
    "        ax[n_fig].set_xticklabels([legend_x_axis[n_fig]], fontsize=14)\n",
    "    \n",
    "    fig.legend(loc='lower center', ncol=5)\n",
    "    plt.subplots_adjust(bottom=0.15)\n",
    "    \n",
    "    return plt.show()"
   ]
  },
  {
   "cell_type": "code",
   "execution_count": 28,
   "id": "9a89fcb5-9ab3-470a-b669-f9e55e107a80",
   "metadata": {},
   "outputs": [
    {
     "data": {
      "image/png": "[encoded data removed]",
      "text/plain": [
       "<Figure size 640x480 with 2 Axes>"
      ]
     },
     "metadata": {},
     "output_type": "display_data"
    }
   ],
   "source": [
    "basic_bar_chart(\n",
    "    table_results,\n",
    "    [\"GW\", \"CSI\"]\n",
    ")"
   ]
  },
  {
   "cell_type": "code",
   "execution_count": null,
   "id": "3f9d847a-af03-45ad-980b-abe1a18d02c0",
   "metadata": {},
   "outputs": [],
   "source": []
  }
 ],
 "metadata": {
  "kernelspec": {
   "display_name": "Python 3 (ipykernel)",
   "language": "python",
   "name": "python3"
  },
  "language_info": {
   "codemirror_mode": {
    "name": "ipython",
    "version": 3
   },
   "file_extension": ".py",
   "mimetype": "text/x-python",
   "name": "python",
   "nbconvert_exporter": "python",
   "pygments_lexer": "ipython3",
   "version": "3.11.6"
  }
 },
 "nbformat": 4,
 "nbformat_minor": 5
}
